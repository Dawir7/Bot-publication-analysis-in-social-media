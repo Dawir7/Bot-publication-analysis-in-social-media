{
 "cells": [
  {
   "cell_type": "markdown",
   "metadata": {},
   "source": [
    "# Data Label"
   ]
  },
  {
   "cell_type": "markdown",
   "metadata": {},
   "source": [
    "## Import"
   ]
  },
  {
   "cell_type": "code",
   "execution_count": 1,
   "metadata": {},
   "outputs": [],
   "source": [
    "import pandas as pd\n",
    "import matplotlib.pyplot as plt\n",
    "import re\n",
    "\n",
    "import emoji\n",
    "import re"
   ]
  },
  {
   "cell_type": "markdown",
   "metadata": {},
   "source": [
    "## Load data"
   ]
  },
  {
   "cell_type": "code",
   "execution_count": 2,
   "metadata": {},
   "outputs": [],
   "source": [
    "posts_df = pd.read_csv('..\\\\data\\\\all_posts-merged.csv')\n",
    "comments_df = pd.read_csv('..\\\\data\\\\all_comments-merged.csv')\n",
    "users_df = pd.read_csv('..\\\\data\\\\user_data-merged.csv')"
   ]
  },
  {
   "cell_type": "code",
   "execution_count": 3,
   "metadata": {},
   "outputs": [
    {
     "data": {
      "text/html": [
       "<div>\n",
       "<style scoped>\n",
       "    .dataframe tbody tr th:only-of-type {\n",
       "        vertical-align: middle;\n",
       "    }\n",
       "\n",
       "    .dataframe tbody tr th {\n",
       "        vertical-align: top;\n",
       "    }\n",
       "\n",
       "    .dataframe thead th {\n",
       "        text-align: right;\n",
       "    }\n",
       "</style>\n",
       "<table border=\"1\" class=\"dataframe\">\n",
       "  <thead>\n",
       "    <tr style=\"text-align: right;\">\n",
       "      <th></th>\n",
       "      <th>subreddit</th>\n",
       "      <th>username</th>\n",
       "      <th>name</th>\n",
       "      <th>title</th>\n",
       "      <th>text</th>\n",
       "      <th>is_original_content</th>\n",
       "      <th>num_comments</th>\n",
       "      <th>score</th>\n",
       "      <th>upvote_ratio</th>\n",
       "      <th>date</th>\n",
       "    </tr>\n",
       "  </thead>\n",
       "  <tbody>\n",
       "    <tr>\n",
       "      <th>0</th>\n",
       "      <td>AskReddit</td>\n",
       "      <td>elevate-digital</td>\n",
       "      <td>t3_1fxlnxv</td>\n",
       "      <td>Guys with extremely loud vehicles, why do you ...</td>\n",
       "      <td>NaN</td>\n",
       "      <td>False</td>\n",
       "      <td>8421</td>\n",
       "      <td>20664</td>\n",
       "      <td>0.87</td>\n",
       "      <td>2024-10-06 17:20:58</td>\n",
       "    </tr>\n",
       "  </tbody>\n",
       "</table>\n",
       "</div>"
      ],
      "text/plain": [
       "   subreddit         username        name  \\\n",
       "0  AskReddit  elevate-digital  t3_1fxlnxv   \n",
       "\n",
       "                                               title text  \\\n",
       "0  Guys with extremely loud vehicles, why do you ...  NaN   \n",
       "\n",
       "   is_original_content  num_comments  score  upvote_ratio                 date  \n",
       "0                False          8421  20664          0.87  2024-10-06 17:20:58  "
      ]
     },
     "metadata": {},
     "output_type": "display_data"
    },
    {
     "data": {
      "text/html": [
       "<div>\n",
       "<style scoped>\n",
       "    .dataframe tbody tr th:only-of-type {\n",
       "        vertical-align: middle;\n",
       "    }\n",
       "\n",
       "    .dataframe tbody tr th {\n",
       "        vertical-align: top;\n",
       "    }\n",
       "\n",
       "    .dataframe thead th {\n",
       "        text-align: right;\n",
       "    }\n",
       "</style>\n",
       "<table border=\"1\" class=\"dataframe\">\n",
       "  <thead>\n",
       "    <tr style=\"text-align: right;\">\n",
       "      <th></th>\n",
       "      <th>subreddit</th>\n",
       "      <th>username</th>\n",
       "      <th>body</th>\n",
       "      <th>post_title</th>\n",
       "      <th>score</th>\n",
       "      <th>num_replies</th>\n",
       "      <th>is_submitter</th>\n",
       "      <th>id</th>\n",
       "      <th>parent_id</th>\n",
       "      <th>stickied</th>\n",
       "      <th>date</th>\n",
       "    </tr>\n",
       "  </thead>\n",
       "  <tbody>\n",
       "    <tr>\n",
       "      <th>0</th>\n",
       "      <td>AskReddit</td>\n",
       "      <td>thedudear</td>\n",
       "      <td>I used to own an insanely loud vehicle. A Pont...</td>\n",
       "      <td>Guys with extremely loud vehicles, why do you ...</td>\n",
       "      <td>2045</td>\n",
       "      <td>6</td>\n",
       "      <td>False</td>\n",
       "      <td>lqpnfpr</td>\n",
       "      <td>t3_1fxlnxv</td>\n",
       "      <td>False</td>\n",
       "      <td>2024-10-07 01:35:59</td>\n",
       "    </tr>\n",
       "  </tbody>\n",
       "</table>\n",
       "</div>"
      ],
      "text/plain": [
       "   subreddit   username                                               body  \\\n",
       "0  AskReddit  thedudear  I used to own an insanely loud vehicle. A Pont...   \n",
       "\n",
       "                                          post_title  score  num_replies  \\\n",
       "0  Guys with extremely loud vehicles, why do you ...   2045            6   \n",
       "\n",
       "   is_submitter       id   parent_id  stickied                 date  \n",
       "0         False  lqpnfpr  t3_1fxlnxv     False  2024-10-07 01:35:59  "
      ]
     },
     "metadata": {},
     "output_type": "display_data"
    },
    {
     "data": {
      "text/html": [
       "<div>\n",
       "<style scoped>\n",
       "    .dataframe tbody tr th:only-of-type {\n",
       "        vertical-align: middle;\n",
       "    }\n",
       "\n",
       "    .dataframe tbody tr th {\n",
       "        vertical-align: top;\n",
       "    }\n",
       "\n",
       "    .dataframe thead th {\n",
       "        text-align: right;\n",
       "    }\n",
       "</style>\n",
       "<table border=\"1\" class=\"dataframe\">\n",
       "  <thead>\n",
       "    <tr style=\"text-align: right;\">\n",
       "      <th></th>\n",
       "      <th>username</th>\n",
       "      <th>link_karma</th>\n",
       "      <th>comment_karma</th>\n",
       "      <th>account_age</th>\n",
       "      <th>is_verified</th>\n",
       "    </tr>\n",
       "  </thead>\n",
       "  <tbody>\n",
       "    <tr>\n",
       "      <th>0</th>\n",
       "      <td>yakfsh1</td>\n",
       "      <td>19830.0</td>\n",
       "      <td>88232.0</td>\n",
       "      <td>1440.0</td>\n",
       "      <td>True</td>\n",
       "    </tr>\n",
       "  </tbody>\n",
       "</table>\n",
       "</div>"
      ],
      "text/plain": [
       "  username  link_karma  comment_karma  account_age is_verified\n",
       "0  yakfsh1     19830.0        88232.0       1440.0        True"
      ]
     },
     "metadata": {},
     "output_type": "display_data"
    }
   ],
   "source": [
    "display(posts_df.head(1))\n",
    "display(comments_df.head(1))\n",
    "display(users_df.head(1))"
   ]
  },
  {
   "cell_type": "code",
   "execution_count": 4,
   "metadata": {},
   "outputs": [],
   "source": [
    "comments_df = comments_df.dropna(subset=['body'])"
   ]
  },
  {
   "cell_type": "code",
   "execution_count": 5,
   "metadata": {},
   "outputs": [
    {
     "data": {
      "text/plain": [
       "(Index(['subreddit', 'username', 'name', 'title', 'text', 'is_original_content',\n",
       "        'num_comments', 'score', 'upvote_ratio', 'date'],\n",
       "       dtype='object'),\n",
       " Index(['subreddit', 'username', 'body', 'post_title', 'score', 'num_replies',\n",
       "        'is_submitter', 'id', 'parent_id', 'stickied', 'date'],\n",
       "       dtype='object'),\n",
       " Index(['username', 'link_karma', 'comment_karma', 'account_age',\n",
       "        'is_verified'],\n",
       "       dtype='object'))"
      ]
     },
     "execution_count": 5,
     "metadata": {},
     "output_type": "execute_result"
    }
   ],
   "source": [
    "posts_df.columns, comments_df.columns, users_df.columns"
   ]
  },
  {
   "cell_type": "markdown",
   "metadata": {},
   "source": [
    "## Label Bots"
   ]
  },
  {
   "cell_type": "markdown",
   "metadata": {},
   "source": [
    "### Experiments"
   ]
  },
  {
   "cell_type": "code",
   "execution_count": 6,
   "metadata": {},
   "outputs": [
    {
     "name": "stdout",
     "output_type": "stream",
     "text": [
      "Number usernames with bot pattern: 1152\n",
      "Number usernames with digit pattern: 1704\n"
     ]
    }
   ],
   "source": [
    "usernames_series = pd.Series(users_df['username'])\n",
    "\n",
    "bot_part = [\"bot\", \"admin\", \"mod\", \"auto\", \"helper\", \"assist\", \"news\", \"alert\", \"info\"]\n",
    "diggit_pattern = r'[a-zA-Z]+[0-9]{5,}$'  # e.g., \"user123456\"\n",
    "\n",
    "pattern = '|'.join(bot_part)\n",
    "\n",
    "bot_usernames = usernames_series[usernames_series.str.contains(pattern, case=False)]\n",
    "digit_bot_usernames = usernames_series[usernames_series.str.contains(diggit_pattern)]\n",
    "unique_bot_usernames = bot_usernames.unique()\n",
    "\n",
    "print(f\"Number usernames with bot pattern: {len(unique_bot_usernames)}\")\n",
    "print(f\"Number usernames with digit pattern: {len(digit_bot_usernames)}\")"
   ]
  },
  {
   "cell_type": "code",
   "execution_count": 7,
   "metadata": {},
   "outputs": [
    {
     "name": "stdout",
     "output_type": "stream",
     "text": [
      "Number of users with more posts than median: 114\n",
      "Number of users with more comments than median: 59595\n"
     ]
    }
   ],
   "source": [
    "posts_per_user = posts_df['username'].value_counts()\n",
    "comments_per_user = comments_df['username'].value_counts()\n",
    "\n",
    "posts_median = posts_per_user.mean()\n",
    "comments_median = comments_per_user.mean()\n",
    "\n",
    "posts_above_median = posts_per_user[posts_per_user > posts_median]\n",
    "comments_above_median = comments_per_user[comments_per_user > comments_median]\n",
    "\n",
    "print(f\"Number of users with more posts than median: {len(posts_above_median)}\")\n",
    "print(f\"Number of users with more comments than median: {len(comments_above_median)}\")"
   ]
  },
  {
   "cell_type": "code",
   "execution_count": 8,
   "metadata": {},
   "outputs": [
    {
     "name": "stdout",
     "output_type": "stream",
     "text": [
      "Number of users with low karma: 408\n"
     ]
    }
   ],
   "source": [
    "users_with_low_karma = users_df[(users_df['link_karma'] < -10) | (users_df['comment_karma'] < -10)]\n",
    "\n",
    "print(f\"Number of users with low karma: {len(users_with_low_karma)}\")"
   ]
  },
  {
   "cell_type": "markdown",
   "metadata": {},
   "source": [
    "### Bot identification"
   ]
  },
  {
   "cell_type": "code",
   "execution_count": 9,
   "metadata": {},
   "outputs": [],
   "source": [
    "def count_slashes_and_emojis(df_comments):\n",
    "    # Weird looking comments indicate bots\n",
    "    df_comments = df_comments.copy()\n",
    "    \n",
    "    def count_special_chars(text):\n",
    "        backslashes = text.count('\\\\')\n",
    "        forwardslashes = text.count('/')\n",
    "        emojis = len([char for char in text if emoji.is_emoji(char)])\n",
    "        return backslashes + forwardslashes, emojis\n",
    "\n",
    "    df_comments[['slashes', 'emojis']] = df_comments['body'].apply(\n",
    "        lambda x: pd.Series(count_special_chars(x))\n",
    "    )\n",
    "    df_comments['slashes_emojis'] = df_comments['slashes'] + df_comments['emojis']\n",
    "\n",
    "    return df_comments\n",
    "\n",
    "def get_bot_usernames_from_comments(comments_df):\n",
    "    com = count_slashes_and_emojis(comments_df)\n",
    "\n",
    "    user_averages = com.groupby('username').agg({\n",
    "        'emojis': 'mean',\n",
    "        'slashes': 'mean',\n",
    "        'slashes_emojis': 'mean'\n",
    "    }).rename(columns={'emojis': 'avg_emojis', 'slashes': 'avg_slashes', 'slashes_emojis': 'avg_slashes_emojis'})\n",
    "\n",
    "    filtered_users = user_averages[\n",
    "        (user_averages['avg_slashes'] > 6) |\n",
    "        (user_averages['avg_emojis'] > 5) |\n",
    "        (user_averages['avg_slashes_emojis'] > 8)\n",
    "    ]\n",
    "\n",
    "    users_with_high_slashes = com[com['slashes'] > 10]['username'].unique()\n",
    "    users_with_high_emojis = com[com['emojis'] > 10]['username'].unique()\n",
    "    users_with_high_slashes_emojis = com[com['slashes_emojis'] > 15]['username'].unique()\n",
    "    unique_usernames = set(filtered_users.index) | set(users_with_high_slashes) | set(users_with_high_emojis) | set(users_with_high_slashes_emojis)\n",
    "\n",
    "    print(f\"Number of bot usernames from comments: {len(unique_usernames)}\")\n",
    "    return list(unique_usernames)\n"
   ]
  },
  {
   "cell_type": "code",
   "execution_count": 12,
   "metadata": {},
   "outputs": [],
   "source": [
    "def autolabel_bots(df_posts, df_comments, df_user_info):\n",
    "\n",
    "    df_combined = pd.concat([df_posts[['username', 'subreddit', 'title', 'text', 'score', 'upvote_ratio']],\n",
    "                             df_comments[['username', 'subreddit', 'body', 'score']]])\n",
    "\n",
    "    user_activity = df_combined.groupby('username').agg({\n",
    "        'title': 'count',\n",
    "        'text': 'count',\n",
    "        'body': 'count',\n",
    "        'score': 'mean',\n",
    "        'upvote_ratio': 'mean'\n",
    "    }).rename(columns={'title': 'num_posts', 'text': 'num_texts', 'body': 'num_comments', 'score': 'avg_score', 'upvote_ratio': 'avg_upvote_ratio'}).fillna(0)\n",
    "\n",
    "    df_users = pd.merge(df_user_info, user_activity, on='username', how='left').fillna(0)\n",
    "\n",
    "    bot_usernames = ['bot', 'auto', 'mod', 'helper', 'AI', 'assist', 'news', 'alert', 'info']\n",
    "    username_pattern = re.compile(r'\\b(' + '|'.join(bot_usernames) + r')\\b', re.IGNORECASE)\n",
    "    username_with_digits_pattern = re.compile(r'[a-zA-Z]+[0-9]{5,}$')  # e.g., \"user123456\"\n",
    "\n",
    "    counters = {\n",
    "        'username_pattern': 0,\n",
    "        'high_posting_frequency': 0,\n",
    "        'high_activity_new_account': 0,\n",
    "        'low_karma': 0,\n",
    "        'low_avg_score': 0,\n",
    "        'consistent_upvote': 0,\n",
    "        'karma_ratio': 0,\n",
    "        'repetitive_content': 0,\n",
    "    }\n",
    "\n",
    "    def is_bot(row):\n",
    "\n",
    "        validaion_count = 0\n",
    "        \n",
    "        # Username patterns\n",
    "        if username_pattern.search(row['username']) or username_with_digits_pattern.search(row['username']):\n",
    "            counters['username_pattern'] += 1\n",
    "            return True\n",
    "        \n",
    "        # Account age with high activity\n",
    "        if row['account_age'] < 60 and row['num_posts'] + row['num_comments'] > 100:\n",
    "            counters['high_activity_new_account'] += 1\n",
    "            validaion_count += 1\n",
    "\n",
    "        # Low karma\n",
    "        if row['link_karma'] < -30 or row['comment_karma'] < -30:\n",
    "            counters['low_karma'] += 1\n",
    "            validaion_count += 1\n",
    "            if validaion_count > 1:\n",
    "                return True\n",
    "\n",
    "        # Frequent low scores indicating low engagement\n",
    "        if row['avg_score'] < 0.5 and row['num_posts'] + row['num_comments'] > 10:  # Average score threshold for spammy content\n",
    "            counters['low_avg_score'] += 1\n",
    "            validaion_count += 1\n",
    "            if validaion_count > 1:\n",
    "                return True\n",
    "        # Consistent upvote ratios (either too low or too high)\n",
    "        if (row['avg_upvote_ratio'] < 0.05 or row['avg_upvote_ratio'] > 0.96) and row['avg_upvote_ratio'] != 0:\n",
    "            counters['consistent_upvote'] += 1\n",
    "            validaion_count += 1\n",
    "            if validaion_count > 1:\n",
    "                return True\n",
    "        \n",
    "        if row['link_karma'] > 50 * row['comment_karma']:\n",
    "            counters['karma_ratio'] += 1\n",
    "            validaion_count += 1\n",
    "            if validaion_count > 1:\n",
    "                return True\n",
    "\n",
    "\n",
    "        return False\n",
    "\n",
    "    df_users['is_bot'] = df_users.apply(is_bot, axis=1)\n",
    "\n",
    "    print(\"Counters:\", counters)\n",
    "    \n",
    "    return df_users"
   ]
  },
  {
   "cell_type": "code",
   "execution_count": 13,
   "metadata": {},
   "outputs": [],
   "source": [
    "def mark_bots(df_posts, df_comments, df_user):\n",
    "    unique_usernames = get_bot_usernames_from_comments(df_comments)\n",
    "    labeled_users = autolabel_bots(df_posts, df_comments, df_user)\n",
    "\n",
    "    labeled_users.loc[labeled_users['username'].isin(unique_usernames), 'is_bot'] = True\n",
    "\n",
    "    return labeled_users"
   ]
  },
  {
   "cell_type": "code",
   "execution_count": 14,
   "metadata": {},
   "outputs": [
    {
     "name": "stdout",
     "output_type": "stream",
     "text": [
      "Number of bot usernames from comments: 623\n",
      "Counters: {'username_pattern': 1736, 'high_posting_frequency': 0, 'high_activity_new_account': 2, 'low_karma': 194, 'low_avg_score': 42, 'consistent_upvote': 101, 'karma_ratio': 2694, 'repetitive_content': 0}\n"
     ]
    }
   ],
   "source": [
    "labeled_users = mark_bots(posts_df, comments_df, users_df)  # aprox: "
   ]
  },
  {
   "cell_type": "code",
   "execution_count": 15,
   "metadata": {},
   "outputs": [
    {
     "data": {
      "text/plain": [
       "(2563, 194750)"
      ]
     },
     "execution_count": 15,
     "metadata": {},
     "output_type": "execute_result"
    }
   ],
   "source": [
    "len(labeled_users[labeled_users['is_bot'] == True]), len(labeled_users['is_bot'])"
   ]
  },
  {
   "cell_type": "markdown",
   "metadata": {},
   "source": [
    "-----------------------------------"
   ]
  },
  {
   "cell_type": "markdown",
   "metadata": {},
   "source": [
    "### General Analysis"
   ]
  },
  {
   "cell_type": "code",
   "execution_count": 47,
   "metadata": {},
   "outputs": [],
   "source": [
    "com = count_slashes_and_emojis(comments_df)"
   ]
  },
  {
   "cell_type": "code",
   "execution_count": 48,
   "metadata": {},
   "outputs": [
    {
     "name": "stdout",
     "output_type": "stream",
     "text": [
      "Number of comments with more than 3 slashes: 1693\n",
      "Number of comments with more than 3 emojis: 358\n"
     ]
    }
   ],
   "source": [
    "print(f\"Number of comments with more than 3 slashes: {len(com[com['slashes'] > 3])}\")\n",
    "print(f\"Number of comments with more than 3 emojis: {len(com[com['emojis'] > 3])}\")"
   ]
  },
  {
   "cell_type": "code",
   "execution_count": null,
   "metadata": {},
   "outputs": [
    {
     "data": {
      "image/png": "[encoded data removed]",
      "text/plain": [
       "<Figure size 1200x600 with 2 Axes>"
      ]
     },
     "metadata": {},
     "output_type": "display_data"
    }
   ],
   "source": [
    "filtered_com_slashes = com[com['slashes'] > 2]\n",
    "filtered_com_emojis = com[com['emojis'] > 2]\n",
    "\n",
    "plt.figure(figsize=(12, 6))\n",
    "\n",
    "plt.subplot(1, 2, 1)\n",
    "plt.hist(filtered_com_slashes['slashes'], bins=range(2, max(filtered_com_slashes['slashes']) + 1), edgecolor='black')\n",
    "plt.title('Frequency of Number of Slashes (Greater than 1)')\n",
    "plt.xlabel('Number of Slashes')\n",
    "plt.ylabel('Frequency')\n",
    "\n",
    "plt.subplot(1, 2, 2)\n",
    "plt.hist(filtered_com_emojis['emojis'], bins=range(2, max(filtered_com_emojis['emojis']) + 1), edgecolor='black')\n",
    "plt.title('Frequency of Number of Emojis (Greater than 1)')\n",
    "plt.xlabel('Number of Emojis')\n",
    "plt.ylabel('Frequency')\n",
    "\n",
    "plt.tight_layout()\n",
    "plt.show()"
   ]
  },
  {
   "cell_type": "code",
   "execution_count": null,
   "metadata": {},
   "outputs": [
    {
     "data": {
      "image/png": "[encoded data removed]",
      "text/plain": [
       "<Figure size 1800x600 with 3 Axes>"
      ]
     },
     "metadata": {},
     "output_type": "display_data"
    }
   ],
   "source": [
    "user_averages = com.groupby('username').agg({\n",
    "    'emojis': 'mean',\n",
    "    'slashes': 'mean'\n",
    "}).rename(columns={'emojis': 'avg_emojis', 'slashes': 'avg_slashes'})\n",
    "user_averages['avg_slashes_emojis'] = user_averages['avg_emojis'] + user_averages['avg_slashes']\n",
    "\n",
    "filtered_user_averages = user_averages[(user_averages['avg_emojis'] > 2) | (user_averages['avg_slashes'] > 2) | (user_averages['avg_slashes_emojis'] > 2)]\n",
    "\n",
    "plt.figure(figsize=(18, 6))\n",
    "\n",
    "plt.subplot(1, 3, 1)\n",
    "plt.hist(filtered_user_averages['avg_emojis'], bins=30, edgecolor='black')\n",
    "plt.title('Average Number of Emojis per User (Greater than 2)')\n",
    "plt.xlabel('Average Number of Emojis')\n",
    "plt.ylabel('Frequency')\n",
    "\n",
    "plt.subplot(1, 3, 2)\n",
    "plt.hist(filtered_user_averages['avg_slashes'], bins=30, edgecolor='black')\n",
    "plt.title('Average Number of Slashes per User (Greater than 2)')\n",
    "plt.xlabel('Average Number of Slashes')\n",
    "plt.ylabel('Frequency')\n",
    "\n",
    "plt.subplot(1, 3, 3)\n",
    "plt.hist(filtered_user_averages['avg_slashes_emojis'], bins=30, edgecolor='black')\n",
    "plt.title('Average Number of Slashes and Emojis per User (Greater than 2)')\n",
    "plt.xlabel('Average Number of Slashes and Emojis')\n",
    "plt.ylabel('Frequency')\n",
    "\n",
    "plt.tight_layout()\n",
    "plt.show()"
   ]
  },
  {
   "cell_type": "code",
   "execution_count": null,
   "metadata": {},
   "outputs": [
    {
     "name": "stdout",
     "output_type": "stream",
     "text": [
      "Number of users with avg_slashes greater than 3: 229\n",
      "Number of users with avg_emojis greater than 3: 202\n",
      "Number of users with avg_slashes_emojis greater than 3: 139\n"
     ]
    }
   ],
   "source": [
    "user_averages = com.groupby('username').agg({\n",
    "    'emojis': 'mean',\n",
    "    'slashes': 'mean'\n",
    "}).rename(columns={'emojis': 'avg_emojis', 'slashes': 'avg_slashes'})\n",
    "user_averages['avg_slashes_emojis'] = user_averages['avg_emojis'] + user_averages['avg_slashes']\n",
    "\n",
    "num_users_with_high_avg_slashes = len(user_averages[user_averages['avg_slashes'] > 5])\n",
    "print(f\"Number of users with avg_slashes greater than 3: {num_users_with_high_avg_slashes}\")\n",
    "\n",
    "num_users_with_high_avg_emojis = len(user_averages[user_averages['avg_emojis'] > 3])\n",
    "print(f\"Number of users with avg_emojis greater than 3: {num_users_with_high_avg_emojis}\")\n",
    "\n",
    "num_users_with_high_avg_slashes_emojis = len(user_averages[user_averages['avg_slashes_emojis'] > 7])\n",
    "print(f\"Number of users with avg_slashes_emojis greater than 3: {num_users_with_high_avg_slashes_emojis}\")\n"
   ]
  },
  {
   "cell_type": "code",
   "execution_count": null,
   "metadata": {},
   "outputs": [
    {
     "name": "stdout",
     "output_type": "stream",
     "text": [
      "Number of unique users with more than 10 slashes in a single comment: 76\n",
      "Number of unique users with more than 10 slashes in a single comment: 21\n"
     ]
    }
   ],
   "source": [
    "filtered_com = com[com['slashes'] > 10]\n",
    "\n",
    "num_unique_users = filtered_com['username'].nunique()\n",
    "print(f\"Number of unique users with more than 10 slashes in a single comment: {num_unique_users}\")\n",
    "\n",
    "filtered_com = com[com['emojis'] > 10]\n",
    "\n",
    "num_unique_users = filtered_com['username'].nunique()\n",
    "print(f\"Number of unique users with more than 10 slashes in a single comment: {num_unique_users}\")"
   ]
  }
 ],
 "metadata": {
  "kernelspec": {
   "display_name": "PGM",
   "language": "python",
   "name": "python3"
  },
  "language_info": {
   "codemirror_mode": {
    "name": "ipython",
    "version": 3
   },
   "file_extension": ".py",
   "mimetype": "text/x-python",
   "name": "python",
   "nbconvert_exporter": "python",
   "pygments_lexer": "ipython3",
   "version": "3.10.13"
  }
 },
 "nbformat": 4,
 "nbformat_minor": 2
}
