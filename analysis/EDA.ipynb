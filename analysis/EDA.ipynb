{
 "cells": [
  {
   "cell_type": "markdown",
   "metadata": {},
   "source": [
    "# EDA"
   ]
  },
  {
   "cell_type": "markdown",
   "metadata": {},
   "source": [
    "## Imports"
   ]
  },
  {
   "cell_type": "code",
   "execution_count": null,
   "metadata": {},
   "outputs": [],
   "source": [
    "import matplotlib.pyplot as plt\n",
    "import numpy as np\n",
    "import pandas as pd\n",
    "import sweetviz as sv\n",
    "from sklearn.model_selection import train_test_split"
   ]
  },
  {
   "cell_type": "markdown",
   "metadata": {},
   "source": [
    "## Data Load and Split"
   ]
  },
  {
   "cell_type": "code",
   "execution_count": null,
   "metadata": {},
   "outputs": [
    {
     "data": {
      "text/html": [
       "<div>\n",
       "<style scoped>\n",
       "    .dataframe tbody tr th:only-of-type {\n",
       "        vertical-align: middle;\n",
       "    }\n",
       "\n",
       "    .dataframe tbody tr th {\n",
       "        vertical-align: top;\n",
       "    }\n",
       "\n",
       "    .dataframe thead th {\n",
       "        text-align: right;\n",
       "    }\n",
       "</style>\n",
       "<table border=\"1\" class=\"dataframe\">\n",
       "  <thead>\n",
       "    <tr style=\"text-align: right;\">\n",
       "      <th></th>\n",
       "      <th>username</th>\n",
       "      <th>link_karma</th>\n",
       "      <th>comment_karma</th>\n",
       "      <th>account_age</th>\n",
       "      <th>is_verified</th>\n",
       "      <th>avg_cosine_similarity</th>\n",
       "      <th>all_users_similarity</th>\n",
       "      <th>avg_comment_length</th>\n",
       "      <th>max_comment_length</th>\n",
       "      <th>min_comment_length</th>\n",
       "      <th>comment_post_ratio</th>\n",
       "      <th>avg_thread_depth</th>\n",
       "      <th>parent_child_similarity</th>\n",
       "      <th>avg_ttr</th>\n",
       "      <th>avg_flesch_kincaid_grade</th>\n",
       "      <th>ngram_overlap</th>\n",
       "    </tr>\n",
       "  </thead>\n",
       "  <tbody>\n",
       "    <tr>\n",
       "      <th>0</th>\n",
       "      <td>yakfsh1</td>\n",
       "      <td>19830.0</td>\n",
       "      <td>88232.0</td>\n",
       "      <td>1440.0</td>\n",
       "      <td>True</td>\n",
       "      <td>1.0</td>\n",
       "      <td>1.0</td>\n",
       "      <td>382.0</td>\n",
       "      <td>382.0</td>\n",
       "      <td>382.0</td>\n",
       "      <td>1.0</td>\n",
       "      <td>0.500000</td>\n",
       "      <td>0.0</td>\n",
       "      <td>0.931034</td>\n",
       "      <td>12.1</td>\n",
       "      <td>0.0</td>\n",
       "    </tr>\n",
       "    <tr>\n",
       "      <th>1</th>\n",
       "      <td>Tsquare43</td>\n",
       "      <td>699100.0</td>\n",
       "      <td>720902.0</td>\n",
       "      <td>3636.0</td>\n",
       "      <td>True</td>\n",
       "      <td>1.0</td>\n",
       "      <td>1.0</td>\n",
       "      <td>62.0</td>\n",
       "      <td>62.0</td>\n",
       "      <td>62.0</td>\n",
       "      <td>1.0</td>\n",
       "      <td>0.666667</td>\n",
       "      <td>0.0</td>\n",
       "      <td>0.927318</td>\n",
       "      <td>6.9</td>\n",
       "      <td>0.0</td>\n",
       "    </tr>\n",
       "    <tr>\n",
       "      <th>2</th>\n",
       "      <td>SeaSpeakToMe</td>\n",
       "      <td>236.0</td>\n",
       "      <td>11628.0</td>\n",
       "      <td>1029.0</td>\n",
       "      <td>True</td>\n",
       "      <td>NaN</td>\n",
       "      <td>1.0</td>\n",
       "      <td>75.0</td>\n",
       "      <td>81.0</td>\n",
       "      <td>67.0</td>\n",
       "      <td>1.0</td>\n",
       "      <td>1.000000</td>\n",
       "      <td>0.0</td>\n",
       "      <td>1.000000</td>\n",
       "      <td>1.3</td>\n",
       "      <td>0.0</td>\n",
       "    </tr>\n",
       "    <tr>\n",
       "      <th>3</th>\n",
       "      <td>hurtingxliving</td>\n",
       "      <td>848.0</td>\n",
       "      <td>1275.0</td>\n",
       "      <td>2001.0</td>\n",
       "      <td>True</td>\n",
       "      <td>NaN</td>\n",
       "      <td>1.0</td>\n",
       "      <td>39.0</td>\n",
       "      <td>39.0</td>\n",
       "      <td>39.0</td>\n",
       "      <td>1.0</td>\n",
       "      <td>0.000000</td>\n",
       "      <td>0.0</td>\n",
       "      <td>0.888889</td>\n",
       "      <td>12.6</td>\n",
       "      <td>0.0</td>\n",
       "    </tr>\n",
       "    <tr>\n",
       "      <th>4</th>\n",
       "      <td>Minute-Photo6916</td>\n",
       "      <td>1.0</td>\n",
       "      <td>4.0</td>\n",
       "      <td>12.0</td>\n",
       "      <td>True</td>\n",
       "      <td>NaN</td>\n",
       "      <td>1.0</td>\n",
       "      <td>15.0</td>\n",
       "      <td>15.0</td>\n",
       "      <td>15.0</td>\n",
       "      <td>1.0</td>\n",
       "      <td>1.000000</td>\n",
       "      <td>0.0</td>\n",
       "      <td>1.000000</td>\n",
       "      <td>-2.3</td>\n",
       "      <td>0.0</td>\n",
       "    </tr>\n",
       "  </tbody>\n",
       "</table>\n",
       "</div>"
      ],
      "text/plain": [
       "           username  link_karma  comment_karma  account_age is_verified  \\\n",
       "0           yakfsh1     19830.0        88232.0       1440.0        True   \n",
       "1         Tsquare43    699100.0       720902.0       3636.0        True   \n",
       "2      SeaSpeakToMe       236.0        11628.0       1029.0        True   \n",
       "3    hurtingxliving       848.0         1275.0       2001.0        True   \n",
       "4  Minute-Photo6916         1.0            4.0         12.0        True   \n",
       "\n",
       "   avg_cosine_similarity  all_users_similarity  avg_comment_length  \\\n",
       "0                    1.0                   1.0               382.0   \n",
       "1                    1.0                   1.0                62.0   \n",
       "2                    NaN                   1.0                75.0   \n",
       "3                    NaN                   1.0                39.0   \n",
       "4                    NaN                   1.0                15.0   \n",
       "\n",
       "   max_comment_length  min_comment_length  comment_post_ratio  \\\n",
       "0               382.0               382.0                 1.0   \n",
       "1                62.0                62.0                 1.0   \n",
       "2                81.0                67.0                 1.0   \n",
       "3                39.0                39.0                 1.0   \n",
       "4                15.0                15.0                 1.0   \n",
       "\n",
       "   avg_thread_depth  parent_child_similarity   avg_ttr  \\\n",
       "0          0.500000                      0.0  0.931034   \n",
       "1          0.666667                      0.0  0.927318   \n",
       "2          1.000000                      0.0  1.000000   \n",
       "3          0.000000                      0.0  0.888889   \n",
       "4          1.000000                      0.0  1.000000   \n",
       "\n",
       "   avg_flesch_kincaid_grade  ngram_overlap  \n",
       "0                      12.1            0.0  \n",
       "1                       6.9            0.0  \n",
       "2                       1.3            0.0  \n",
       "3                      12.6            0.0  \n",
       "4                      -2.3            0.0  "
      ]
     },
     "metadata": {},
     "output_type": "display_data"
    },
    {
     "data": {
      "text/html": [
       "<div>\n",
       "<style scoped>\n",
       "    .dataframe tbody tr th:only-of-type {\n",
       "        vertical-align: middle;\n",
       "    }\n",
       "\n",
       "    .dataframe tbody tr th {\n",
       "        vertical-align: top;\n",
       "    }\n",
       "\n",
       "    .dataframe thead th {\n",
       "        text-align: right;\n",
       "    }\n",
       "</style>\n",
       "<table border=\"1\" class=\"dataframe\">\n",
       "  <thead>\n",
       "    <tr style=\"text-align: right;\">\n",
       "      <th></th>\n",
       "      <th>username</th>\n",
       "      <th>is_bot</th>\n",
       "    </tr>\n",
       "  </thead>\n",
       "  <tbody>\n",
       "    <tr>\n",
       "      <th>0</th>\n",
       "      <td>yakfsh1</td>\n",
       "      <td>False</td>\n",
       "    </tr>\n",
       "    <tr>\n",
       "      <th>1</th>\n",
       "      <td>Tsquare43</td>\n",
       "      <td>False</td>\n",
       "    </tr>\n",
       "    <tr>\n",
       "      <th>2</th>\n",
       "      <td>SeaSpeakToMe</td>\n",
       "      <td>False</td>\n",
       "    </tr>\n",
       "    <tr>\n",
       "      <th>3</th>\n",
       "      <td>hurtingxliving</td>\n",
       "      <td>False</td>\n",
       "    </tr>\n",
       "    <tr>\n",
       "      <th>4</th>\n",
       "      <td>Minute-Photo6916</td>\n",
       "      <td>False</td>\n",
       "    </tr>\n",
       "  </tbody>\n",
       "</table>\n",
       "</div>"
      ],
      "text/plain": [
       "           username  is_bot\n",
       "0           yakfsh1   False\n",
       "1         Tsquare43   False\n",
       "2      SeaSpeakToMe   False\n",
       "3    hurtingxliving   False\n",
       "4  Minute-Photo6916   False"
      ]
     },
     "metadata": {},
     "output_type": "display_data"
    }
   ],
   "source": [
    "x_df = pd.read_csv('..\\\\data\\\\features.csv')\n",
    "y_df = pd.read_csv('..\\\\data\\\\labels.csv')\n",
    "\n",
    "display(x_df.head())\n",
    "display(y_df.head())"
   ]
  },
  {
   "cell_type": "code",
   "execution_count": 13,
   "metadata": {},
   "outputs": [
    {
     "data": {
      "image/png": "[encoded data removed]",
      "text/plain": [
       "<Figure size 800x800 with 1 Axes>"
      ]
     },
     "metadata": {},
     "output_type": "display_data"
    }
   ],
   "source": [
    "bot_counts = y_df['is_bot'].value_counts()\n",
    "\n",
    "labels = ['Not Bot', 'Bot']\n",
    "sizes = [bot_counts[False], bot_counts[True]]\n",
    "colors = ['#ff9999','#66b3ff']\n",
    "explode = (0.1, 0)\n",
    "\n",
    "plt.figure(figsize=(8, 8))\n",
    "plt.pie(sizes, explode=explode, labels=labels, colors=colors, autopct='%1.1f%%',\n",
    "        shadow=True, startangle=140)\n",
    "plt.axis('equal')\n",
    "plt.title('Percentage of Users labeled as Bot')\n",
    "plt.show()\n"
   ]
  },
  {
   "cell_type": "code",
   "execution_count": 14,
   "metadata": {},
   "outputs": [],
   "source": [
    "def create_balanced_dataset(y_df, x_df, bot_ratio=0.4):\n",
    "    merged_df = pd.merge(y_df, x_df, on='username')\n",
    "    bot_users = merged_df[merged_df['is_bot'] == True]\n",
    "\n",
    "    num_bots = len(bot_users)\n",
    "    num_non_bots = int((num_bots / bot_ratio) - num_bots)\n",
    "    non_bot_users = merged_df[merged_df['is_bot'] == False].sample(n=num_non_bots, random_state=42)\n",
    "    balanced_df = pd.concat([bot_users, non_bot_users])\n",
    "\n",
    "    new_y_df = balanced_df[['username', 'is_bot']]\n",
    "    new_x_df = balanced_df.drop(columns=['is_bot'])\n",
    "    \n",
    "    return new_x_df, new_y_df"
   ]
  },
  {
   "cell_type": "code",
   "execution_count": 15,
   "metadata": {},
   "outputs": [],
   "source": [
    "X_df_balanced, y_df_balanced = create_balanced_dataset(y_df, x_df)"
   ]
  },
  {
   "cell_type": "code",
   "execution_count": 16,
   "metadata": {},
   "outputs": [],
   "source": [
    "X_train, X_test, y_train, y_test = train_test_split(X_df_balanced, y_df_balanced, test_size=0.2, random_state=42, stratify=y_df_balanced['is_bot'])"
   ]
  },
  {
   "cell_type": "markdown",
   "metadata": {},
   "source": [
    "## Auto EDA"
   ]
  },
  {
   "cell_type": "code",
   "execution_count": 17,
   "metadata": {},
   "outputs": [],
   "source": [
    "df_train = X_train.merge(y_train, on='username', how=\"left\")"
   ]
  },
  {
   "cell_type": "code",
   "execution_count": 18,
   "metadata": {},
   "outputs": [
    {
     "name": "stderr",
     "output_type": "stream",
     "text": [
      "Done! Use 'show' commands to display/save.   |██████████| [100%]   00:02 -> (00:00 left)\n"
     ]
    },
    {
     "name": "stdout",
     "output_type": "stream",
     "text": [
      "Report data\\EDA_report.html was generated! NOTEBOOK/COLAB USERS: the web browser MAY not pop up, regardless, the report IS saved in your notebook/colab files.\n"
     ]
    }
   ],
   "source": [
    "sweet_report = sv.analyze(df_train, target_feat='is_bot')\n",
    "sweet_report.show_html('data\\\\EDA_report.html')"
   ]
  },
  {
   "cell_type": "markdown",
   "metadata": {},
   "source": [
    "**Conclusions**\n",
    "\n",
    "Columns:\n",
    "- username - to remove for a training\n",
    "- link_karma - to standardisation, None to remove\n",
    "- comment_karma - to standardisation, None to remove\n",
    "- account_age - to standardisation, None to remove\n",
    "- is_verified - to standardisation, None to remove\n",
    "- avg_cosine_similarity - None replace with 0\n",
    "- all_users_similarity - None replace with 0\n",
    "- avg_comment_length - to standardisation, None replace with 0 before std\n",
    "- max_comment_length - to standardisation, None replace with 0 before std\n",
    "- min_comment_length - to standardisation, None replace with 0 before std\n",
    "- comment_post_ratio - to standardisation, None replace with 1 after std\n",
    "- avg_thread_depth - None replace with 0 (to repair)\n",
    "- parent_child_similarity - to remove and repair\n",
    "- avg_ttr - None replace with 0\n",
    "- avg_flesch_kincaid_grade - to standardisation, None replace with 0 before std\n",
    "- ngram_overlap - None replace with 0\n",
    "- is_bot - change to 0, 1\n",
    "\n",
    "ToDo: Repair avg_thread_depth and parent_child_similarity\n"
   ]
  }
 ],
 "metadata": {
  "kernelspec": {
   "display_name": "PGM",
   "language": "python",
   "name": "python3"
  },
  "language_info": {
   "codemirror_mode": {
    "name": "ipython",
    "version": 3
   },
   "file_extension": ".py",
   "mimetype": "text/x-python",
   "name": "python",
   "nbconvert_exporter": "python",
   "pygments_lexer": "ipython3",
   "version": "3.10.13"
  }
 },
 "nbformat": 4,
 "nbformat_minor": 2
}
