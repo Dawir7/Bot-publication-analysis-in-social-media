{
 "cells": [
  {
   "cell_type": "markdown",
   "metadata": {},
   "source": [
    "# New data creation notebook"
   ]
  },
  {
   "cell_type": "markdown",
   "metadata": {},
   "source": [
    "## Import"
   ]
  },
  {
   "cell_type": "code",
   "execution_count": 15,
   "metadata": {},
   "outputs": [],
   "source": [
    "import re\n",
    "from string import punctuation\n",
    "\n",
    "import emoji\n",
    "import matplotlib.pyplot as plt\n",
    "import numpy as np\n",
    "import pandas as pd\n",
    "import textstat\n",
    "from nltk.tokenize import word_tokenize\n",
    "from sklearn.feature_extraction.text import CountVectorizer, TfidfVectorizer\n",
    "from sklearn.metrics.pairwise import cosine_similarity\n",
    "from sklearn.preprocessing import normalize\n",
    "from tqdm import tqdm"
   ]
  },
  {
   "cell_type": "markdown",
   "metadata": {},
   "source": [
    "## Load Data"
   ]
  },
  {
   "cell_type": "code",
   "execution_count": 2,
   "metadata": {},
   "outputs": [],
   "source": [
    "posts_df = pd.read_csv('data\\\\all_posts-merged.csv')\n",
    "comments_df = pd.read_csv('data\\\\all_comments-merged.csv')\n",
    "users_df = pd.read_csv('data\\\\user_data-merged.csv')"
   ]
  },
  {
   "cell_type": "code",
   "execution_count": 3,
   "metadata": {},
   "outputs": [
    {
     "data": {
      "text/html": [
       "<div>\n",
       "<style scoped>\n",
       "    .dataframe tbody tr th:only-of-type {\n",
       "        vertical-align: middle;\n",
       "    }\n",
       "\n",
       "    .dataframe tbody tr th {\n",
       "        vertical-align: top;\n",
       "    }\n",
       "\n",
       "    .dataframe thead th {\n",
       "        text-align: right;\n",
       "    }\n",
       "</style>\n",
       "<table border=\"1\" class=\"dataframe\">\n",
       "  <thead>\n",
       "    <tr style=\"text-align: right;\">\n",
       "      <th></th>\n",
       "      <th>subreddit</th>\n",
       "      <th>username</th>\n",
       "      <th>name</th>\n",
       "      <th>title</th>\n",
       "      <th>text</th>\n",
       "      <th>is_original_content</th>\n",
       "      <th>num_comments</th>\n",
       "      <th>score</th>\n",
       "      <th>upvote_ratio</th>\n",
       "      <th>date</th>\n",
       "    </tr>\n",
       "  </thead>\n",
       "  <tbody>\n",
       "    <tr>\n",
       "      <th>0</th>\n",
       "      <td>AskReddit</td>\n",
       "      <td>elevate-digital</td>\n",
       "      <td>t3_1fxlnxv</td>\n",
       "      <td>Guys with extremely loud vehicles, why do you ...</td>\n",
       "      <td>NaN</td>\n",
       "      <td>False</td>\n",
       "      <td>8421</td>\n",
       "      <td>20664</td>\n",
       "      <td>0.87</td>\n",
       "      <td>2024-10-06 17:20:58</td>\n",
       "    </tr>\n",
       "  </tbody>\n",
       "</table>\n",
       "</div>"
      ],
      "text/plain": [
       "   subreddit         username        name  \\\n",
       "0  AskReddit  elevate-digital  t3_1fxlnxv   \n",
       "\n",
       "                                               title text  \\\n",
       "0  Guys with extremely loud vehicles, why do you ...  NaN   \n",
       "\n",
       "   is_original_content  num_comments  score  upvote_ratio                 date  \n",
       "0                False          8421  20664          0.87  2024-10-06 17:20:58  "
      ]
     },
     "metadata": {},
     "output_type": "display_data"
    },
    {
     "data": {
      "text/html": [
       "<div>\n",
       "<style scoped>\n",
       "    .dataframe tbody tr th:only-of-type {\n",
       "        vertical-align: middle;\n",
       "    }\n",
       "\n",
       "    .dataframe tbody tr th {\n",
       "        vertical-align: top;\n",
       "    }\n",
       "\n",
       "    .dataframe thead th {\n",
       "        text-align: right;\n",
       "    }\n",
       "</style>\n",
       "<table border=\"1\" class=\"dataframe\">\n",
       "  <thead>\n",
       "    <tr style=\"text-align: right;\">\n",
       "      <th></th>\n",
       "      <th>subreddit</th>\n",
       "      <th>username</th>\n",
       "      <th>body</th>\n",
       "      <th>post_title</th>\n",
       "      <th>score</th>\n",
       "      <th>num_replies</th>\n",
       "      <th>is_submitter</th>\n",
       "      <th>id</th>\n",
       "      <th>parent_id</th>\n",
       "      <th>stickied</th>\n",
       "      <th>date</th>\n",
       "    </tr>\n",
       "  </thead>\n",
       "  <tbody>\n",
       "    <tr>\n",
       "      <th>0</th>\n",
       "      <td>AskReddit</td>\n",
       "      <td>thedudear</td>\n",
       "      <td>I used to own an insanely loud vehicle. A Pont...</td>\n",
       "      <td>Guys with extremely loud vehicles, why do you ...</td>\n",
       "      <td>2045</td>\n",
       "      <td>6</td>\n",
       "      <td>False</td>\n",
       "      <td>lqpnfpr</td>\n",
       "      <td>t3_1fxlnxv</td>\n",
       "      <td>False</td>\n",
       "      <td>2024-10-07 01:35:59</td>\n",
       "    </tr>\n",
       "  </tbody>\n",
       "</table>\n",
       "</div>"
      ],
      "text/plain": [
       "   subreddit   username                                               body  \\\n",
       "0  AskReddit  thedudear  I used to own an insanely loud vehicle. A Pont...   \n",
       "\n",
       "                                          post_title  score  num_replies  \\\n",
       "0  Guys with extremely loud vehicles, why do you ...   2045            6   \n",
       "\n",
       "   is_submitter       id   parent_id  stickied                 date  \n",
       "0         False  lqpnfpr  t3_1fxlnxv     False  2024-10-07 01:35:59  "
      ]
     },
     "metadata": {},
     "output_type": "display_data"
    },
    {
     "data": {
      "text/html": [
       "<div>\n",
       "<style scoped>\n",
       "    .dataframe tbody tr th:only-of-type {\n",
       "        vertical-align: middle;\n",
       "    }\n",
       "\n",
       "    .dataframe tbody tr th {\n",
       "        vertical-align: top;\n",
       "    }\n",
       "\n",
       "    .dataframe thead th {\n",
       "        text-align: right;\n",
       "    }\n",
       "</style>\n",
       "<table border=\"1\" class=\"dataframe\">\n",
       "  <thead>\n",
       "    <tr style=\"text-align: right;\">\n",
       "      <th></th>\n",
       "      <th>username</th>\n",
       "      <th>link_karma</th>\n",
       "      <th>comment_karma</th>\n",
       "      <th>account_age</th>\n",
       "      <th>is_verified</th>\n",
       "    </tr>\n",
       "  </thead>\n",
       "  <tbody>\n",
       "    <tr>\n",
       "      <th>0</th>\n",
       "      <td>yakfsh1</td>\n",
       "      <td>19830.0</td>\n",
       "      <td>88232.0</td>\n",
       "      <td>1440.0</td>\n",
       "      <td>True</td>\n",
       "    </tr>\n",
       "  </tbody>\n",
       "</table>\n",
       "</div>"
      ],
      "text/plain": [
       "  username  link_karma  comment_karma  account_age is_verified\n",
       "0  yakfsh1     19830.0        88232.0       1440.0        True"
      ]
     },
     "metadata": {},
     "output_type": "display_data"
    }
   ],
   "source": [
    "display(posts_df.head(1))\n",
    "display(comments_df.head(1))\n",
    "display(users_df.head(1))"
   ]
  },
  {
   "cell_type": "code",
   "execution_count": null,
   "metadata": {},
   "outputs": [
    {
     "data": {
      "text/html": [
       "<div>\n",
       "<style scoped>\n",
       "    .dataframe tbody tr th:only-of-type {\n",
       "        vertical-align: middle;\n",
       "    }\n",
       "\n",
       "    .dataframe tbody tr th {\n",
       "        vertical-align: top;\n",
       "    }\n",
       "\n",
       "    .dataframe thead th {\n",
       "        text-align: right;\n",
       "    }\n",
       "</style>\n",
       "<table border=\"1\" class=\"dataframe\">\n",
       "  <thead>\n",
       "    <tr style=\"text-align: right;\">\n",
       "      <th></th>\n",
       "      <th>username</th>\n",
       "      <th>link_karma</th>\n",
       "      <th>comment_karma</th>\n",
       "      <th>account_age</th>\n",
       "      <th>is_verified</th>\n",
       "    </tr>\n",
       "  </thead>\n",
       "  <tbody>\n",
       "    <tr>\n",
       "      <th>248</th>\n",
       "      <td>chiskss_</td>\n",
       "      <td>NaN</td>\n",
       "      <td>NaN</td>\n",
       "      <td>NaN</td>\n",
       "      <td>NaN</td>\n",
       "    </tr>\n",
       "    <tr>\n",
       "      <th>402</th>\n",
       "      <td>Only_Lover8724</td>\n",
       "      <td>NaN</td>\n",
       "      <td>NaN</td>\n",
       "      <td>NaN</td>\n",
       "      <td>NaN</td>\n",
       "    </tr>\n",
       "    <tr>\n",
       "      <th>458</th>\n",
       "      <td>INeedARemoteJrCSJob</td>\n",
       "      <td>NaN</td>\n",
       "      <td>NaN</td>\n",
       "      <td>NaN</td>\n",
       "      <td>NaN</td>\n",
       "    </tr>\n",
       "    <tr>\n",
       "      <th>474</th>\n",
       "      <td>Bussy_Stank</td>\n",
       "      <td>NaN</td>\n",
       "      <td>NaN</td>\n",
       "      <td>NaN</td>\n",
       "      <td>NaN</td>\n",
       "    </tr>\n",
       "    <tr>\n",
       "      <th>489</th>\n",
       "      <td>MidnightEye02</td>\n",
       "      <td>NaN</td>\n",
       "      <td>NaN</td>\n",
       "      <td>NaN</td>\n",
       "      <td>NaN</td>\n",
       "    </tr>\n",
       "    <tr>\n",
       "      <th>...</th>\n",
       "      <td>...</td>\n",
       "      <td>...</td>\n",
       "      <td>...</td>\n",
       "      <td>...</td>\n",
       "      <td>...</td>\n",
       "    </tr>\n",
       "    <tr>\n",
       "      <th>194586</th>\n",
       "      <td>battlerazzle01</td>\n",
       "      <td>NaN</td>\n",
       "      <td>NaN</td>\n",
       "      <td>NaN</td>\n",
       "      <td>NaN</td>\n",
       "    </tr>\n",
       "    <tr>\n",
       "      <th>194587</th>\n",
       "      <td>Brickolator</td>\n",
       "      <td>NaN</td>\n",
       "      <td>NaN</td>\n",
       "      <td>NaN</td>\n",
       "      <td>NaN</td>\n",
       "    </tr>\n",
       "    <tr>\n",
       "      <th>194588</th>\n",
       "      <td>Financial-Play-7562</td>\n",
       "      <td>NaN</td>\n",
       "      <td>NaN</td>\n",
       "      <td>NaN</td>\n",
       "      <td>NaN</td>\n",
       "    </tr>\n",
       "    <tr>\n",
       "      <th>194672</th>\n",
       "      <td>Lingering_Dorkness</td>\n",
       "      <td>NaN</td>\n",
       "      <td>NaN</td>\n",
       "      <td>NaN</td>\n",
       "      <td>NaN</td>\n",
       "    </tr>\n",
       "    <tr>\n",
       "      <th>194676</th>\n",
       "      <td>AbroadPrestigious718</td>\n",
       "      <td>NaN</td>\n",
       "      <td>NaN</td>\n",
       "      <td>NaN</td>\n",
       "      <td>NaN</td>\n",
       "    </tr>\n",
       "  </tbody>\n",
       "</table>\n",
       "<p>27113 rows × 5 columns</p>\n",
       "</div>"
      ],
      "text/plain": [
       "                    username  link_karma  comment_karma  account_age  \\\n",
       "248                 chiskss_         NaN            NaN          NaN   \n",
       "402           Only_Lover8724         NaN            NaN          NaN   \n",
       "458      INeedARemoteJrCSJob         NaN            NaN          NaN   \n",
       "474              Bussy_Stank         NaN            NaN          NaN   \n",
       "489            MidnightEye02         NaN            NaN          NaN   \n",
       "...                      ...         ...            ...          ...   \n",
       "194586        battlerazzle01         NaN            NaN          NaN   \n",
       "194587           Brickolator         NaN            NaN          NaN   \n",
       "194588   Financial-Play-7562         NaN            NaN          NaN   \n",
       "194672    Lingering_Dorkness         NaN            NaN          NaN   \n",
       "194676  AbroadPrestigious718         NaN            NaN          NaN   \n",
       "\n",
       "       is_verified  \n",
       "248            NaN  \n",
       "402            NaN  \n",
       "458            NaN  \n",
       "474            NaN  \n",
       "489            NaN  \n",
       "...            ...  \n",
       "194586         NaN  \n",
       "194587         NaN  \n",
       "194588         NaN  \n",
       "194672         NaN  \n",
       "194676         NaN  \n",
       "\n",
       "[27113 rows x 5 columns]"
      ]
     },
     "metadata": {},
     "output_type": "display_data"
    }
   ],
   "source": [
    "users_with_none_link_karma = users_df[users_df['link_karma'].isna()]\n",
    "\n",
    "display(users_with_none_link_karma)"
   ]
  },
  {
   "cell_type": "code",
   "execution_count": 5,
   "metadata": {},
   "outputs": [],
   "source": [
    "comments_df = comments_df.dropna(subset=['body'])"
   ]
  },
  {
   "cell_type": "code",
   "execution_count": 6,
   "metadata": {},
   "outputs": [
    {
     "data": {
      "text/plain": [
       "(Index(['subreddit', 'username', 'name', 'title', 'text', 'is_original_content',\n",
       "        'num_comments', 'score', 'upvote_ratio', 'date'],\n",
       "       dtype='object'),\n",
       " Index(['subreddit', 'username', 'body', 'post_title', 'score', 'num_replies',\n",
       "        'is_submitter', 'id', 'parent_id', 'stickied', 'date'],\n",
       "       dtype='object'),\n",
       " Index(['username', 'link_karma', 'comment_karma', 'account_age',\n",
       "        'is_verified'],\n",
       "       dtype='object'))"
      ]
     },
     "execution_count": 6,
     "metadata": {},
     "output_type": "execute_result"
    }
   ],
   "source": [
    "posts_df.columns, comments_df.columns, users_df.columns"
   ]
  },
  {
   "cell_type": "code",
   "execution_count": 7,
   "metadata": {},
   "outputs": [
    {
     "data": {
      "text/plain": [
       "((1500, 10), (358545, 11), (194750, 5))"
      ]
     },
     "execution_count": 7,
     "metadata": {},
     "output_type": "execute_result"
    }
   ],
   "source": [
    "posts_df.shape, comments_df.shape, users_df.shape"
   ]
  },
  {
   "cell_type": "markdown",
   "metadata": {},
   "source": [
    "### Vector"
   ]
  },
  {
   "cell_type": "code",
   "execution_count": 8,
   "metadata": {},
   "outputs": [],
   "source": [
    "def clean_text(text):\n",
    "    text = re.sub(r'[^\\w\\s]', '', text)\n",
    "    text = text.lower()\n",
    "    return text\n",
    "\n",
    "def add_tfidf_vectors(comments_df):\n",
    "    comments_df['cleaned_body'] = comments_df['body'].apply(clean_text)\n",
    "    vectorizer = TfidfVectorizer()\n",
    "    tfidf_matrix = vectorizer.fit_transform(comments_df['cleaned_body'])\n",
    "    tfidf_matrix = normalize(tfidf_matrix)\n",
    "    tfidf_vectors = [vec for vec in tfidf_matrix]\n",
    "    comments_df['vector'] = tfidf_vectors\n",
    "    \n",
    "    return comments_df"
   ]
  },
  {
   "cell_type": "code",
   "execution_count": 9,
   "metadata": {},
   "outputs": [],
   "source": [
    "comments_df = add_tfidf_vectors(comments_df)"
   ]
  },
  {
   "cell_type": "markdown",
   "metadata": {},
   "source": [
    "## Feature creation"
   ]
  },
  {
   "cell_type": "code",
   "execution_count": 10,
   "metadata": {},
   "outputs": [],
   "source": [
    "new_features = pd.DataFrame(users_df['username'].copy())"
   ]
  },
  {
   "cell_type": "markdown",
   "metadata": {},
   "source": [
    "### Cosine Similarity"
   ]
  },
  {
   "cell_type": "code",
   "execution_count": 35,
   "metadata": {},
   "outputs": [],
   "source": [
    "def remove_zwj(comment):\n",
    "    zwj = '\\u200d'\n",
    "    return comment.replace(zwj, '')\n",
    "\n",
    "\n",
    "def is_weird_comment(comments):\n",
    "    if all(len(comment) <= 1 or all(char in punctuation for char in comment) for comment in comments):\n",
    "        return True\n",
    "    if all(len(emoji.emoji_list(comment)) == 1 and emoji.emoji_list(comment)[0]['emoji'] == comment for comment in comments):\n",
    "        return True\n",
    "    if all(all(emoji.is_emoji(char) for char in comment) for comment in comments):\n",
    "        return True\n",
    "    if all(len(emoji.emoji_list(comment)) == len([char for char in comment if emoji.is_emoji(char)]) for comment in comments):\n",
    "        return True\n",
    "    if all(all(char in emoji.EMOJI_DATA for char in remove_zwj(comment)) for comment in comments):\n",
    "        return True\n",
    "\n",
    "    return False\n",
    "\n",
    "\n",
    "def calculate_avg_cosine_similarity(comments_df):\n",
    "    vectorizer = TfidfVectorizer()\n",
    "    grouped_comments = comments_df.groupby('username')['body'].apply(list)\n",
    "    avg_cosine_similarities = {}\n",
    "\n",
    "    for username, comments in tqdm(grouped_comments.items(), desc=\"Processing cosine similarities of comments\", total=len(grouped_comments)):\n",
    "        \n",
    "        if is_weird_comment(comments) and len(comments) > 1:\n",
    "            avg_cosine_similarity = 1.0\n",
    "        elif len(comments) > 1:\n",
    "            tfidf_matrix = vectorizer.fit_transform(comments)\n",
    "            cosine_sim_matrix = cosine_similarity(tfidf_matrix)\n",
    "            avg_cosine_similarity = (cosine_sim_matrix.sum() - len(comments)) / (len(comments) * (len(comments) - 1))\n",
    "        else:\n",
    "            avg_cosine_similarity = None\n",
    "\n",
    "        avg_cosine_similarities[username] = avg_cosine_similarity\n",
    "\n",
    "    return avg_cosine_similarities\n"
   ]
  },
  {
   "cell_type": "code",
   "execution_count": 36,
   "metadata": {},
   "outputs": [
    {
     "name": "stderr",
     "output_type": "stream",
     "text": [
      "Processing cosine similarities of comments: 100%|██████████| 180960/180960 [06:33<00:00, 460.16it/s] \n"
     ]
    },
    {
     "data": {
      "text/html": [
       "<div>\n",
       "<style scoped>\n",
       "    .dataframe tbody tr th:only-of-type {\n",
       "        vertical-align: middle;\n",
       "    }\n",
       "\n",
       "    .dataframe tbody tr th {\n",
       "        vertical-align: top;\n",
       "    }\n",
       "\n",
       "    .dataframe thead th {\n",
       "        text-align: right;\n",
       "    }\n",
       "</style>\n",
       "<table border=\"1\" class=\"dataframe\">\n",
       "  <thead>\n",
       "    <tr style=\"text-align: right;\">\n",
       "      <th></th>\n",
       "      <th>username</th>\n",
       "      <th>avg_cosine_similarity</th>\n",
       "    </tr>\n",
       "  </thead>\n",
       "  <tbody>\n",
       "    <tr>\n",
       "      <th>0</th>\n",
       "      <td>------------------GL</td>\n",
       "      <td>NaN</td>\n",
       "    </tr>\n",
       "    <tr>\n",
       "      <th>1</th>\n",
       "      <td>--------rook</td>\n",
       "      <td>1.0</td>\n",
       "    </tr>\n",
       "    <tr>\n",
       "      <th>2</th>\n",
       "      <td>------____--------</td>\n",
       "      <td>NaN</td>\n",
       "    </tr>\n",
       "    <tr>\n",
       "      <th>3</th>\n",
       "      <td>----_____----</td>\n",
       "      <td>NaN</td>\n",
       "    </tr>\n",
       "    <tr>\n",
       "      <th>4</th>\n",
       "      <td>----ryan----</td>\n",
       "      <td>NaN</td>\n",
       "    </tr>\n",
       "  </tbody>\n",
       "</table>\n",
       "</div>"
      ],
      "text/plain": [
       "               username  avg_cosine_similarity\n",
       "0  ------------------GL                    NaN\n",
       "1          --------rook                    1.0\n",
       "2    ------____--------                    NaN\n",
       "3         ----_____----                    NaN\n",
       "4          ----ryan----                    NaN"
      ]
     },
     "metadata": {},
     "output_type": "display_data"
    }
   ],
   "source": [
    "avg_cosine_similarities = calculate_avg_cosine_similarity(comments_df)\n",
    "avg_cosine_similarities_df = pd.DataFrame(list(avg_cosine_similarities.items()), columns=['username', 'avg_cosine_similarity'])\n",
    "\n",
    "display(avg_cosine_similarities_df.head())"
   ]
  },
  {
   "cell_type": "code",
   "execution_count": 31,
   "metadata": {},
   "outputs": [],
   "source": [
    "new_features = new_features.merge(avg_cosine_similarities_df, on='username', how='left')"
   ]
  },
  {
   "cell_type": "code",
   "execution_count": 32,
   "metadata": {},
   "outputs": [
    {
     "data": {
      "text/plain": [
       "0.6665827984595636"
      ]
     },
     "execution_count": 32,
     "metadata": {},
     "output_type": "execute_result"
    }
   ],
   "source": [
    "new_features['avg_cosine_similarity'].isna().sum() / len(new_features['avg_cosine_similarity'])"
   ]
  },
  {
   "cell_type": "markdown",
   "metadata": {},
   "source": [
    "### All Users similarity"
   ]
  },
  {
   "cell_type": "code",
   "execution_count": null,
   "metadata": {},
   "outputs": [],
   "source": [
    "def calculate_all_users_similarity(comments_df):\n",
    "    grouped_comments = comments_df.groupby('username')['body'].apply(lambda x: ' '.join(x)).reset_index()\n",
    "    all_users_similarities = {}\n",
    "\n",
    "    tfidf_vectorizer = TfidfVectorizer()\n",
    "    tfidf_matrix = tfidf_vectorizer.fit_transform(grouped_comments['body'])\n",
    "\n",
    "    for i, row in tqdm(grouped_comments.iterrows(), desc=\"Processing cosine similarities of comments\", total=len(grouped_comments)):\n",
    "        username = row['username']\n",
    "        user_vector = tfidf_matrix[i]\n",
    "\n",
    "        if is_weird_comment([row['body']]):\n",
    "            avg_cosine_similarity = 1.0\n",
    "        else:\n",
    "            cosine_sim_matrix = cosine_similarity(user_vector, tfidf_matrix)\n",
    "            avg_cosine_similarity = (cosine_sim_matrix.sum() - 1) / (len(grouped_comments) - 1)\n",
    "\n",
    "        all_users_similarities[username] = avg_cosine_similarity\n",
    "\n",
    "    return all_users_similarities"
   ]
  },
  {
   "cell_type": "markdown",
   "metadata": {},
   "source": [
    "### AVG Length"
   ]
  },
  {
   "cell_type": "code",
   "execution_count": null,
   "metadata": {},
   "outputs": [],
   "source": [
    "def add_comment_length_metrics(df, users):\n",
    "    new_df = pd.DataFrame(users.copy())\n",
    "    grouped_comments = df.groupby('username')['body'].apply(list)\n",
    "    \n",
    "    avg_lengths = {}\n",
    "    max_lengths = {}\n",
    "    min_lengths = {}\n",
    "\n",
    "    for username, comments in tqdm(grouped_comments.items(), desc=\"Processing comments length\", total=len(grouped_comments)):\n",
    "        comment_lengths = [len(comment) for comment in comments]\n",
    "        avg_lengths[username] = sum(comment_lengths) / len(comment_lengths)\n",
    "        max_lengths[username] = max(comment_lengths)\n",
    "        min_lengths[username] = min(comment_lengths)\n",
    "\n",
    "    new_df['avg_comment_length'] = df['username'].map(avg_lengths)\n",
    "    new_df['max_comment_length'] = df['username'].map(max_lengths)\n",
    "    new_df['min_comment_length'] = df['username'].map(min_lengths)\n",
    "\n",
    "    return new_df"
   ]
  },
  {
   "cell_type": "code",
   "execution_count": null,
   "metadata": {},
   "outputs": [
    {
     "name": "stderr",
     "output_type": "stream",
     "text": [
      "Processing comments length: 100%|██████████| 180960/180960 [00:00<00:00, 322005.98it/s]\n"
     ]
    }
   ],
   "source": [
    "comments_length_df = add_comment_length_metrics(comments_df, users_df['username'])"
   ]
  },
  {
   "cell_type": "code",
   "execution_count": null,
   "metadata": {},
   "outputs": [
    {
     "data": {
      "text/html": [
       "<div>\n",
       "<style scoped>\n",
       "    .dataframe tbody tr th:only-of-type {\n",
       "        vertical-align: middle;\n",
       "    }\n",
       "\n",
       "    .dataframe tbody tr th {\n",
       "        vertical-align: top;\n",
       "    }\n",
       "\n",
       "    .dataframe thead th {\n",
       "        text-align: right;\n",
       "    }\n",
       "</style>\n",
       "<table border=\"1\" class=\"dataframe\">\n",
       "  <thead>\n",
       "    <tr style=\"text-align: right;\">\n",
       "      <th></th>\n",
       "      <th>username</th>\n",
       "      <th>avg_comment_length</th>\n",
       "      <th>max_comment_length</th>\n",
       "      <th>min_comment_length</th>\n",
       "    </tr>\n",
       "  </thead>\n",
       "  <tbody>\n",
       "    <tr>\n",
       "      <th>0</th>\n",
       "      <td>yakfsh1</td>\n",
       "      <td>382.0</td>\n",
       "      <td>382.0</td>\n",
       "      <td>382.0</td>\n",
       "    </tr>\n",
       "    <tr>\n",
       "      <th>1</th>\n",
       "      <td>Tsquare43</td>\n",
       "      <td>62.0</td>\n",
       "      <td>62.0</td>\n",
       "      <td>62.0</td>\n",
       "    </tr>\n",
       "    <tr>\n",
       "      <th>2</th>\n",
       "      <td>SeaSpeakToMe</td>\n",
       "      <td>75.0</td>\n",
       "      <td>81.0</td>\n",
       "      <td>67.0</td>\n",
       "    </tr>\n",
       "    <tr>\n",
       "      <th>3</th>\n",
       "      <td>hurtingxliving</td>\n",
       "      <td>39.0</td>\n",
       "      <td>39.0</td>\n",
       "      <td>39.0</td>\n",
       "    </tr>\n",
       "    <tr>\n",
       "      <th>4</th>\n",
       "      <td>Minute-Photo6916</td>\n",
       "      <td>15.0</td>\n",
       "      <td>15.0</td>\n",
       "      <td>15.0</td>\n",
       "    </tr>\n",
       "  </tbody>\n",
       "</table>\n",
       "</div>"
      ],
      "text/plain": [
       "           username  avg_comment_length  max_comment_length  \\\n",
       "0           yakfsh1               382.0               382.0   \n",
       "1         Tsquare43                62.0                62.0   \n",
       "2      SeaSpeakToMe                75.0                81.0   \n",
       "3    hurtingxliving                39.0                39.0   \n",
       "4  Minute-Photo6916                15.0                15.0   \n",
       "\n",
       "   min_comment_length  \n",
       "0               382.0  \n",
       "1                62.0  \n",
       "2                67.0  \n",
       "3                39.0  \n",
       "4                15.0  "
      ]
     },
     "metadata": {},
     "output_type": "display_data"
    }
   ],
   "source": [
    "new_features = new_features.merge(comments_length_df, on='username', how='left')\n",
    "display(new_features.head())"
   ]
  },
  {
   "cell_type": "markdown",
   "metadata": {},
   "source": [
    "### Comment to post ratio"
   ]
  },
  {
   "cell_type": "code",
   "execution_count": 10,
   "metadata": {},
   "outputs": [],
   "source": [
    "def add_comment_post_ratio(df, comments_df, posts_df):\n",
    "    comments_per_user = comments_df.groupby('username').size().reset_index(name='num_comments')\n",
    "    posts_per_user = posts_df.groupby('username').size().reset_index(name='num_posts')\n",
    "    user_stats = comments_per_user.merge(posts_per_user, on='username', how='outer').fillna(0)\n",
    "    user_stats['comment_post_ratio'] = user_stats.apply(\n",
    "        lambda row: 0 if row['num_comments'] == 0 else (1 if row['num_posts'] == 0 else row['num_comments'] / row['num_posts']),\n",
    "        axis=1\n",
    "    )\n",
    "    df = df.merge(user_stats[['username', 'comment_post_ratio']], on='username', how='left')\n",
    "    \n",
    "    return df\n",
    "\n",
    "new_features = add_comment_post_ratio(new_features, comments_df, posts_df)"
   ]
  },
  {
   "cell_type": "code",
   "execution_count": 11,
   "metadata": {},
   "outputs": [
    {
     "data": {
      "text/html": [
       "<div>\n",
       "<style scoped>\n",
       "    .dataframe tbody tr th:only-of-type {\n",
       "        vertical-align: middle;\n",
       "    }\n",
       "\n",
       "    .dataframe tbody tr th {\n",
       "        vertical-align: top;\n",
       "    }\n",
       "\n",
       "    .dataframe thead th {\n",
       "        text-align: right;\n",
       "    }\n",
       "</style>\n",
       "<table border=\"1\" class=\"dataframe\">\n",
       "  <thead>\n",
       "    <tr style=\"text-align: right;\">\n",
       "      <th></th>\n",
       "      <th>username</th>\n",
       "      <th>comment_post_ratio_x</th>\n",
       "      <th>comment_post_ratio_y</th>\n",
       "    </tr>\n",
       "  </thead>\n",
       "  <tbody>\n",
       "    <tr>\n",
       "      <th>0</th>\n",
       "      <td>yakfsh1</td>\n",
       "      <td>0.0</td>\n",
       "      <td>1.0</td>\n",
       "    </tr>\n",
       "    <tr>\n",
       "      <th>1</th>\n",
       "      <td>Tsquare43</td>\n",
       "      <td>0.0</td>\n",
       "      <td>1.0</td>\n",
       "    </tr>\n",
       "    <tr>\n",
       "      <th>2</th>\n",
       "      <td>SeaSpeakToMe</td>\n",
       "      <td>0.0</td>\n",
       "      <td>1.0</td>\n",
       "    </tr>\n",
       "    <tr>\n",
       "      <th>3</th>\n",
       "      <td>hurtingxliving</td>\n",
       "      <td>0.0</td>\n",
       "      <td>1.0</td>\n",
       "    </tr>\n",
       "    <tr>\n",
       "      <th>4</th>\n",
       "      <td>Minute-Photo6916</td>\n",
       "      <td>0.0</td>\n",
       "      <td>1.0</td>\n",
       "    </tr>\n",
       "  </tbody>\n",
       "</table>\n",
       "</div>"
      ],
      "text/plain": [
       "           username  comment_post_ratio_x  comment_post_ratio_y\n",
       "0           yakfsh1                   0.0                   1.0\n",
       "1         Tsquare43                   0.0                   1.0\n",
       "2      SeaSpeakToMe                   0.0                   1.0\n",
       "3    hurtingxliving                   0.0                   1.0\n",
       "4  Minute-Photo6916                   0.0                   1.0"
      ]
     },
     "execution_count": 11,
     "metadata": {},
     "output_type": "execute_result"
    }
   ],
   "source": [
    "new_features.head()"
   ]
  },
  {
   "cell_type": "markdown",
   "metadata": {},
   "source": [
    "### Thread Average Depth"
   ]
  },
  {
   "cell_type": "code",
   "execution_count": 8,
   "metadata": {},
   "outputs": [],
   "source": [
    "def add_average_thread_depth(df, comments_df):\n",
    "    comments_df_copy = comments_df.copy()\n",
    "    parent_lookup = dict(zip(comments_df_copy['id'], comments_df_copy['parent_id']))\n",
    "\n",
    "    def calculate_depth(comment_id, parent_lookup):\n",
    "        depth = 0\n",
    "\n",
    "        while comment_id in parent_lookup and parent_lookup[comment_id].startswith(\"t1_\"):\n",
    "            parent_id = parent_lookup[comment_id]\n",
    "            comment_id = parent_id\n",
    "            depth += 1\n",
    "        return depth\n",
    "\n",
    "    comments_df_copy['depth'] = comments_df_copy['id'].apply(lambda x: calculate_depth(x, parent_lookup))\n",
    "    avg_depth_per_user = comments_df_copy.groupby('username')['depth'].mean().reset_index(name='avg_thread_depth')\n",
    "    df = df.merge(avg_depth_per_user, on='username', how='left')\n",
    "    \n",
    "    return df\n"
   ]
  },
  {
   "cell_type": "code",
   "execution_count": 9,
   "metadata": {},
   "outputs": [
    {
     "data": {
      "text/html": [
       "<div>\n",
       "<style scoped>\n",
       "    .dataframe tbody tr th:only-of-type {\n",
       "        vertical-align: middle;\n",
       "    }\n",
       "\n",
       "    .dataframe tbody tr th {\n",
       "        vertical-align: top;\n",
       "    }\n",
       "\n",
       "    .dataframe thead th {\n",
       "        text-align: right;\n",
       "    }\n",
       "</style>\n",
       "<table border=\"1\" class=\"dataframe\">\n",
       "  <thead>\n",
       "    <tr style=\"text-align: right;\">\n",
       "      <th></th>\n",
       "      <th>username</th>\n",
       "      <th>avg_thread_depth</th>\n",
       "    </tr>\n",
       "  </thead>\n",
       "  <tbody>\n",
       "    <tr>\n",
       "      <th>0</th>\n",
       "      <td>yakfsh1</td>\n",
       "      <td>0.500000</td>\n",
       "    </tr>\n",
       "    <tr>\n",
       "      <th>1</th>\n",
       "      <td>Tsquare43</td>\n",
       "      <td>0.666667</td>\n",
       "    </tr>\n",
       "    <tr>\n",
       "      <th>2</th>\n",
       "      <td>SeaSpeakToMe</td>\n",
       "      <td>1.000000</td>\n",
       "    </tr>\n",
       "    <tr>\n",
       "      <th>3</th>\n",
       "      <td>hurtingxliving</td>\n",
       "      <td>0.000000</td>\n",
       "    </tr>\n",
       "    <tr>\n",
       "      <th>4</th>\n",
       "      <td>Minute-Photo6916</td>\n",
       "      <td>1.000000</td>\n",
       "    </tr>\n",
       "  </tbody>\n",
       "</table>\n",
       "</div>"
      ],
      "text/plain": [
       "           username  avg_thread_depth\n",
       "0           yakfsh1          0.500000\n",
       "1         Tsquare43          0.666667\n",
       "2      SeaSpeakToMe          1.000000\n",
       "3    hurtingxliving          0.000000\n",
       "4  Minute-Photo6916          1.000000"
      ]
     },
     "metadata": {},
     "output_type": "display_data"
    }
   ],
   "source": [
    "new_features = add_average_thread_depth(new_features, comments_df)\n",
    "\n",
    "display(new_features.head())"
   ]
  },
  {
   "cell_type": "markdown",
   "metadata": {},
   "source": [
    "### Parent-child similarity"
   ]
  },
  {
   "cell_type": "code",
   "execution_count": null,
   "metadata": {},
   "outputs": [],
   "source": [
    "def add_average_similarity(df, comments_df):\n",
    "    comments_df_copy = comments_df.copy()\n",
    "    parent_lookup = dict(zip(comments_df_copy['id'], comments_df_copy['parent_id']))\n",
    "    comment_vectors = dict(zip(comments_df_copy['id'], comments_df_copy['vector']))\n",
    "\n",
    "    def calculate_highest_similarity(comment_id, parent_lookup, comment_vectors):\n",
    "        max_similarity = 0\n",
    "        current_id = comment_id\n",
    "        \n",
    "        while current_id in parent_lookup and parent_lookup[current_id].startswith(\"t1_\"):\n",
    "            parent_id = parent_lookup[current_id]\n",
    "            if parent_id in comment_vectors:\n",
    "                similarity = cosine_similarity(comment_vectors[comment_id], comment_vectors[parent_id])[0, 0]\n",
    "                max_similarity = max(max_similarity, similarity)\n",
    "            current_id = parent_id\n",
    "        \n",
    "        return max_similarity\n",
    "\n",
    "    comments_df_copy['similarity'] = comments_df_copy['id'].apply(\n",
    "        lambda x: calculate_highest_similarity(x, parent_lookup, comment_vectors)\n",
    "    )\n",
    "\n",
    "    user_similarity = comments_df_copy.groupby('username')['similarity'].mean().reset_index()\n",
    "    user_similarity.columns = ['username', 'average_similarity']\n",
    "    df = df.merge(user_similarity, on='username', how='left')\n",
    "    \n",
    "    return df\n"
   ]
  },
  {
   "cell_type": "code",
   "execution_count": 15,
   "metadata": {},
   "outputs": [
    {
     "data": {
      "text/html": [
       "<div>\n",
       "<style scoped>\n",
       "    .dataframe tbody tr th:only-of-type {\n",
       "        vertical-align: middle;\n",
       "    }\n",
       "\n",
       "    .dataframe tbody tr th {\n",
       "        vertical-align: top;\n",
       "    }\n",
       "\n",
       "    .dataframe thead th {\n",
       "        text-align: right;\n",
       "    }\n",
       "</style>\n",
       "<table border=\"1\" class=\"dataframe\">\n",
       "  <thead>\n",
       "    <tr style=\"text-align: right;\">\n",
       "      <th></th>\n",
       "      <th>username</th>\n",
       "      <th>average_similarity</th>\n",
       "    </tr>\n",
       "  </thead>\n",
       "  <tbody>\n",
       "    <tr>\n",
       "      <th>0</th>\n",
       "      <td>yakfsh1</td>\n",
       "      <td>0.0</td>\n",
       "    </tr>\n",
       "    <tr>\n",
       "      <th>1</th>\n",
       "      <td>Tsquare43</td>\n",
       "      <td>0.0</td>\n",
       "    </tr>\n",
       "    <tr>\n",
       "      <th>2</th>\n",
       "      <td>SeaSpeakToMe</td>\n",
       "      <td>0.0</td>\n",
       "    </tr>\n",
       "    <tr>\n",
       "      <th>3</th>\n",
       "      <td>hurtingxliving</td>\n",
       "      <td>0.0</td>\n",
       "    </tr>\n",
       "    <tr>\n",
       "      <th>4</th>\n",
       "      <td>Minute-Photo6916</td>\n",
       "      <td>0.0</td>\n",
       "    </tr>\n",
       "  </tbody>\n",
       "</table>\n",
       "</div>"
      ],
      "text/plain": [
       "           username  average_similarity\n",
       "0           yakfsh1                 0.0\n",
       "1         Tsquare43                 0.0\n",
       "2      SeaSpeakToMe                 0.0\n",
       "3    hurtingxliving                 0.0\n",
       "4  Minute-Photo6916                 0.0"
      ]
     },
     "metadata": {},
     "output_type": "display_data"
    }
   ],
   "source": [
    "new_features = add_average_similarity(new_features, comments_df)\n",
    "display(new_features.head())"
   ]
  },
  {
   "cell_type": "markdown",
   "metadata": {},
   "source": [
    "### Type-Token Ratio - This is a basic measure of lexical diversity."
   ]
  },
  {
   "cell_type": "code",
   "execution_count": 18,
   "metadata": {},
   "outputs": [],
   "source": [
    "def calculate_ttr(text):\n",
    "    tokens = word_tokenize(text)\n",
    "    num_tokens = len(tokens)\n",
    "    num_types = len(set(tokens))\n",
    "    if num_tokens == 0:\n",
    "        return 0\n",
    "    return num_types / num_tokens\n",
    "\n",
    "def add_average_ttr(df, comments_df):\n",
    "    comments_df['ttr'] = comments_df['cleaned_body'].apply(calculate_ttr)\n",
    "    avg_ttr_per_user = comments_df.groupby('username')['ttr'].mean().reset_index(name='avg_ttr')\n",
    "    df = df.merge(avg_ttr_per_user, on='username', how='left')\n",
    "    \n",
    "    return df"
   ]
  },
  {
   "cell_type": "code",
   "execution_count": 19,
   "metadata": {},
   "outputs": [
    {
     "data": {
      "text/html": [
       "<div>\n",
       "<style scoped>\n",
       "    .dataframe tbody tr th:only-of-type {\n",
       "        vertical-align: middle;\n",
       "    }\n",
       "\n",
       "    .dataframe tbody tr th {\n",
       "        vertical-align: top;\n",
       "    }\n",
       "\n",
       "    .dataframe thead th {\n",
       "        text-align: right;\n",
       "    }\n",
       "</style>\n",
       "<table border=\"1\" class=\"dataframe\">\n",
       "  <thead>\n",
       "    <tr style=\"text-align: right;\">\n",
       "      <th></th>\n",
       "      <th>username</th>\n",
       "      <th>average_similarity</th>\n",
       "      <th>avg_ttr</th>\n",
       "    </tr>\n",
       "  </thead>\n",
       "  <tbody>\n",
       "    <tr>\n",
       "      <th>0</th>\n",
       "      <td>yakfsh1</td>\n",
       "      <td>0.0</td>\n",
       "      <td>0.931034</td>\n",
       "    </tr>\n",
       "    <tr>\n",
       "      <th>1</th>\n",
       "      <td>Tsquare43</td>\n",
       "      <td>0.0</td>\n",
       "      <td>0.927318</td>\n",
       "    </tr>\n",
       "    <tr>\n",
       "      <th>2</th>\n",
       "      <td>SeaSpeakToMe</td>\n",
       "      <td>0.0</td>\n",
       "      <td>1.000000</td>\n",
       "    </tr>\n",
       "    <tr>\n",
       "      <th>3</th>\n",
       "      <td>hurtingxliving</td>\n",
       "      <td>0.0</td>\n",
       "      <td>0.888889</td>\n",
       "    </tr>\n",
       "    <tr>\n",
       "      <th>4</th>\n",
       "      <td>Minute-Photo6916</td>\n",
       "      <td>0.0</td>\n",
       "      <td>1.000000</td>\n",
       "    </tr>\n",
       "  </tbody>\n",
       "</table>\n",
       "</div>"
      ],
      "text/plain": [
       "           username  average_similarity   avg_ttr\n",
       "0           yakfsh1                 0.0  0.931034\n",
       "1         Tsquare43                 0.0  0.927318\n",
       "2      SeaSpeakToMe                 0.0  1.000000\n",
       "3    hurtingxliving                 0.0  0.888889\n",
       "4  Minute-Photo6916                 0.0  1.000000"
      ]
     },
     "metadata": {},
     "output_type": "display_data"
    }
   ],
   "source": [
    "new_features = add_average_ttr(new_features, comments_df)\n",
    "\n",
    "display(new_features.head())"
   ]
  },
  {
   "cell_type": "markdown",
   "metadata": {},
   "source": [
    "### Language Readability"
   ]
  },
  {
   "cell_type": "code",
   "execution_count": 22,
   "metadata": {},
   "outputs": [],
   "source": [
    "def calculate_flesch_kincaid_grade(text):\n",
    "    return textstat.flesch_kincaid_grade(text)\n",
    "\n",
    "def add_average_flesch_kincaid_grade(df, comments_df):\n",
    "    comments_df['flesch_kincaid_grade'] = comments_df['cleaned_body'].apply(calculate_flesch_kincaid_grade)\n",
    "    avg_grade_per_user = comments_df.groupby('username')['flesch_kincaid_grade'].mean().reset_index(name='avg_flesch_kincaid_grade')\n",
    "    df = df.merge(avg_grade_per_user, on='username', how='left')\n",
    "    \n",
    "    return df\n"
   ]
  },
  {
   "cell_type": "code",
   "execution_count": 23,
   "metadata": {},
   "outputs": [
    {
     "data": {
      "text/html": [
       "<div>\n",
       "<style scoped>\n",
       "    .dataframe tbody tr th:only-of-type {\n",
       "        vertical-align: middle;\n",
       "    }\n",
       "\n",
       "    .dataframe tbody tr th {\n",
       "        vertical-align: top;\n",
       "    }\n",
       "\n",
       "    .dataframe thead th {\n",
       "        text-align: right;\n",
       "    }\n",
       "</style>\n",
       "<table border=\"1\" class=\"dataframe\">\n",
       "  <thead>\n",
       "    <tr style=\"text-align: right;\">\n",
       "      <th></th>\n",
       "      <th>username</th>\n",
       "      <th>average_similarity</th>\n",
       "      <th>avg_ttr</th>\n",
       "      <th>avg_flesch_kincaid_grade</th>\n",
       "    </tr>\n",
       "  </thead>\n",
       "  <tbody>\n",
       "    <tr>\n",
       "      <th>0</th>\n",
       "      <td>yakfsh1</td>\n",
       "      <td>0.0</td>\n",
       "      <td>0.931034</td>\n",
       "      <td>12.1</td>\n",
       "    </tr>\n",
       "    <tr>\n",
       "      <th>1</th>\n",
       "      <td>Tsquare43</td>\n",
       "      <td>0.0</td>\n",
       "      <td>0.927318</td>\n",
       "      <td>6.9</td>\n",
       "    </tr>\n",
       "    <tr>\n",
       "      <th>2</th>\n",
       "      <td>SeaSpeakToMe</td>\n",
       "      <td>0.0</td>\n",
       "      <td>1.000000</td>\n",
       "      <td>1.3</td>\n",
       "    </tr>\n",
       "    <tr>\n",
       "      <th>3</th>\n",
       "      <td>hurtingxliving</td>\n",
       "      <td>0.0</td>\n",
       "      <td>0.888889</td>\n",
       "      <td>12.6</td>\n",
       "    </tr>\n",
       "    <tr>\n",
       "      <th>4</th>\n",
       "      <td>Minute-Photo6916</td>\n",
       "      <td>0.0</td>\n",
       "      <td>1.000000</td>\n",
       "      <td>-2.3</td>\n",
       "    </tr>\n",
       "  </tbody>\n",
       "</table>\n",
       "</div>"
      ],
      "text/plain": [
       "           username  average_similarity   avg_ttr  avg_flesch_kincaid_grade\n",
       "0           yakfsh1                 0.0  0.931034                      12.1\n",
       "1         Tsquare43                 0.0  0.927318                       6.9\n",
       "2      SeaSpeakToMe                 0.0  1.000000                       1.3\n",
       "3    hurtingxliving                 0.0  0.888889                      12.6\n",
       "4  Minute-Photo6916                 0.0  1.000000                      -2.3"
      ]
     },
     "metadata": {},
     "output_type": "display_data"
    }
   ],
   "source": [
    "new_features = add_average_flesch_kincaid_grade(new_features, comments_df)\n",
    "\n",
    "display(new_features.head())"
   ]
  },
  {
   "cell_type": "markdown",
   "metadata": {},
   "source": [
    "### Overlapping N-grams"
   ]
  },
  {
   "cell_type": "code",
   "execution_count": 31,
   "metadata": {},
   "outputs": [],
   "source": [
    "def get_ngrams(text, n=2):\n",
    "    vectorizer = CountVectorizer(ngram_range=(n, n))\n",
    "    analyzer = vectorizer.build_analyzer()\n",
    "    return set(analyzer(text))\n",
    "\n",
    "def calculate_overlap(comments, n=2):\n",
    "    if len(comments) < 2:\n",
    "        return 0.0\n",
    "    \n",
    "    all_ngrams = [get_ngrams(comment, n) for comment in comments]\n",
    "    overlap_count = 0\n",
    "    total_count = 0\n",
    "    \n",
    "    for i in range(len(all_ngrams)):\n",
    "        for j in range(i + 1, len(all_ngrams)):\n",
    "            overlap_count += len(all_ngrams[i].intersection(all_ngrams[j]))\n",
    "            total_count += len(all_ngrams[i].union(all_ngrams[j]))\n",
    "    \n",
    "    if total_count == 0:\n",
    "        return 0.0\n",
    "    \n",
    "    return overlap_count / total_count\n",
    "\n",
    "def add_ngram_overlap(df, comments_df, n=2):\n",
    "    grouped_comments = comments_df.groupby('username')['cleaned_body'].apply(list)\n",
    "    \n",
    "    overlap_ratios = {}\n",
    "    \n",
    "    for username, comments in tqdm(grouped_comments.items(), desc=\"Calculating n-gram overlap\", total=len(grouped_comments)):\n",
    "        overlap_ratios[username] = calculate_overlap(comments, n)\n",
    "    \n",
    "    overlap_df = pd.DataFrame(list(overlap_ratios.items()), columns=['username', 'ngram_overlap'])\n",
    "    \n",
    "    df = df.merge(overlap_df, on='username', how='left')\n",
    "    \n",
    "    return df"
   ]
  },
  {
   "cell_type": "code",
   "execution_count": 32,
   "metadata": {},
   "outputs": [
    {
     "name": "stderr",
     "output_type": "stream",
     "text": [
      "Calculating n-gram overlap: 100%|██████████| 180960/180960 [00:35<00:00, 5116.68it/s] \n"
     ]
    },
    {
     "data": {
      "text/html": [
       "<div>\n",
       "<style scoped>\n",
       "    .dataframe tbody tr th:only-of-type {\n",
       "        vertical-align: middle;\n",
       "    }\n",
       "\n",
       "    .dataframe tbody tr th {\n",
       "        vertical-align: top;\n",
       "    }\n",
       "\n",
       "    .dataframe thead th {\n",
       "        text-align: right;\n",
       "    }\n",
       "</style>\n",
       "<table border=\"1\" class=\"dataframe\">\n",
       "  <thead>\n",
       "    <tr style=\"text-align: right;\">\n",
       "      <th></th>\n",
       "      <th>username</th>\n",
       "      <th>average_similarity</th>\n",
       "      <th>avg_ttr</th>\n",
       "      <th>avg_flesch_kincaid_grade</th>\n",
       "      <th>avg_cosine_similarity</th>\n",
       "      <th>ngram_overlap</th>\n",
       "    </tr>\n",
       "  </thead>\n",
       "  <tbody>\n",
       "    <tr>\n",
       "      <th>0</th>\n",
       "      <td>yakfsh1</td>\n",
       "      <td>0.0</td>\n",
       "      <td>0.931034</td>\n",
       "      <td>12.1</td>\n",
       "      <td>1.0</td>\n",
       "      <td>0.0</td>\n",
       "    </tr>\n",
       "    <tr>\n",
       "      <th>1</th>\n",
       "      <td>Tsquare43</td>\n",
       "      <td>0.0</td>\n",
       "      <td>0.927318</td>\n",
       "      <td>6.9</td>\n",
       "      <td>1.0</td>\n",
       "      <td>0.0</td>\n",
       "    </tr>\n",
       "    <tr>\n",
       "      <th>2</th>\n",
       "      <td>SeaSpeakToMe</td>\n",
       "      <td>0.0</td>\n",
       "      <td>1.000000</td>\n",
       "      <td>1.3</td>\n",
       "      <td>NaN</td>\n",
       "      <td>0.0</td>\n",
       "    </tr>\n",
       "    <tr>\n",
       "      <th>3</th>\n",
       "      <td>hurtingxliving</td>\n",
       "      <td>0.0</td>\n",
       "      <td>0.888889</td>\n",
       "      <td>12.6</td>\n",
       "      <td>NaN</td>\n",
       "      <td>0.0</td>\n",
       "    </tr>\n",
       "    <tr>\n",
       "      <th>4</th>\n",
       "      <td>Minute-Photo6916</td>\n",
       "      <td>0.0</td>\n",
       "      <td>1.000000</td>\n",
       "      <td>-2.3</td>\n",
       "      <td>NaN</td>\n",
       "      <td>0.0</td>\n",
       "    </tr>\n",
       "  </tbody>\n",
       "</table>\n",
       "</div>"
      ],
      "text/plain": [
       "           username  average_similarity   avg_ttr  avg_flesch_kincaid_grade  \\\n",
       "0           yakfsh1                 0.0  0.931034                      12.1   \n",
       "1         Tsquare43                 0.0  0.927318                       6.9   \n",
       "2      SeaSpeakToMe                 0.0  1.000000                       1.3   \n",
       "3    hurtingxliving                 0.0  0.888889                      12.6   \n",
       "4  Minute-Photo6916                 0.0  1.000000                      -2.3   \n",
       "\n",
       "   avg_cosine_similarity  ngram_overlap  \n",
       "0                    1.0            0.0  \n",
       "1                    1.0            0.0  \n",
       "2                    NaN            0.0  \n",
       "3                    NaN            0.0  \n",
       "4                    NaN            0.0  "
      ]
     },
     "metadata": {},
     "output_type": "display_data"
    }
   ],
   "source": [
    "new_features = add_ngram_overlap(new_features, comments_df, n=2)\n",
    "\n",
    "display(new_features.head())"
   ]
  }
 ],
 "metadata": {
  "kernelspec": {
   "display_name": "PGM",
   "language": "python",
   "name": "python3"
  },
  "language_info": {
   "codemirror_mode": {
    "name": "ipython",
    "version": 3
   },
   "file_extension": ".py",
   "mimetype": "text/x-python",
   "name": "python",
   "nbconvert_exporter": "python",
   "pygments_lexer": "ipython3",
   "version": "3.10.13"
  }
 },
 "nbformat": 4,
 "nbformat_minor": 2
}
