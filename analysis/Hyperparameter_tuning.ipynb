{
 "cells": [
  {
   "cell_type": "markdown",
   "metadata": {},
   "source": [
    "# Hyperparameter tuning"
   ]
  },
  {
   "cell_type": "markdown",
   "metadata": {},
   "source": [
    "## Imports"
   ]
  },
  {
   "cell_type": "code",
   "execution_count": 1,
   "metadata": {},
   "outputs": [
    {
     "name": "stderr",
     "output_type": "stream",
     "text": [
      "d:\\Anaconda\\envs\\PGM\\lib\\site-packages\\tqdm\\auto.py:21: TqdmWarning: IProgress not found. Please update jupyter and ipywidgets. See https://ipywidgets.readthedocs.io/en/stable/user_install.html\n",
      "  from .autonotebook import tqdm as notebook_tqdm\n"
     ]
    }
   ],
   "source": [
    "from inspect import signature\n",
    "\n",
    "import matplotlib.pyplot as plt\n",
    "import numpy as np\n",
    "import optuna\n",
    "import pandas as pd\n",
    "from matplotlib import pyplot as plt\n",
    "from sklearn.base import BaseEstimator, TransformerMixin, clone\n",
    "from sklearn.compose import ColumnTransformer\n",
    "from sklearn.ensemble import IsolationForest, RandomForestClassifier\n",
    "from sklearn.impute import SimpleImputer\n",
    "from sklearn.metrics import (ConfusionMatrixDisplay, accuracy_score,\n",
    "                             confusion_matrix, f1_score, matthews_corrcoef,\n",
    "                             precision_score, recall_score)\n",
    "from sklearn.model_selection import cross_val_predict, train_test_split\n",
    "from sklearn.pipeline import Pipeline\n",
    "from sklearn.preprocessing import FunctionTransformer, StandardScaler"
   ]
  },
  {
   "cell_type": "markdown",
   "metadata": {},
   "source": [
    "## Data Load and Split"
   ]
  },
  {
   "cell_type": "code",
   "execution_count": 2,
   "metadata": {},
   "outputs": [
    {
     "data": {
      "text/html": [
       "<div>\n",
       "<style scoped>\n",
       "    .dataframe tbody tr th:only-of-type {\n",
       "        vertical-align: middle;\n",
       "    }\n",
       "\n",
       "    .dataframe tbody tr th {\n",
       "        vertical-align: top;\n",
       "    }\n",
       "\n",
       "    .dataframe thead th {\n",
       "        text-align: right;\n",
       "    }\n",
       "</style>\n",
       "<table border=\"1\" class=\"dataframe\">\n",
       "  <thead>\n",
       "    <tr style=\"text-align: right;\">\n",
       "      <th></th>\n",
       "      <th>username</th>\n",
       "      <th>link_karma</th>\n",
       "      <th>comment_karma</th>\n",
       "      <th>account_age</th>\n",
       "      <th>is_verified</th>\n",
       "      <th>avg_cosine_similarity</th>\n",
       "      <th>all_users_similarity</th>\n",
       "      <th>avg_comment_length</th>\n",
       "      <th>max_comment_length</th>\n",
       "      <th>min_comment_length</th>\n",
       "      <th>comment_post_ratio</th>\n",
       "      <th>avg_thread_depth</th>\n",
       "      <th>parent_child_similarity</th>\n",
       "      <th>avg_ttr</th>\n",
       "      <th>avg_flesch_kincaid_grade</th>\n",
       "      <th>ngram_overlap</th>\n",
       "    </tr>\n",
       "  </thead>\n",
       "  <tbody>\n",
       "    <tr>\n",
       "      <th>0</th>\n",
       "      <td>yakfsh1</td>\n",
       "      <td>19830.0</td>\n",
       "      <td>88232.0</td>\n",
       "      <td>1440.0</td>\n",
       "      <td>True</td>\n",
       "      <td>1.0</td>\n",
       "      <td>1.0</td>\n",
       "      <td>382.0</td>\n",
       "      <td>382.0</td>\n",
       "      <td>382.0</td>\n",
       "      <td>1.0</td>\n",
       "      <td>0.500000</td>\n",
       "      <td>0.0</td>\n",
       "      <td>0.931034</td>\n",
       "      <td>12.1</td>\n",
       "      <td>0.0</td>\n",
       "    </tr>\n",
       "    <tr>\n",
       "      <th>1</th>\n",
       "      <td>Tsquare43</td>\n",
       "      <td>699100.0</td>\n",
       "      <td>720902.0</td>\n",
       "      <td>3636.0</td>\n",
       "      <td>True</td>\n",
       "      <td>1.0</td>\n",
       "      <td>1.0</td>\n",
       "      <td>62.0</td>\n",
       "      <td>62.0</td>\n",
       "      <td>62.0</td>\n",
       "      <td>1.0</td>\n",
       "      <td>0.666667</td>\n",
       "      <td>0.0</td>\n",
       "      <td>0.927318</td>\n",
       "      <td>6.9</td>\n",
       "      <td>0.0</td>\n",
       "    </tr>\n",
       "    <tr>\n",
       "      <th>2</th>\n",
       "      <td>SeaSpeakToMe</td>\n",
       "      <td>236.0</td>\n",
       "      <td>11628.0</td>\n",
       "      <td>1029.0</td>\n",
       "      <td>True</td>\n",
       "      <td>NaN</td>\n",
       "      <td>1.0</td>\n",
       "      <td>75.0</td>\n",
       "      <td>81.0</td>\n",
       "      <td>67.0</td>\n",
       "      <td>1.0</td>\n",
       "      <td>1.000000</td>\n",
       "      <td>0.0</td>\n",
       "      <td>1.000000</td>\n",
       "      <td>1.3</td>\n",
       "      <td>0.0</td>\n",
       "    </tr>\n",
       "    <tr>\n",
       "      <th>3</th>\n",
       "      <td>hurtingxliving</td>\n",
       "      <td>848.0</td>\n",
       "      <td>1275.0</td>\n",
       "      <td>2001.0</td>\n",
       "      <td>True</td>\n",
       "      <td>NaN</td>\n",
       "      <td>1.0</td>\n",
       "      <td>39.0</td>\n",
       "      <td>39.0</td>\n",
       "      <td>39.0</td>\n",
       "      <td>1.0</td>\n",
       "      <td>0.000000</td>\n",
       "      <td>0.0</td>\n",
       "      <td>0.888889</td>\n",
       "      <td>12.6</td>\n",
       "      <td>0.0</td>\n",
       "    </tr>\n",
       "    <tr>\n",
       "      <th>4</th>\n",
       "      <td>Minute-Photo6916</td>\n",
       "      <td>1.0</td>\n",
       "      <td>4.0</td>\n",
       "      <td>12.0</td>\n",
       "      <td>True</td>\n",
       "      <td>NaN</td>\n",
       "      <td>1.0</td>\n",
       "      <td>15.0</td>\n",
       "      <td>15.0</td>\n",
       "      <td>15.0</td>\n",
       "      <td>1.0</td>\n",
       "      <td>1.000000</td>\n",
       "      <td>0.0</td>\n",
       "      <td>1.000000</td>\n",
       "      <td>-2.3</td>\n",
       "      <td>0.0</td>\n",
       "    </tr>\n",
       "  </tbody>\n",
       "</table>\n",
       "</div>"
      ],
      "text/plain": [
       "           username  link_karma  comment_karma  account_age is_verified  \\\n",
       "0           yakfsh1     19830.0        88232.0       1440.0        True   \n",
       "1         Tsquare43    699100.0       720902.0       3636.0        True   \n",
       "2      SeaSpeakToMe       236.0        11628.0       1029.0        True   \n",
       "3    hurtingxliving       848.0         1275.0       2001.0        True   \n",
       "4  Minute-Photo6916         1.0            4.0         12.0        True   \n",
       "\n",
       "   avg_cosine_similarity  all_users_similarity  avg_comment_length  \\\n",
       "0                    1.0                   1.0               382.0   \n",
       "1                    1.0                   1.0                62.0   \n",
       "2                    NaN                   1.0                75.0   \n",
       "3                    NaN                   1.0                39.0   \n",
       "4                    NaN                   1.0                15.0   \n",
       "\n",
       "   max_comment_length  min_comment_length  comment_post_ratio  \\\n",
       "0               382.0               382.0                 1.0   \n",
       "1                62.0                62.0                 1.0   \n",
       "2                81.0                67.0                 1.0   \n",
       "3                39.0                39.0                 1.0   \n",
       "4                15.0                15.0                 1.0   \n",
       "\n",
       "   avg_thread_depth  parent_child_similarity   avg_ttr  \\\n",
       "0          0.500000                      0.0  0.931034   \n",
       "1          0.666667                      0.0  0.927318   \n",
       "2          1.000000                      0.0  1.000000   \n",
       "3          0.000000                      0.0  0.888889   \n",
       "4          1.000000                      0.0  1.000000   \n",
       "\n",
       "   avg_flesch_kincaid_grade  ngram_overlap  \n",
       "0                      12.1            0.0  \n",
       "1                       6.9            0.0  \n",
       "2                       1.3            0.0  \n",
       "3                      12.6            0.0  \n",
       "4                      -2.3            0.0  "
      ]
     },
     "metadata": {},
     "output_type": "display_data"
    },
    {
     "data": {
      "text/html": [
       "<div>\n",
       "<style scoped>\n",
       "    .dataframe tbody tr th:only-of-type {\n",
       "        vertical-align: middle;\n",
       "    }\n",
       "\n",
       "    .dataframe tbody tr th {\n",
       "        vertical-align: top;\n",
       "    }\n",
       "\n",
       "    .dataframe thead th {\n",
       "        text-align: right;\n",
       "    }\n",
       "</style>\n",
       "<table border=\"1\" class=\"dataframe\">\n",
       "  <thead>\n",
       "    <tr style=\"text-align: right;\">\n",
       "      <th></th>\n",
       "      <th>username</th>\n",
       "      <th>is_bot</th>\n",
       "    </tr>\n",
       "  </thead>\n",
       "  <tbody>\n",
       "    <tr>\n",
       "      <th>0</th>\n",
       "      <td>yakfsh1</td>\n",
       "      <td>False</td>\n",
       "    </tr>\n",
       "    <tr>\n",
       "      <th>1</th>\n",
       "      <td>Tsquare43</td>\n",
       "      <td>False</td>\n",
       "    </tr>\n",
       "    <tr>\n",
       "      <th>2</th>\n",
       "      <td>SeaSpeakToMe</td>\n",
       "      <td>False</td>\n",
       "    </tr>\n",
       "    <tr>\n",
       "      <th>3</th>\n",
       "      <td>hurtingxliving</td>\n",
       "      <td>False</td>\n",
       "    </tr>\n",
       "    <tr>\n",
       "      <th>4</th>\n",
       "      <td>Minute-Photo6916</td>\n",
       "      <td>False</td>\n",
       "    </tr>\n",
       "  </tbody>\n",
       "</table>\n",
       "</div>"
      ],
      "text/plain": [
       "           username  is_bot\n",
       "0           yakfsh1   False\n",
       "1         Tsquare43   False\n",
       "2      SeaSpeakToMe   False\n",
       "3    hurtingxliving   False\n",
       "4  Minute-Photo6916   False"
      ]
     },
     "metadata": {},
     "output_type": "display_data"
    }
   ],
   "source": [
    "x_df = pd.read_csv('..\\\\data\\\\features.csv')\n",
    "y_df = pd.read_csv('..\\\\data\\\\labels.csv')\n",
    "\n",
    "display(x_df.head())\n",
    "display(y_df.head())"
   ]
  },
  {
   "cell_type": "code",
   "execution_count": 3,
   "metadata": {},
   "outputs": [],
   "source": [
    "def create_balanced_dataset(y_df, x_df, bot_ratio=0.4):\n",
    "    merged_df = pd.merge(y_df, x_df, on='username')\n",
    "    bot_users = merged_df[merged_df['is_bot'] == True]\n",
    "\n",
    "    num_bots = len(bot_users)\n",
    "    num_non_bots = int((num_bots / bot_ratio) - num_bots)\n",
    "    non_bot_users = merged_df[merged_df['is_bot'] == False].sample(n=num_non_bots, random_state=42)\n",
    "    balanced_df = pd.concat([bot_users, non_bot_users])\n",
    "\n",
    "    new_y_df = balanced_df[['username', 'is_bot']]\n",
    "    new_x_df = balanced_df.drop(columns=['is_bot'])\n",
    "    \n",
    "    return new_x_df, new_y_df"
   ]
  },
  {
   "cell_type": "code",
   "execution_count": 4,
   "metadata": {},
   "outputs": [],
   "source": [
    "X_df_balanced, y_df_balanced = create_balanced_dataset(y_df, x_df)"
   ]
  },
  {
   "cell_type": "code",
   "execution_count": 5,
   "metadata": {},
   "outputs": [],
   "source": [
    "X_train, X_test, y_train, y_test = train_test_split(X_df_balanced, y_df_balanced, test_size=0.2, random_state=42, stratify=y_df_balanced['is_bot'])"
   ]
  },
  {
   "cell_type": "markdown",
   "metadata": {},
   "source": [
    "## Data preprocessing"
   ]
  },
  {
   "cell_type": "code",
   "execution_count": 6,
   "metadata": {},
   "outputs": [],
   "source": [
    "def drop_columns(X, columns):\n",
    "    return X.drop(columns, axis=1)\n",
    "\n",
    "\n",
    "def replace_none(X, column_value_pairs):\n",
    "    for column, value in column_value_pairs.items():\n",
    "        X.loc[:, column] = X[column].fillna(value).infer_objects(copy=False)\n",
    "    return X\n",
    "\n",
    "def convert_bool(X, columns):\n",
    "    for column in columns:\n",
    "        X.loc[:, column] = X[column].apply(lambda x: 1 if x else 0)\n",
    "    return X\n",
    "\n",
    "\n",
    "def drop_rows_with_none(X, columns):\n",
    "    return X.dropna(subset=columns)\n"
   ]
  },
  {
   "cell_type": "code",
   "execution_count": 7,
   "metadata": {},
   "outputs": [],
   "source": [
    "class CustomStandardizer(BaseEstimator, TransformerMixin):\n",
    "    def __init__(self, columns_to_standardize):\n",
    "        self.columns_to_standardize = columns_to_standardize\n",
    "        self.standard_scaler = StandardScaler()\n",
    "        self.imputer = SimpleImputer(strategy='constant', fill_value=1)\n",
    "\n",
    "    def fit(self, X, y=None):\n",
    "        X = X.copy()\n",
    "        without_none = X.dropna(subset=self.columns_to_standardize)\n",
    "        self.standard_scaler.fit(without_none[self.columns_to_standardize])\n",
    "        self.imputer.fit(X[self.columns_to_standardize])\n",
    "        return self\n",
    "\n",
    "    def transform(self, X, y=None):\n",
    "        without_none = X.dropna(subset=self.columns_to_standardize)\n",
    "        with_none = X[~X.index.isin(without_none.index)]\n",
    "        X_standardized = self.standard_scaler.transform(without_none[self.columns_to_standardize])\n",
    "        X_combined = np.hstack([X_standardized, without_none.drop(columns=self.columns_to_standardize, axis=1)])\n",
    "        X_combined_df = pd.DataFrame(X_combined, index=without_none.index, columns=list(self.columns_to_standardize) + list(without_none.drop(columns=self.columns_to_standardize, axis=1).columns))\n",
    "        X_final = pd.concat([X_combined_df, with_none], axis=0).sort_index()\n",
    "        X_final[self.columns_to_standardize] = self.imputer.transform(X_final[self.columns_to_standardize])\n",
    "        return X_final\n",
    "\n",
    "    def fit_transform(self, X, y=None):\n",
    "        return self.fit(X, y).transform(X)\n",
    "\n",
    "\n",
    "class OutlierRemover(BaseEstimator, TransformerMixin):\n",
    "    def __init__(self, outlier_columns, contamination=0.01):\n",
    "        self.outlier_columns = outlier_columns\n",
    "        self.contamination = contamination\n",
    "        self.clf = IsolationForest(n_estimators=100, contamination=self.contamination, random_state=42)\n",
    "\n",
    "    def fit(self, X, y=None):\n",
    "        X_copy = X[self.outlier_columns].copy()\n",
    "        self.clf.fit(X_copy)\n",
    "        return self\n",
    "\n",
    "    def transform(self, X, y=None):\n",
    "        X_copy = X[self.outlier_columns].copy()\n",
    "        outliers = self.clf.predict(X_copy)\n",
    "        mask = outliers == 1\n",
    "        if y is None:\n",
    "            return X[mask]\n",
    "        else:\n",
    "            return X[mask], y.loc[X[mask].index]\n",
    "    \n",
    "    def fit_transform(self, X, y=None):\n",
    "        self.fit(X)\n",
    "        return self.transform(X, y)\n",
    "\n",
    "\n",
    "class CustomColumnTransformer(ColumnTransformer):\n",
    "    def fit(self, X, y=None):\n",
    "        if isinstance(X, tuple):\n",
    "            X, y = X\n",
    "        result = super().fit(X, y)\n",
    "        return result, y\n",
    "\n",
    "    def transform(self, X, y=None):\n",
    "        y = None\n",
    "        if isinstance(X, tuple):\n",
    "            X, y = X\n",
    "        result = super().transform(X)\n",
    "        return result, y\n",
    "\n",
    "    def fit_transform(self, X, y=None):\n",
    "        if isinstance(X, tuple):\n",
    "            X, y = X\n",
    "        result = super().fit_transform(X, y)\n",
    "        return result, y"
   ]
  },
  {
   "cell_type": "code",
   "execution_count": 8,
   "metadata": {},
   "outputs": [],
   "source": [
    "columns_to_drop = [\"username\", \"parent_child_similarity\"]\n",
    "to_standardization = [\n",
    "    \"avg_comment_length\",\n",
    "    \"max_comment_length\",\n",
    "    \"min_comment_length\",\n",
    "    \"avg_flesch_kincaid_grade\",\n",
    "    \"link_karma\",\n",
    "    \"comment_karma\",\n",
    "    \"account_age\",\n",
    "    \"is_verified\",\n",
    "]\n",
    "columns_to_standardize_before_replace = [\n",
    "    \"comment_post_ratio\",\n",
    "]\n",
    "columns_to_replace_none = {\n",
    "    'avg_cosine_similarity': 0,\n",
    "    'all_users_similarity': 0,\n",
    "    'avg_thread_depth': 0,\n",
    "    'avg_ttr': 0,\n",
    "    'ngram_overlap': 0,\n",
    "    \"avg_comment_length\": 0,\n",
    "    \"max_comment_length\": 0,\n",
    "    \"min_comment_length\": 0,\n",
    "    \"avg_flesch_kincaid_grade\": 0,\n",
    "    \"link_karma\": 0,\n",
    "    \"comment_karma\": 0,\n",
    "    \"account_age\": 0,\n",
    "    \"is_verified\": 0,\n",
    "}\n",
    "columns_to_drop_none = [\n",
    "    'link_karma',\n",
    "    'comment_karma',\n",
    "    'account_age',\n",
    "    'is_verified',\n",
    "]\n",
    "columns_to_convert_bool = [\n",
    "    'is_verified',\n",
    "]\n",
    "to_remove_outliers = [\n",
    "    'link_karma',\n",
    "    'comment_karma',\n",
    "    \"avg_comment_length\",\n",
    "    \"max_comment_length\",\n",
    "    \"min_comment_length\",\n",
    "]"
   ]
  },
  {
   "cell_type": "code",
   "execution_count": 9,
   "metadata": {},
   "outputs": [],
   "source": [
    "none_transformer = Pipeline(\n",
    "    steps=[\n",
    "        ('drop_columns', FunctionTransformer(drop_columns, kw_args={'columns': columns_to_drop})),\n",
    "        ('drop_rows_with_none', FunctionTransformer(drop_rows_with_none, kw_args={'columns': columns_to_drop_none})),\n",
    "        ('convert_bool', FunctionTransformer(convert_bool, kw_args={'columns': columns_to_convert_bool})),\n",
    "        ('replace_none_without_std', FunctionTransformer(replace_none, kw_args={'column_value_pairs': columns_to_replace_none})),\n",
    "    ]\n",
    ")\n",
    "\n",
    "column_preprocessor = CustomColumnTransformer(\n",
    "    transformers=[\n",
    "        ('standardization', StandardScaler(), to_standardization),\n",
    "        ('std_before_replace', CustomStandardizer(columns_to_standardize_before_replace), columns_to_standardize_before_replace),\n",
    "    ], remainder='passthrough'\n",
    ")"
   ]
  },
  {
   "cell_type": "code",
   "execution_count": 10,
   "metadata": {},
   "outputs": [],
   "source": [
    "class CustomPipeline(Pipeline):\n",
    "    def transform(self, X, y=None, **transform_params):\n",
    "        Xt = X\n",
    "        for _, name, transform in self._iter(with_final=False):\n",
    "            if hasattr(transform, \"transform\"):\n",
    "                # Check if transform accepts y as a parameter\n",
    "                sig = signature(transform.transform)\n",
    "                if \"y\" in sig.parameters:\n",
    "                    Xt = transform.transform(Xt, y=y, **transform_params)\n",
    "                else:\n",
    "                    Xt = transform.transform(Xt, **transform_params)\n",
    "        return Xt"
   ]
  },
  {
   "cell_type": "code",
   "execution_count": 11,
   "metadata": {},
   "outputs": [],
   "source": [
    "preprocessing_pipeline = CustomPipeline(\n",
    "    steps=[\n",
    "        ('none_transformer', none_transformer),\n",
    "        ('outlier_remover', OutlierRemover(to_remove_outliers)),\n",
    "        ('column_preprocessor', column_preprocessor),\n",
    "    ]\n",
    ")"
   ]
  },
  {
   "cell_type": "code",
   "execution_count": 12,
   "metadata": {},
   "outputs": [
    {
     "name": "stderr",
     "output_type": "stream",
     "text": [
      "C:\\Users\\dawir\\AppData\\Local\\Temp\\ipykernel_4132\\3790178958.py:7: FutureWarning: Downcasting object dtype arrays on .fillna, .ffill, .bfill is deprecated and will change in a future version. Call result.infer_objects(copy=False) instead. To opt-in to the future behavior, set `pd.set_option('future.no_silent_downcasting', True)`\n",
      "  X.loc[:, column] = X[column].fillna(value).infer_objects(copy=False)\n",
      "C:\\Users\\dawir\\AppData\\Local\\Temp\\ipykernel_4132\\3790178958.py:7: FutureWarning: Downcasting object dtype arrays on .fillna, .ffill, .bfill is deprecated and will change in a future version. Call result.infer_objects(copy=False) instead. To opt-in to the future behavior, set `pd.set_option('future.no_silent_downcasting', True)`\n",
      "  X.loc[:, column] = X[column].fillna(value).infer_objects(copy=False)\n"
     ]
    }
   ],
   "source": [
    "X_train_preprocessed, y_train_preprocessed = preprocessing_pipeline.fit_transform(X_train, pd.DataFrame(y_train['is_bot']))\n",
    "X_test_preprocessed, y_test_preprocessed = preprocessing_pipeline.transform(X_test, pd.DataFrame(y_test['is_bot']))"
   ]
  },
  {
   "cell_type": "code",
   "execution_count": 13,
   "metadata": {},
   "outputs": [
    {
     "data": {
      "text/plain": [
       "((4284, 14), (4284, 1), (1064, 14), (1064, 1))"
      ]
     },
     "execution_count": 13,
     "metadata": {},
     "output_type": "execute_result"
    }
   ],
   "source": [
    "X_train_preprocessed.shape, y_train_preprocessed.shape, X_test_preprocessed.shape, y_test_preprocessed.shape"
   ]
  },
  {
   "cell_type": "markdown",
   "metadata": {},
   "source": [
    "## Train"
   ]
  },
  {
   "cell_type": "code",
   "execution_count": 14,
   "metadata": {},
   "outputs": [],
   "source": [
    "def print_metrics(y_true, y_pred):\n",
    "    print(f\"Matthews correlation coefficient: {matthews_corrcoef(y_true, y_pred)}\")\n",
    "    print(f\"Recall: {recall_score(y_true, y_pred)}\")\n",
    "    print(f\"Precision: {precision_score(y_true, y_pred)}\")\n",
    "    print(f\"F1 score: {f1_score(y_true, y_pred)}\")\n",
    "    print(f\"Accuracy: {accuracy_score(y_true, y_pred)}\")\n",
    "\n",
    "    cm = confusion_matrix(y_true, y_pred)\n",
    "\n",
    "    disp = ConfusionMatrixDisplay(confusion_matrix=cm)\n",
    "    disp.plot(cmap=plt.cm.Blues)\n",
    "    plt.show()\n"
   ]
  },
  {
   "cell_type": "code",
   "execution_count": 15,
   "metadata": {},
   "outputs": [],
   "source": [
    "y_train_preprocessed_np = y_train_preprocessed.values.ravel()\n",
    "X_test_preprocessed_np = X_test_preprocessed.values"
   ]
  },
  {
   "cell_type": "code",
   "execution_count": 16,
   "metadata": {},
   "outputs": [
    {
     "data": {
      "text/html": [
       "<style>#sk-container-id-1 {\n",
       "  /* Definition of color scheme common for light and dark mode */\n",
       "  --sklearn-color-text: black;\n",
       "  --sklearn-color-line: gray;\n",
       "  /* Definition of color scheme for unfitted estimators */\n",
       "  --sklearn-color-unfitted-level-0: #fff5e6;\n",
       "  --sklearn-color-unfitted-level-1: #f6e4d2;\n",
       "  --sklearn-color-unfitted-level-2: #ffe0b3;\n",
       "  --sklearn-color-unfitted-level-3: chocolate;\n",
       "  /* Definition of color scheme for fitted estimators */\n",
       "  --sklearn-color-fitted-level-0: #f0f8ff;\n",
       "  --sklearn-color-fitted-level-1: #d4ebff;\n",
       "  --sklearn-color-fitted-level-2: #b3dbfd;\n",
       "  --sklearn-color-fitted-level-3: cornflowerblue;\n",
       "\n",
       "  /* Specific color for light theme */\n",
       "  --sklearn-color-text-on-default-background: var(--sg-text-color, var(--theme-code-foreground, var(--jp-content-font-color1, black)));\n",
       "  --sklearn-color-background: var(--sg-background-color, var(--theme-background, var(--jp-layout-color0, white)));\n",
       "  --sklearn-color-border-box: var(--sg-text-color, var(--theme-code-foreground, var(--jp-content-font-color1, black)));\n",
       "  --sklearn-color-icon: #696969;\n",
       "\n",
       "  @media (prefers-color-scheme: dark) {\n",
       "    /* Redefinition of color scheme for dark theme */\n",
       "    --sklearn-color-text-on-default-background: var(--sg-text-color, var(--theme-code-foreground, var(--jp-content-font-color1, white)));\n",
       "    --sklearn-color-background: var(--sg-background-color, var(--theme-background, var(--jp-layout-color0, #111)));\n",
       "    --sklearn-color-border-box: var(--sg-text-color, var(--theme-code-foreground, var(--jp-content-font-color1, white)));\n",
       "    --sklearn-color-icon: #878787;\n",
       "  }\n",
       "}\n",
       "\n",
       "#sk-container-id-1 {\n",
       "  color: var(--sklearn-color-text);\n",
       "}\n",
       "\n",
       "#sk-container-id-1 pre {\n",
       "  padding: 0;\n",
       "}\n",
       "\n",
       "#sk-container-id-1 input.sk-hidden--visually {\n",
       "  border: 0;\n",
       "  clip: rect(1px 1px 1px 1px);\n",
       "  clip: rect(1px, 1px, 1px, 1px);\n",
       "  height: 1px;\n",
       "  margin: -1px;\n",
       "  overflow: hidden;\n",
       "  padding: 0;\n",
       "  position: absolute;\n",
       "  width: 1px;\n",
       "}\n",
       "\n",
       "#sk-container-id-1 div.sk-dashed-wrapped {\n",
       "  border: 1px dashed var(--sklearn-color-line);\n",
       "  margin: 0 0.4em 0.5em 0.4em;\n",
       "  box-sizing: border-box;\n",
       "  padding-bottom: 0.4em;\n",
       "  background-color: var(--sklearn-color-background);\n",
       "}\n",
       "\n",
       "#sk-container-id-1 div.sk-container {\n",
       "  /* jupyter's `normalize.less` sets `[hidden] { display: none; }`\n",
       "     but bootstrap.min.css set `[hidden] { display: none !important; }`\n",
       "     so we also need the `!important` here to be able to override the\n",
       "     default hidden behavior on the sphinx rendered scikit-learn.org.\n",
       "     See: https://github.com/scikit-learn/scikit-learn/issues/21755 */\n",
       "  display: inline-block !important;\n",
       "  position: relative;\n",
       "}\n",
       "\n",
       "#sk-container-id-1 div.sk-text-repr-fallback {\n",
       "  display: none;\n",
       "}\n",
       "\n",
       "div.sk-parallel-item,\n",
       "div.sk-serial,\n",
       "div.sk-item {\n",
       "  /* draw centered vertical line to link estimators */\n",
       "  background-image: linear-gradient(var(--sklearn-color-text-on-default-background), var(--sklearn-color-text-on-default-background));\n",
       "  background-size: 2px 100%;\n",
       "  background-repeat: no-repeat;\n",
       "  background-position: center center;\n",
       "}\n",
       "\n",
       "/* Parallel-specific style estimator block */\n",
       "\n",
       "#sk-container-id-1 div.sk-parallel-item::after {\n",
       "  content: \"\";\n",
       "  width: 100%;\n",
       "  border-bottom: 2px solid var(--sklearn-color-text-on-default-background);\n",
       "  flex-grow: 1;\n",
       "}\n",
       "\n",
       "#sk-container-id-1 div.sk-parallel {\n",
       "  display: flex;\n",
       "  align-items: stretch;\n",
       "  justify-content: center;\n",
       "  background-color: var(--sklearn-color-background);\n",
       "  position: relative;\n",
       "}\n",
       "\n",
       "#sk-container-id-1 div.sk-parallel-item {\n",
       "  display: flex;\n",
       "  flex-direction: column;\n",
       "}\n",
       "\n",
       "#sk-container-id-1 div.sk-parallel-item:first-child::after {\n",
       "  align-self: flex-end;\n",
       "  width: 50%;\n",
       "}\n",
       "\n",
       "#sk-container-id-1 div.sk-parallel-item:last-child::after {\n",
       "  align-self: flex-start;\n",
       "  width: 50%;\n",
       "}\n",
       "\n",
       "#sk-container-id-1 div.sk-parallel-item:only-child::after {\n",
       "  width: 0;\n",
       "}\n",
       "\n",
       "/* Serial-specific style estimator block */\n",
       "\n",
       "#sk-container-id-1 div.sk-serial {\n",
       "  display: flex;\n",
       "  flex-direction: column;\n",
       "  align-items: center;\n",
       "  background-color: var(--sklearn-color-background);\n",
       "  padding-right: 1em;\n",
       "  padding-left: 1em;\n",
       "}\n",
       "\n",
       "\n",
       "/* Toggleable style: style used for estimator/Pipeline/ColumnTransformer box that is\n",
       "clickable and can be expanded/collapsed.\n",
       "- Pipeline and ColumnTransformer use this feature and define the default style\n",
       "- Estimators will overwrite some part of the style using the `sk-estimator` class\n",
       "*/\n",
       "\n",
       "/* Pipeline and ColumnTransformer style (default) */\n",
       "\n",
       "#sk-container-id-1 div.sk-toggleable {\n",
       "  /* Default theme specific background. It is overwritten whether we have a\n",
       "  specific estimator or a Pipeline/ColumnTransformer */\n",
       "  background-color: var(--sklearn-color-background);\n",
       "}\n",
       "\n",
       "/* Toggleable label */\n",
       "#sk-container-id-1 label.sk-toggleable__label {\n",
       "  cursor: pointer;\n",
       "  display: block;\n",
       "  width: 100%;\n",
       "  margin-bottom: 0;\n",
       "  padding: 0.5em;\n",
       "  box-sizing: border-box;\n",
       "  text-align: center;\n",
       "}\n",
       "\n",
       "#sk-container-id-1 label.sk-toggleable__label-arrow:before {\n",
       "  /* Arrow on the left of the label */\n",
       "  content: \"▸\";\n",
       "  float: left;\n",
       "  margin-right: 0.25em;\n",
       "  color: var(--sklearn-color-icon);\n",
       "}\n",
       "\n",
       "#sk-container-id-1 label.sk-toggleable__label-arrow:hover:before {\n",
       "  color: var(--sklearn-color-text);\n",
       "}\n",
       "\n",
       "/* Toggleable content - dropdown */\n",
       "\n",
       "#sk-container-id-1 div.sk-toggleable__content {\n",
       "  max-height: 0;\n",
       "  max-width: 0;\n",
       "  overflow: hidden;\n",
       "  text-align: left;\n",
       "  /* unfitted */\n",
       "  background-color: var(--sklearn-color-unfitted-level-0);\n",
       "}\n",
       "\n",
       "#sk-container-id-1 div.sk-toggleable__content.fitted {\n",
       "  /* fitted */\n",
       "  background-color: var(--sklearn-color-fitted-level-0);\n",
       "}\n",
       "\n",
       "#sk-container-id-1 div.sk-toggleable__content pre {\n",
       "  margin: 0.2em;\n",
       "  border-radius: 0.25em;\n",
       "  color: var(--sklearn-color-text);\n",
       "  /* unfitted */\n",
       "  background-color: var(--sklearn-color-unfitted-level-0);\n",
       "}\n",
       "\n",
       "#sk-container-id-1 div.sk-toggleable__content.fitted pre {\n",
       "  /* unfitted */\n",
       "  background-color: var(--sklearn-color-fitted-level-0);\n",
       "}\n",
       "\n",
       "#sk-container-id-1 input.sk-toggleable__control:checked~div.sk-toggleable__content {\n",
       "  /* Expand drop-down */\n",
       "  max-height: 200px;\n",
       "  max-width: 100%;\n",
       "  overflow: auto;\n",
       "}\n",
       "\n",
       "#sk-container-id-1 input.sk-toggleable__control:checked~label.sk-toggleable__label-arrow:before {\n",
       "  content: \"▾\";\n",
       "}\n",
       "\n",
       "/* Pipeline/ColumnTransformer-specific style */\n",
       "\n",
       "#sk-container-id-1 div.sk-label input.sk-toggleable__control:checked~label.sk-toggleable__label {\n",
       "  color: var(--sklearn-color-text);\n",
       "  background-color: var(--sklearn-color-unfitted-level-2);\n",
       "}\n",
       "\n",
       "#sk-container-id-1 div.sk-label.fitted input.sk-toggleable__control:checked~label.sk-toggleable__label {\n",
       "  background-color: var(--sklearn-color-fitted-level-2);\n",
       "}\n",
       "\n",
       "/* Estimator-specific style */\n",
       "\n",
       "/* Colorize estimator box */\n",
       "#sk-container-id-1 div.sk-estimator input.sk-toggleable__control:checked~label.sk-toggleable__label {\n",
       "  /* unfitted */\n",
       "  background-color: var(--sklearn-color-unfitted-level-2);\n",
       "}\n",
       "\n",
       "#sk-container-id-1 div.sk-estimator.fitted input.sk-toggleable__control:checked~label.sk-toggleable__label {\n",
       "  /* fitted */\n",
       "  background-color: var(--sklearn-color-fitted-level-2);\n",
       "}\n",
       "\n",
       "#sk-container-id-1 div.sk-label label.sk-toggleable__label,\n",
       "#sk-container-id-1 div.sk-label label {\n",
       "  /* The background is the default theme color */\n",
       "  color: var(--sklearn-color-text-on-default-background);\n",
       "}\n",
       "\n",
       "/* On hover, darken the color of the background */\n",
       "#sk-container-id-1 div.sk-label:hover label.sk-toggleable__label {\n",
       "  color: var(--sklearn-color-text);\n",
       "  background-color: var(--sklearn-color-unfitted-level-2);\n",
       "}\n",
       "\n",
       "/* Label box, darken color on hover, fitted */\n",
       "#sk-container-id-1 div.sk-label.fitted:hover label.sk-toggleable__label.fitted {\n",
       "  color: var(--sklearn-color-text);\n",
       "  background-color: var(--sklearn-color-fitted-level-2);\n",
       "}\n",
       "\n",
       "/* Estimator label */\n",
       "\n",
       "#sk-container-id-1 div.sk-label label {\n",
       "  font-family: monospace;\n",
       "  font-weight: bold;\n",
       "  display: inline-block;\n",
       "  line-height: 1.2em;\n",
       "}\n",
       "\n",
       "#sk-container-id-1 div.sk-label-container {\n",
       "  text-align: center;\n",
       "}\n",
       "\n",
       "/* Estimator-specific */\n",
       "#sk-container-id-1 div.sk-estimator {\n",
       "  font-family: monospace;\n",
       "  border: 1px dotted var(--sklearn-color-border-box);\n",
       "  border-radius: 0.25em;\n",
       "  box-sizing: border-box;\n",
       "  margin-bottom: 0.5em;\n",
       "  /* unfitted */\n",
       "  background-color: var(--sklearn-color-unfitted-level-0);\n",
       "}\n",
       "\n",
       "#sk-container-id-1 div.sk-estimator.fitted {\n",
       "  /* fitted */\n",
       "  background-color: var(--sklearn-color-fitted-level-0);\n",
       "}\n",
       "\n",
       "/* on hover */\n",
       "#sk-container-id-1 div.sk-estimator:hover {\n",
       "  /* unfitted */\n",
       "  background-color: var(--sklearn-color-unfitted-level-2);\n",
       "}\n",
       "\n",
       "#sk-container-id-1 div.sk-estimator.fitted:hover {\n",
       "  /* fitted */\n",
       "  background-color: var(--sklearn-color-fitted-level-2);\n",
       "}\n",
       "\n",
       "/* Specification for estimator info (e.g. \"i\" and \"?\") */\n",
       "\n",
       "/* Common style for \"i\" and \"?\" */\n",
       "\n",
       ".sk-estimator-doc-link,\n",
       "a:link.sk-estimator-doc-link,\n",
       "a:visited.sk-estimator-doc-link {\n",
       "  float: right;\n",
       "  font-size: smaller;\n",
       "  line-height: 1em;\n",
       "  font-family: monospace;\n",
       "  background-color: var(--sklearn-color-background);\n",
       "  border-radius: 1em;\n",
       "  height: 1em;\n",
       "  width: 1em;\n",
       "  text-decoration: none !important;\n",
       "  margin-left: 1ex;\n",
       "  /* unfitted */\n",
       "  border: var(--sklearn-color-unfitted-level-1) 1pt solid;\n",
       "  color: var(--sklearn-color-unfitted-level-1);\n",
       "}\n",
       "\n",
       ".sk-estimator-doc-link.fitted,\n",
       "a:link.sk-estimator-doc-link.fitted,\n",
       "a:visited.sk-estimator-doc-link.fitted {\n",
       "  /* fitted */\n",
       "  border: var(--sklearn-color-fitted-level-1) 1pt solid;\n",
       "  color: var(--sklearn-color-fitted-level-1);\n",
       "}\n",
       "\n",
       "/* On hover */\n",
       "div.sk-estimator:hover .sk-estimator-doc-link:hover,\n",
       ".sk-estimator-doc-link:hover,\n",
       "div.sk-label-container:hover .sk-estimator-doc-link:hover,\n",
       ".sk-estimator-doc-link:hover {\n",
       "  /* unfitted */\n",
       "  background-color: var(--sklearn-color-unfitted-level-3);\n",
       "  color: var(--sklearn-color-background);\n",
       "  text-decoration: none;\n",
       "}\n",
       "\n",
       "div.sk-estimator.fitted:hover .sk-estimator-doc-link.fitted:hover,\n",
       ".sk-estimator-doc-link.fitted:hover,\n",
       "div.sk-label-container:hover .sk-estimator-doc-link.fitted:hover,\n",
       ".sk-estimator-doc-link.fitted:hover {\n",
       "  /* fitted */\n",
       "  background-color: var(--sklearn-color-fitted-level-3);\n",
       "  color: var(--sklearn-color-background);\n",
       "  text-decoration: none;\n",
       "}\n",
       "\n",
       "/* Span, style for the box shown on hovering the info icon */\n",
       ".sk-estimator-doc-link span {\n",
       "  display: none;\n",
       "  z-index: 9999;\n",
       "  position: relative;\n",
       "  font-weight: normal;\n",
       "  right: .2ex;\n",
       "  padding: .5ex;\n",
       "  margin: .5ex;\n",
       "  width: min-content;\n",
       "  min-width: 20ex;\n",
       "  max-width: 50ex;\n",
       "  color: var(--sklearn-color-text);\n",
       "  box-shadow: 2pt 2pt 4pt #999;\n",
       "  /* unfitted */\n",
       "  background: var(--sklearn-color-unfitted-level-0);\n",
       "  border: .5pt solid var(--sklearn-color-unfitted-level-3);\n",
       "}\n",
       "\n",
       ".sk-estimator-doc-link.fitted span {\n",
       "  /* fitted */\n",
       "  background: var(--sklearn-color-fitted-level-0);\n",
       "  border: var(--sklearn-color-fitted-level-3);\n",
       "}\n",
       "\n",
       ".sk-estimator-doc-link:hover span {\n",
       "  display: block;\n",
       "}\n",
       "\n",
       "/* \"?\"-specific style due to the `<a>` HTML tag */\n",
       "\n",
       "#sk-container-id-1 a.estimator_doc_link {\n",
       "  float: right;\n",
       "  font-size: 1rem;\n",
       "  line-height: 1em;\n",
       "  font-family: monospace;\n",
       "  background-color: var(--sklearn-color-background);\n",
       "  border-radius: 1rem;\n",
       "  height: 1rem;\n",
       "  width: 1rem;\n",
       "  text-decoration: none;\n",
       "  /* unfitted */\n",
       "  color: var(--sklearn-color-unfitted-level-1);\n",
       "  border: var(--sklearn-color-unfitted-level-1) 1pt solid;\n",
       "}\n",
       "\n",
       "#sk-container-id-1 a.estimator_doc_link.fitted {\n",
       "  /* fitted */\n",
       "  border: var(--sklearn-color-fitted-level-1) 1pt solid;\n",
       "  color: var(--sklearn-color-fitted-level-1);\n",
       "}\n",
       "\n",
       "/* On hover */\n",
       "#sk-container-id-1 a.estimator_doc_link:hover {\n",
       "  /* unfitted */\n",
       "  background-color: var(--sklearn-color-unfitted-level-3);\n",
       "  color: var(--sklearn-color-background);\n",
       "  text-decoration: none;\n",
       "}\n",
       "\n",
       "#sk-container-id-1 a.estimator_doc_link.fitted:hover {\n",
       "  /* fitted */\n",
       "  background-color: var(--sklearn-color-fitted-level-3);\n",
       "}\n",
       "</style><div id=\"sk-container-id-1\" class=\"sk-top-container\"><div class=\"sk-text-repr-fallback\"><pre>RandomForestClassifier(random_state=42)</pre><b>In a Jupyter environment, please rerun this cell to show the HTML representation or trust the notebook. <br />On GitHub, the HTML representation is unable to render, please try loading this page with nbviewer.org.</b></div><div class=\"sk-container\" hidden><div class=\"sk-item\"><div class=\"sk-estimator fitted sk-toggleable\"><input class=\"sk-toggleable__control sk-hidden--visually\" id=\"sk-estimator-id-1\" type=\"checkbox\" checked><label for=\"sk-estimator-id-1\" class=\"sk-toggleable__label fitted sk-toggleable__label-arrow fitted\">&nbsp;&nbsp;RandomForestClassifier<a class=\"sk-estimator-doc-link fitted\" rel=\"noreferrer\" target=\"_blank\" href=\"https://scikit-learn.org/1.4/modules/generated/sklearn.ensemble.RandomForestClassifier.html\">?<span>Documentation for RandomForestClassifier</span></a><span class=\"sk-estimator-doc-link fitted\">i<span>Fitted</span></span></label><div class=\"sk-toggleable__content fitted\"><pre>RandomForestClassifier(random_state=42)</pre></div> </div></div></div></div>"
      ],
      "text/plain": [
       "RandomForestClassifier(random_state=42)"
      ]
     },
     "execution_count": 16,
     "metadata": {},
     "output_type": "execute_result"
    }
   ],
   "source": [
    "rfc = RandomForestClassifier(n_estimators=100, random_state=42)\n",
    "rfc.fit(X_train_preprocessed, y_train_preprocessed_np)"
   ]
  },
  {
   "cell_type": "code",
   "execution_count": 17,
   "metadata": {},
   "outputs": [],
   "source": [
    "predictions = rfc.predict(X_test_preprocessed_np)"
   ]
  },
  {
   "cell_type": "code",
   "execution_count": 18,
   "metadata": {},
   "outputs": [
    {
     "name": "stdout",
     "output_type": "stream",
     "text": [
      "Matthews correlation coefficient: 0.05128332970623233\n",
      "Recall: 0.5299539170506913\n",
      "Precision: 0.4331450094161959\n",
      "F1 score: 0.47668393782383417\n",
      "Accuracy: 0.525375939849624\n"
     ]
    },
    {
     "data": {
      "image/png": "[encoded data removed]",
      "text/plain": [
       "<Figure size 640x480 with 2 Axes>"
      ]
     },
     "metadata": {},
     "output_type": "display_data"
    }
   ],
   "source": [
    "print_metrics(y_test_preprocessed, predictions)"
   ]
  },
  {
   "cell_type": "markdown",
   "metadata": {},
   "source": [
    "## Optuna"
   ]
  },
  {
   "cell_type": "markdown",
   "metadata": {},
   "source": [
    "### By Mcc"
   ]
  },
  {
   "cell_type": "code",
   "execution_count": 24,
   "metadata": {},
   "outputs": [],
   "source": [
    "def objective(trial):\n",
    "    n_estimators = trial.suggest_int('n_estimators', 10, 2_000)\n",
    "    max_depth = trial.suggest_int('max_depth', 2, 32, log=True)\n",
    "    min_samples_split = trial.suggest_int('min_samples_split', 2, 20)\n",
    "    min_samples_leaf = trial.suggest_int('min_samples_leaf', 1, 20)\n",
    "    max_features = trial.suggest_categorical('max_features', [1, 2, 5, 10, None, 'sqrt', 'log2'])\n",
    "    criterion = trial.suggest_categorical('criterion', ['gini', 'entropy', 'log_loss'])\n",
    "\n",
    "    clf = RandomForestClassifier(\n",
    "        n_estimators=n_estimators,\n",
    "        max_depth=max_depth,\n",
    "        min_samples_split=min_samples_split,\n",
    "        min_samples_leaf=min_samples_leaf,\n",
    "        max_features=max_features,\n",
    "        criterion=criterion,\n",
    "        random_state=42\n",
    "    )\n",
    "\n",
    "    y_pred = cross_val_predict(clf, X_train_preprocessed, y_train_preprocessed, cv=3, n_jobs=-1)\n",
    "    mcc = matthews_corrcoef(y_train_preprocessed, y_pred)\n",
    "    return mcc\n"
   ]
  },
  {
   "cell_type": "code",
   "execution_count": 25,
   "metadata": {},
   "outputs": [
    {
     "name": "stderr",
     "output_type": "stream",
     "text": [
      "[I 2024-11-07 10:00:43,462] A new study created in memory with name: no-name-cdd67fcf-7df1-4e57-a278-7e4b3318e632\n",
      "[I 2024-11-07 10:00:53,794] Trial 3 finished with value: 0.25115822313954944 and parameters: {'n_estimators': 626, 'max_depth': 6, 'min_samples_split': 9, 'min_samples_leaf': 15, 'max_features': 2, 'criterion': 'log_loss'}. Best is trial 3 with value: 0.25115822313954944.\n",
      "[I 2024-11-07 10:01:04,595] Trial 4 finished with value: 0.2568988127703969 and parameters: {'n_estimators': 1190, 'max_depth': 6, 'min_samples_split': 3, 'min_samples_leaf': 16, 'max_features': 5, 'criterion': 'entropy'}. Best is trial 4 with value: 0.2568988127703969.\n",
      "[I 2024-11-07 10:01:10,164] Trial 6 finished with value: 0.2542366736484965 and parameters: {'n_estimators': 271, 'max_depth': 16, 'min_samples_split': 15, 'min_samples_leaf': 17, 'max_features': 10, 'criterion': 'gini'}. Best is trial 4 with value: 0.2568988127703969.\n",
      "[I 2024-11-07 10:01:18,357] Trial 1 finished with value: 0.24136511712817424 and parameters: {'n_estimators': 1241, 'max_depth': 4, 'min_samples_split': 14, 'min_samples_leaf': 1, 'max_features': 2, 'criterion': 'entropy'}. Best is trial 4 with value: 0.2568988127703969.\n",
      "[I 2024-11-07 10:01:21,259] Trial 5 finished with value: 0.2578305927771244 and parameters: {'n_estimators': 843, 'max_depth': 27, 'min_samples_split': 9, 'min_samples_leaf': 16, 'max_features': 5, 'criterion': 'log_loss'}. Best is trial 5 with value: 0.2578305927771244.\n",
      "[I 2024-11-07 10:01:21,460] Trial 2 finished with value: 0.2465615239280084 and parameters: {'n_estimators': 830, 'max_depth': 21, 'min_samples_split': 19, 'min_samples_leaf': 18, 'max_features': None, 'criterion': 'gini'}. Best is trial 5 with value: 0.2578305927771244.\n",
      "[I 2024-11-07 10:01:24,677] Trial 0 finished with value: 0.25918780546737386 and parameters: {'n_estimators': 399, 'max_depth': 21, 'min_samples_split': 20, 'min_samples_leaf': 12, 'max_features': 2, 'criterion': 'gini'}. Best is trial 0 with value: 0.25918780546737386.\n",
      "[I 2024-11-07 10:01:30,382] Trial 8 finished with value: 0.26846132521493715 and parameters: {'n_estimators': 741, 'max_depth': 11, 'min_samples_split': 18, 'min_samples_leaf': 5, 'max_features': 'log2', 'criterion': 'gini'}. Best is trial 8 with value: 0.26846132521493715.\n",
      "[I 2024-11-07 10:01:32,030] Trial 7 finished with value: 0.26284756632892037 and parameters: {'n_estimators': 942, 'max_depth': 6, 'min_samples_split': 7, 'min_samples_leaf': 4, 'max_features': 5, 'criterion': 'log_loss'}. Best is trial 8 with value: 0.26846132521493715.\n",
      "[I 2024-11-07 10:01:34,972] Trial 10 finished with value: 0.24488446565493402 and parameters: {'n_estimators': 646, 'max_depth': 3, 'min_samples_split': 3, 'min_samples_leaf': 2, 'max_features': 'log2', 'criterion': 'entropy'}. Best is trial 8 with value: 0.26846132521493715.\n",
      "[I 2024-11-07 10:01:51,946] Trial 11 finished with value: 0.25522232587497057 and parameters: {'n_estimators': 655, 'max_depth': 7, 'min_samples_split': 18, 'min_samples_leaf': 19, 'max_features': None, 'criterion': 'gini'}. Best is trial 8 with value: 0.26846132521493715.\n",
      "[I 2024-11-07 10:01:57,607] Trial 9 finished with value: 0.2618165851929443 and parameters: {'n_estimators': 887, 'max_depth': 11, 'min_samples_split': 12, 'min_samples_leaf': 7, 'max_features': None, 'criterion': 'gini'}. Best is trial 8 with value: 0.26846132521493715.\n",
      "[I 2024-11-07 10:01:59,764] Trial 12 finished with value: 0.24864027512903758 and parameters: {'n_estimators': 342, 'max_depth': 22, 'min_samples_split': 19, 'min_samples_leaf': 16, 'max_features': 10, 'criterion': 'log_loss'}. Best is trial 8 with value: 0.26846132521493715.\n",
      "[I 2024-11-07 10:02:13,902] Trial 15 finished with value: 0.26379970149952076 and parameters: {'n_estimators': 694, 'max_depth': 7, 'min_samples_split': 5, 'min_samples_leaf': 2, 'max_features': 'log2', 'criterion': 'log_loss'}. Best is trial 8 with value: 0.26846132521493715.\n",
      "[I 2024-11-07 10:02:14,732] Trial 16 finished with value: 0.2631089488157116 and parameters: {'n_estimators': 295, 'max_depth': 11, 'min_samples_split': 20, 'min_samples_leaf': 9, 'max_features': 'sqrt', 'criterion': 'gini'}. Best is trial 8 with value: 0.26846132521493715.\n",
      "[I 2024-11-07 10:02:15,913] Trial 14 finished with value: 0.24415809067025915 and parameters: {'n_estimators': 396, 'max_depth': 24, 'min_samples_split': 12, 'min_samples_leaf': 19, 'max_features': None, 'criterion': 'log_loss'}. Best is trial 8 with value: 0.26846132521493715.\n",
      "[I 2024-11-07 10:02:25,601] Trial 17 finished with value: 0.23623390966779212 and parameters: {'n_estimators': 1834, 'max_depth': 2, 'min_samples_split': 16, 'min_samples_leaf': 7, 'max_features': 'log2', 'criterion': 'gini'}. Best is trial 8 with value: 0.26846132521493715.\n",
      "[I 2024-11-07 10:02:36,329] Trial 13 finished with value: 0.26494630014042164 and parameters: {'n_estimators': 1460, 'max_depth': 6, 'min_samples_split': 11, 'min_samples_leaf': 2, 'max_features': None, 'criterion': 'log_loss'}. Best is trial 8 with value: 0.26846132521493715.\n",
      "[I 2024-11-07 10:02:47,108] Trial 19 finished with value: 0.24056810683350308 and parameters: {'n_estimators': 1780, 'max_depth': 2, 'min_samples_split': 7, 'min_samples_leaf': 6, 'max_features': 'sqrt', 'criterion': 'log_loss'}. Best is trial 8 with value: 0.26846132521493715.\n",
      "[I 2024-11-07 10:02:47,776] Trial 20 finished with value: 0.24056810683350308 and parameters: {'n_estimators': 1686, 'max_depth': 2, 'min_samples_split': 6, 'min_samples_leaf': 6, 'max_features': 'log2', 'criterion': 'log_loss'}. Best is trial 8 with value: 0.26846132521493715.\n",
      "[I 2024-11-07 10:02:55,497] Trial 18 finished with value: 0.2675447110195712 and parameters: {'n_estimators': 1883, 'max_depth': 12, 'min_samples_split': 7, 'min_samples_leaf': 6, 'max_features': 'log2', 'criterion': 'log_loss'}. Best is trial 8 with value: 0.26846132521493715.\n",
      "[I 2024-11-07 10:02:57,713] Trial 22 finished with value: 0.24056810683350308 and parameters: {'n_estimators': 1549, 'max_depth': 2, 'min_samples_split': 5, 'min_samples_leaf': 6, 'max_features': 'log2', 'criterion': 'log_loss'}. Best is trial 8 with value: 0.26846132521493715.\n",
      "[I 2024-11-07 10:02:58,587] Trial 21 finished with value: 0.24056810683350308 and parameters: {'n_estimators': 1851, 'max_depth': 2, 'min_samples_split': 6, 'min_samples_leaf': 7, 'max_features': 'log2', 'criterion': 'log_loss'}. Best is trial 8 with value: 0.26846132521493715.\n",
      "[I 2024-11-07 10:02:58,703] Trial 24 finished with value: 0.26399317546325696 and parameters: {'n_estimators': 50, 'max_depth': 9, 'min_samples_split': 6, 'min_samples_leaf': 4, 'max_features': 'log2', 'criterion': 'log_loss'}. Best is trial 8 with value: 0.26846132521493715.\n",
      "[I 2024-11-07 10:03:11,645] Trial 25 finished with value: 0.25198546240336755 and parameters: {'n_estimators': 1514, 'max_depth': 11, 'min_samples_split': 10, 'min_samples_leaf': 5, 'max_features': 1, 'criterion': 'log_loss'}. Best is trial 8 with value: 0.26846132521493715.\n",
      "[I 2024-11-07 10:03:11,799] Trial 27 finished with value: 0.2420279204681923 and parameters: {'n_estimators': 15, 'max_depth': 10, 'min_samples_split': 10, 'min_samples_leaf': 4, 'max_features': 1, 'criterion': 'entropy'}. Best is trial 8 with value: 0.26846132521493715.\n",
      "[I 2024-11-07 10:03:21,505] Trial 23 finished with value: 0.2727816710059261 and parameters: {'n_estimators': 1689, 'max_depth': 10, 'min_samples_split': 6, 'min_samples_leaf': 5, 'max_features': 'log2', 'criterion': 'log_loss'}. Best is trial 23 with value: 0.2727816710059261.\n",
      "[I 2024-11-07 10:03:24,490] Trial 26 finished with value: 0.25096222705811566 and parameters: {'n_estimators': 1559, 'max_depth': 12, 'min_samples_split': 13, 'min_samples_leaf': 4, 'max_features': 1, 'criterion': 'entropy'}. Best is trial 23 with value: 0.2727816710059261.\n",
      "[I 2024-11-07 10:03:25,811] Trial 28 finished with value: 0.251001822974958 and parameters: {'n_estimators': 1484, 'max_depth': 11, 'min_samples_split': 10, 'min_samples_leaf': 4, 'max_features': 1, 'criterion': 'log_loss'}. Best is trial 23 with value: 0.2727816710059261.\n",
      "[I 2024-11-07 10:03:26,403] Trial 29 finished with value: 0.24871580166628068 and parameters: {'n_estimators': 1444, 'max_depth': 10, 'min_samples_split': 10, 'min_samples_leaf': 4, 'max_features': 1, 'criterion': 'log_loss'}. Best is trial 23 with value: 0.2727816710059261.\n",
      "[I 2024-11-07 10:03:47,262] Trial 30 finished with value: 0.2553391891889701 and parameters: {'n_estimators': 1995, 'max_depth': 11, 'min_samples_split': 10, 'min_samples_leaf': 3, 'max_features': 1, 'criterion': 'entropy'}. Best is trial 23 with value: 0.2727816710059261.\n",
      "[I 2024-11-07 10:04:04,090] Trial 32 finished with value: 0.24296787361361616 and parameters: {'n_estimators': 1978, 'max_depth': 15, 'min_samples_split': 13, 'min_samples_leaf': 9, 'max_features': 1, 'criterion': 'entropy'}. Best is trial 23 with value: 0.2727816710059261.\n",
      "[I 2024-11-07 10:04:26,500] Trial 34 finished with value: 0.2608341023811974 and parameters: {'n_estimators': 1135, 'max_depth': 16, 'min_samples_split': 8, 'min_samples_leaf': 10, 'max_features': 'log2', 'criterion': 'gini'}. Best is trial 23 with value: 0.2727816710059261.\n",
      "[I 2024-11-07 10:04:54,885] Trial 33 finished with value: 0.24339589507584405 and parameters: {'n_estimators': 1230, 'max_depth': 16, 'min_samples_split': 13, 'min_samples_leaf': 10, 'max_features': None, 'criterion': 'gini'}. Best is trial 23 with value: 0.2727816710059261.\n",
      "[I 2024-11-07 10:05:23,754] Trial 35 finished with value: 0.2636581883297199 and parameters: {'n_estimators': 1932, 'max_depth': 15, 'min_samples_split': 2, 'min_samples_leaf': 10, 'max_features': 'log2', 'criterion': 'gini'}. Best is trial 23 with value: 0.2727816710059261.\n",
      "[I 2024-11-07 10:05:25,447] Trial 36 finished with value: 0.2637247386277226 and parameters: {'n_estimators': 1975, 'max_depth': 16, 'min_samples_split': 2, 'min_samples_leaf': 11, 'max_features': 'log2', 'criterion': 'gini'}. Best is trial 23 with value: 0.2727816710059261.\n",
      "[I 2024-11-07 10:05:26,116] Trial 31 finished with value: 0.24647377454699915 and parameters: {'n_estimators': 1453, 'max_depth': 15, 'min_samples_split': 9, 'min_samples_leaf': 4, 'max_features': None, 'criterion': 'entropy'}. Best is trial 23 with value: 0.2727816710059261.\n",
      "[I 2024-11-07 10:05:46,586] Trial 38 finished with value: 0.2593845315359622 and parameters: {'n_estimators': 1233, 'max_depth': 14, 'min_samples_split': 8, 'min_samples_leaf': 11, 'max_features': 'log2', 'criterion': 'gini'}. Best is trial 23 with value: 0.2727816710059261.\n",
      "[I 2024-11-07 10:05:50,565] Trial 39 finished with value: 0.26058082587260323 and parameters: {'n_estimators': 1258, 'max_depth': 15, 'min_samples_split': 2, 'min_samples_leaf': 12, 'max_features': 'log2', 'criterion': 'gini'}. Best is trial 23 with value: 0.2727816710059261.\n",
      "[I 2024-11-07 10:05:57,066] Trial 37 finished with value: 0.26008262465703247 and parameters: {'n_estimators': 1976, 'max_depth': 15, 'min_samples_split': 2, 'min_samples_leaf': 12, 'max_features': 'log2', 'criterion': 'gini'}. Best is trial 23 with value: 0.2727816710059261.\n",
      "[I 2024-11-07 10:05:57,668] Trial 40 finished with value: 0.2395015712571778 and parameters: {'n_estimators': 1325, 'max_depth': 4, 'min_samples_split': 16, 'min_samples_leaf': 1, 'max_features': 2, 'criterion': 'gini'}. Best is trial 23 with value: 0.2727816710059261.\n",
      "[I 2024-11-07 10:06:08,353] Trial 42 finished with value: 0.23481361907747558 and parameters: {'n_estimators': 1397, 'max_depth': 4, 'min_samples_split': 16, 'min_samples_leaf': 13, 'max_features': 2, 'criterion': 'log_loss'}. Best is trial 23 with value: 0.2727816710059261.\n",
      "[I 2024-11-07 10:06:10,554] Trial 41 finished with value: 0.2631179297909011 and parameters: {'n_estimators': 1369, 'max_depth': 8, 'min_samples_split': 2, 'min_samples_leaf': 13, 'max_features': 'log2', 'criterion': 'log_loss'}. Best is trial 23 with value: 0.2727816710059261.\n",
      "[I 2024-11-07 10:06:17,423] Trial 43 finished with value: 0.23795022290936002 and parameters: {'n_estimators': 1345, 'max_depth': 4, 'min_samples_split': 16, 'min_samples_leaf': 1, 'max_features': 2, 'criterion': 'log_loss'}. Best is trial 23 with value: 0.2727816710059261.\n",
      "[I 2024-11-07 10:06:22,658] Trial 45 finished with value: 0.2369395751197268 and parameters: {'n_estimators': 1699, 'max_depth': 4, 'min_samples_split': 16, 'min_samples_leaf': 2, 'max_features': 2, 'criterion': 'log_loss'}. Best is trial 23 with value: 0.2727816710059261.\n",
      "[I 2024-11-07 10:06:34,167] Trial 46 finished with value: 0.23639442197215443 and parameters: {'n_estimators': 1675, 'max_depth': 4, 'min_samples_split': 16, 'min_samples_leaf': 1, 'max_features': 2, 'criterion': 'log_loss'}. Best is trial 23 with value: 0.2727816710059261.\n",
      "[I 2024-11-07 10:06:35,334] Trial 47 finished with value: 0.23849457274407687 and parameters: {'n_estimators': 1661, 'max_depth': 4, 'min_samples_split': 16, 'min_samples_leaf': 1, 'max_features': 2, 'criterion': 'log_loss'}. Best is trial 23 with value: 0.2727816710059261.\n",
      "[I 2024-11-07 10:06:40,132] Trial 44 finished with value: 0.26341465023185845 and parameters: {'n_estimators': 1651, 'max_depth': 4, 'min_samples_split': 17, 'min_samples_leaf': 1, 'max_features': 10, 'criterion': 'log_loss'}. Best is trial 23 with value: 0.2727816710059261.\n",
      "[I 2024-11-07 10:06:41,710] Trial 50 finished with value: 0.2616838515679711 and parameters: {'n_estimators': 119, 'max_depth': 5, 'min_samples_split': 4, 'min_samples_leaf': 1, 'max_features': 5, 'criterion': 'log_loss'}. Best is trial 23 with value: 0.2727816710059261.\n",
      "[I 2024-11-07 10:06:50,723] Trial 48 finished with value: 0.26474974377920196 and parameters: {'n_estimators': 1637, 'max_depth': 8, 'min_samples_split': 4, 'min_samples_leaf': 1, 'max_features': 2, 'criterion': 'log_loss'}. Best is trial 23 with value: 0.2727816710059261.\n",
      "[I 2024-11-07 10:06:54,406] Trial 52 finished with value: 0.2673695931334317 and parameters: {'n_estimators': 147, 'max_depth': 5, 'min_samples_split': 5, 'min_samples_leaf': 8, 'max_features': 5, 'criterion': 'log_loss'}. Best is trial 23 with value: 0.2727816710059261.\n",
      "[I 2024-11-07 10:07:00,472] Trial 51 finished with value: 0.2645961928239688 and parameters: {'n_estimators': 1040, 'max_depth': 5, 'min_samples_split': 4, 'min_samples_leaf': 2, 'max_features': 5, 'criterion': 'log_loss'}. Best is trial 23 with value: 0.2727816710059261.\n",
      "[I 2024-11-07 10:07:03,009] Trial 53 finished with value: 0.2713211391396711 and parameters: {'n_estimators': 498, 'max_depth': 8, 'min_samples_split': 5, 'min_samples_leaf': 8, 'max_features': 5, 'criterion': 'log_loss'}. Best is trial 23 with value: 0.2727816710059261.\n",
      "[I 2024-11-07 10:07:10,348] Trial 49 finished with value: 0.2735201641251228 and parameters: {'n_estimators': 1671, 'max_depth': 9, 'min_samples_split': 4, 'min_samples_leaf': 2, 'max_features': 5, 'criterion': 'log_loss'}. Best is trial 49 with value: 0.2735201641251228.\n",
      "[I 2024-11-07 10:07:20,207] Trial 54 finished with value: 0.27184380995128027 and parameters: {'n_estimators': 1088, 'max_depth': 8, 'min_samples_split': 5, 'min_samples_leaf': 8, 'max_features': 5, 'criterion': 'log_loss'}. Best is trial 49 with value: 0.2735201641251228.\n",
      "[I 2024-11-07 10:07:25,360] Trial 55 finished with value: 0.2723666002189026 and parameters: {'n_estimators': 1001, 'max_depth': 8, 'min_samples_split': 5, 'min_samples_leaf': 8, 'max_features': 5, 'criterion': 'log_loss'}. Best is trial 49 with value: 0.2735201641251228.\n",
      "[I 2024-11-07 10:07:35,389] Trial 56 finished with value: 0.2632202544881209 and parameters: {'n_estimators': 522, 'max_depth': 8, 'min_samples_split': 7, 'min_samples_leaf': 8, 'max_features': None, 'criterion': 'log_loss'}. Best is trial 49 with value: 0.2735201641251228.\n",
      "[I 2024-11-07 10:07:35,929] Trial 58 finished with value: 0.26364208141596596 and parameters: {'n_estimators': 531, 'max_depth': 6, 'min_samples_split': 4, 'min_samples_leaf': 8, 'max_features': 5, 'criterion': 'log_loss'}. Best is trial 49 with value: 0.2735201641251228.\n",
      "[I 2024-11-07 10:07:42,155] Trial 59 finished with value: 0.2705759187943713 and parameters: {'n_estimators': 509, 'max_depth': 8, 'min_samples_split': 4, 'min_samples_leaf': 8, 'max_features': 5, 'criterion': 'log_loss'}. Best is trial 49 with value: 0.2735201641251228.\n",
      "[I 2024-11-07 10:07:46,946] Trial 60 finished with value: 0.2625160978200192 and parameters: {'n_estimators': 489, 'max_depth': 6, 'min_samples_split': 5, 'min_samples_leaf': 8, 'max_features': 5, 'criterion': 'log_loss'}. Best is trial 49 with value: 0.2735201641251228.\n",
      "[I 2024-11-07 10:07:52,052] Trial 61 finished with value: 0.27173390258527835 and parameters: {'n_estimators': 529, 'max_depth': 8, 'min_samples_split': 5, 'min_samples_leaf': 8, 'max_features': 5, 'criterion': 'log_loss'}. Best is trial 49 with value: 0.2735201641251228.\n",
      "[I 2024-11-07 10:07:59,300] Trial 62 finished with value: 0.27184380995128027 and parameters: {'n_estimators': 549, 'max_depth': 8, 'min_samples_split': 7, 'min_samples_leaf': 8, 'max_features': 5, 'criterion': 'log_loss'}. Best is trial 49 with value: 0.2735201641251228.\n",
      "[I 2024-11-07 10:08:02,162] Trial 57 finished with value: 0.2623380700534826 and parameters: {'n_estimators': 1010, 'max_depth': 8, 'min_samples_split': 4, 'min_samples_leaf': 8, 'max_features': None, 'criterion': 'log_loss'}. Best is trial 49 with value: 0.2735201641251228.\n",
      "[I 2024-11-07 10:08:02,463] Trial 63 finished with value: 0.27099230100222443 and parameters: {'n_estimators': 535, 'max_depth': 8, 'min_samples_split': 3, 'min_samples_leaf': 8, 'max_features': 5, 'criterion': 'log_loss'}. Best is trial 49 with value: 0.2735201641251228.\n",
      "[I 2024-11-07 10:08:14,489] Trial 65 finished with value: 0.26463593419418235 and parameters: {'n_estimators': 779, 'max_depth': 7, 'min_samples_split': 3, 'min_samples_leaf': 5, 'max_features': 5, 'criterion': 'log_loss'}. Best is trial 49 with value: 0.2735201641251228.\n",
      "[I 2024-11-07 10:08:16,973] Trial 64 finished with value: 0.2654815999501785 and parameters: {'n_estimators': 821, 'max_depth': 9, 'min_samples_split': 3, 'min_samples_leaf': 8, 'max_features': 5, 'criterion': 'log_loss'}. Best is trial 49 with value: 0.2735201641251228.\n",
      "[I 2024-11-07 10:08:27,006] Trial 66 finished with value: 0.2635023549967177 and parameters: {'n_estimators': 738, 'max_depth': 9, 'min_samples_split': 3, 'min_samples_leaf': 9, 'max_features': 5, 'criterion': 'log_loss'}. Best is trial 49 with value: 0.2735201641251228.\n",
      "[I 2024-11-07 10:08:30,316] Trial 67 finished with value: 0.2681747257267163 and parameters: {'n_estimators': 793, 'max_depth': 9, 'min_samples_split': 3, 'min_samples_leaf': 5, 'max_features': 5, 'criterion': 'log_loss'}. Best is trial 49 with value: 0.2735201641251228.\n",
      "[I 2024-11-07 10:08:31,465] Trial 68 finished with value: 0.2629507936371719 and parameters: {'n_estimators': 784, 'max_depth': 9, 'min_samples_split': 3, 'min_samples_leaf': 9, 'max_features': 5, 'criterion': 'log_loss'}. Best is trial 49 with value: 0.2735201641251228.\n",
      "[I 2024-11-07 10:08:43,429] Trial 70 finished with value: 0.2645243071001747 and parameters: {'n_estimators': 806, 'max_depth': 7, 'min_samples_split': 3, 'min_samples_leaf': 9, 'max_features': 5, 'criterion': 'log_loss'}. Best is trial 49 with value: 0.2735201641251228.\n",
      "[I 2024-11-07 10:08:43,563] Trial 69 finished with value: 0.2644140658101804 and parameters: {'n_estimators': 876, 'max_depth': 7, 'min_samples_split': 3, 'min_samples_leaf': 9, 'max_features': 5, 'criterion': 'log_loss'}. Best is trial 49 with value: 0.2735201641251228.\n",
      "[I 2024-11-07 10:08:47,107] Trial 71 finished with value: 0.26826244034378605 and parameters: {'n_estimators': 783, 'max_depth': 9, 'min_samples_split': 6, 'min_samples_leaf': 5, 'max_features': 5, 'criterion': 'log_loss'}. Best is trial 49 with value: 0.2735201641251228.\n",
      "[I 2024-11-07 10:08:51,499] Trial 72 finished with value: 0.26430092715453113 and parameters: {'n_estimators': 435, 'max_depth': 9, 'min_samples_split': 6, 'min_samples_leaf': 9, 'max_features': 5, 'criterion': 'log_loss'}. Best is trial 49 with value: 0.2735201641251228.\n",
      "[I 2024-11-07 10:09:00,956] Trial 75 finished with value: 0.26195615102092923 and parameters: {'n_estimators': 407, 'max_depth': 7, 'min_samples_split': 6, 'min_samples_leaf': 7, 'max_features': 'sqrt', 'criterion': 'log_loss'}. Best is trial 49 with value: 0.2735201641251228.\n",
      "[I 2024-11-07 10:09:04,449] Trial 73 finished with value: 0.2654815999501785 and parameters: {'n_estimators': 916, 'max_depth': 9, 'min_samples_split': 6, 'min_samples_leaf': 7, 'max_features': 5, 'criterion': 'log_loss'}. Best is trial 49 with value: 0.2735201641251228.\n",
      "[I 2024-11-07 10:09:16,299] Trial 74 finished with value: 0.26304655883750316 and parameters: {'n_estimators': 927, 'max_depth': 19, 'min_samples_split': 6, 'min_samples_leaf': 7, 'max_features': 5, 'criterion': 'log_loss'}. Best is trial 49 with value: 0.2735201641251228.\n",
      "[I 2024-11-07 10:09:20,843] Trial 76 finished with value: 0.2683001439368017 and parameters: {'n_estimators': 901, 'max_depth': 10, 'min_samples_split': 6, 'min_samples_leaf': 7, 'max_features': 5, 'criterion': 'log_loss'}. Best is trial 49 with value: 0.2735201641251228.\n",
      "[I 2024-11-07 10:09:27,666] Trial 77 finished with value: 0.2683874474337343 and parameters: {'n_estimators': 912, 'max_depth': 13, 'min_samples_split': 5, 'min_samples_leaf': 7, 'max_features': 'sqrt', 'criterion': 'log_loss'}. Best is trial 49 with value: 0.2735201641251228.\n",
      "[I 2024-11-07 10:09:30,136] Trial 79 finished with value: 0.273056200004886 and parameters: {'n_estimators': 584, 'max_depth': 13, 'min_samples_split': 5, 'min_samples_leaf': 7, 'max_features': 'sqrt', 'criterion': 'log_loss'}. Best is trial 49 with value: 0.2735201641251228.\n",
      "[I 2024-11-07 10:09:31,120] Trial 78 finished with value: 0.2628824617555269 and parameters: {'n_estimators': 612, 'max_depth': 13, 'min_samples_split': 6, 'min_samples_leaf': 7, 'max_features': 5, 'criterion': 'log_loss'}. Best is trial 49 with value: 0.2735201641251228.\n",
      "[I 2024-11-07 10:09:37,849] Trial 80 finished with value: 0.271109809286613 and parameters: {'n_estimators': 627, 'max_depth': 13, 'min_samples_split': 7, 'min_samples_leaf': 7, 'max_features': 'sqrt', 'criterion': 'log_loss'}. Best is trial 49 with value: 0.2735201641251228.\n",
      "[I 2024-11-07 10:09:42,728] Trial 81 finished with value: 0.26798646873518656 and parameters: {'n_estimators': 598, 'max_depth': 10, 'min_samples_split': 5, 'min_samples_leaf': 7, 'max_features': 5, 'criterion': 'log_loss'}. Best is trial 49 with value: 0.2735201641251228.\n",
      "[I 2024-11-07 10:09:53,415] Trial 82 finished with value: 0.25866621422365577 and parameters: {'n_estimators': 597, 'max_depth': 10, 'min_samples_split': 5, 'min_samples_leaf': 6, 'max_features': 10, 'criterion': 'entropy'}. Best is trial 49 with value: 0.2735201641251228.\n",
      "[I 2024-11-07 10:10:01,533] Trial 84 finished with value: 0.26713708317909923 and parameters: {'n_estimators': 575, 'max_depth': 13, 'min_samples_split': 5, 'min_samples_leaf': 6, 'max_features': 'sqrt', 'criterion': 'entropy'}. Best is trial 49 with value: 0.2735201641251228.\n",
      "[I 2024-11-07 10:10:05,666] Trial 83 finished with value: 0.26510499757219164 and parameters: {'n_estimators': 584, 'max_depth': 13, 'min_samples_split': 8, 'min_samples_leaf': 6, 'max_features': 10, 'criterion': 'entropy'}. Best is trial 49 with value: 0.2735201641251228.\n",
      "[I 2024-11-07 10:10:10,640] Trial 87 finished with value: 0.27221441439152294 and parameters: {'n_estimators': 311, 'max_depth': 12, 'min_samples_split': 8, 'min_samples_leaf': 6, 'max_features': 'sqrt', 'criterion': 'entropy'}. Best is trial 49 with value: 0.2735201641251228.\n",
      "[I 2024-11-07 10:10:11,890] Trial 86 finished with value: 0.27310461961672217 and parameters: {'n_estimators': 588, 'max_depth': 12, 'min_samples_split': 8, 'min_samples_leaf': 6, 'max_features': 'sqrt', 'criterion': 'entropy'}. Best is trial 49 with value: 0.2735201641251228.\n",
      "[I 2024-11-07 10:10:18,898] Trial 85 finished with value: 0.2612873973418125 and parameters: {'n_estimators': 608, 'max_depth': 12, 'min_samples_split': 8, 'min_samples_leaf': 6, 'max_features': 10, 'criterion': 'entropy'}. Best is trial 49 with value: 0.2735201641251228.\n",
      "[I 2024-11-07 10:10:21,049] Trial 88 finished with value: 0.2651079972863831 and parameters: {'n_estimators': 587, 'max_depth': 18, 'min_samples_split': 8, 'min_samples_leaf': 6, 'max_features': 'sqrt', 'criterion': 'entropy'}. Best is trial 49 with value: 0.2735201641251228.\n",
      "[I 2024-11-07 10:10:27,970] Trial 90 finished with value: 0.2757802177269359 and parameters: {'n_estimators': 325, 'max_depth': 12, 'min_samples_split': 7, 'min_samples_leaf': 3, 'max_features': 'sqrt', 'criterion': 'log_loss'}. Best is trial 90 with value: 0.2757802177269359.\n",
      "[I 2024-11-07 10:10:35,066] Trial 89 finished with value: 0.2740001945736541 and parameters: {'n_estimators': 679, 'max_depth': 12, 'min_samples_split': 8, 'min_samples_leaf': 6, 'max_features': 'sqrt', 'criterion': 'log_loss'}. Best is trial 90 with value: 0.2757802177269359.\n",
      "[I 2024-11-07 10:10:38,829] Trial 93 finished with value: 0.2755100351853257 and parameters: {'n_estimators': 200, 'max_depth': 12, 'min_samples_split': 7, 'min_samples_leaf': 3, 'max_features': 'sqrt', 'criterion': 'entropy'}. Best is trial 90 with value: 0.2757802177269359.\n",
      "[I 2024-11-07 10:10:39,555] Trial 91 finished with value: 0.2719717250179004 and parameters: {'n_estimators': 677, 'max_depth': 12, 'min_samples_split': 8, 'min_samples_leaf': 3, 'max_features': 'sqrt', 'criterion': 'log_loss'}. Best is trial 90 with value: 0.2757802177269359.\n",
      "[I 2024-11-07 10:10:40,033] Trial 92 finished with value: 0.26674338292466815 and parameters: {'n_estimators': 672, 'max_depth': 12, 'min_samples_split': 7, 'min_samples_leaf': 10, 'max_features': 'sqrt', 'criterion': 'log_loss'}. Best is trial 90 with value: 0.2757802177269359.\n",
      "[I 2024-11-07 10:10:43,632] Trial 94 finished with value: 0.272136516536219 and parameters: {'n_estimators': 282, 'max_depth': 12, 'min_samples_split': 7, 'min_samples_leaf': 3, 'max_features': 'sqrt', 'criterion': 'entropy'}. Best is trial 90 with value: 0.2757802177269359.\n",
      "[I 2024-11-07 10:10:44,548] Trial 95 finished with value: 0.27014981946751665 and parameters: {'n_estimators': 295, 'max_depth': 11, 'min_samples_split': 7, 'min_samples_leaf': 3, 'max_features': 'sqrt', 'criterion': 'entropy'}. Best is trial 90 with value: 0.2757802177269359.\n",
      "[I 2024-11-07 10:10:45,944] Trial 96 finished with value: 0.2784558158371496 and parameters: {'n_estimators': 313, 'max_depth': 12, 'min_samples_split': 9, 'min_samples_leaf': 3, 'max_features': 'sqrt', 'criterion': 'entropy'}. Best is trial 96 with value: 0.2784558158371496.\n",
      "[I 2024-11-07 10:10:48,883] Trial 97 finished with value: 0.2742645811414543 and parameters: {'n_estimators': 266, 'max_depth': 12, 'min_samples_split': 9, 'min_samples_leaf': 3, 'max_features': 'sqrt', 'criterion': 'entropy'}. Best is trial 96 with value: 0.2784558158371496.\n",
      "[I 2024-11-07 10:10:50,762] Trial 98 finished with value: 0.273468315495806 and parameters: {'n_estimators': 300, 'max_depth': 12, 'min_samples_split': 9, 'min_samples_leaf': 3, 'max_features': 'sqrt', 'criterion': 'entropy'}. Best is trial 96 with value: 0.2784558158371496.\n",
      "[I 2024-11-07 10:10:51,840] Trial 99 finished with value: 0.27533565814693306 and parameters: {'n_estimators': 254, 'max_depth': 12, 'min_samples_split': 9, 'min_samples_leaf': 3, 'max_features': 'sqrt', 'criterion': 'entropy'}. Best is trial 96 with value: 0.2784558158371496.\n"
     ]
    }
   ],
   "source": [
    "study = optuna.create_study(direction='maximize')\n",
    "study.optimize(objective, n_trials=100, n_jobs=-1)"
   ]
  },
  {
   "cell_type": "code",
   "execution_count": 27,
   "metadata": {},
   "outputs": [
    {
     "name": "stdout",
     "output_type": "stream",
     "text": [
      "Best hyperparameters:  {'n_estimators': 313, 'max_depth': 12, 'min_samples_split': 9, 'min_samples_leaf': 3, 'max_features': 'sqrt', 'criterion': 'entropy'}\n"
     ]
    },
    {
     "data": {
      "text/html": [
       "<style>#sk-container-id-3 {\n",
       "  /* Definition of color scheme common for light and dark mode */\n",
       "  --sklearn-color-text: black;\n",
       "  --sklearn-color-line: gray;\n",
       "  /* Definition of color scheme for unfitted estimators */\n",
       "  --sklearn-color-unfitted-level-0: #fff5e6;\n",
       "  --sklearn-color-unfitted-level-1: #f6e4d2;\n",
       "  --sklearn-color-unfitted-level-2: #ffe0b3;\n",
       "  --sklearn-color-unfitted-level-3: chocolate;\n",
       "  /* Definition of color scheme for fitted estimators */\n",
       "  --sklearn-color-fitted-level-0: #f0f8ff;\n",
       "  --sklearn-color-fitted-level-1: #d4ebff;\n",
       "  --sklearn-color-fitted-level-2: #b3dbfd;\n",
       "  --sklearn-color-fitted-level-3: cornflowerblue;\n",
       "\n",
       "  /* Specific color for light theme */\n",
       "  --sklearn-color-text-on-default-background: var(--sg-text-color, var(--theme-code-foreground, var(--jp-content-font-color1, black)));\n",
       "  --sklearn-color-background: var(--sg-background-color, var(--theme-background, var(--jp-layout-color0, white)));\n",
       "  --sklearn-color-border-box: var(--sg-text-color, var(--theme-code-foreground, var(--jp-content-font-color1, black)));\n",
       "  --sklearn-color-icon: #696969;\n",
       "\n",
       "  @media (prefers-color-scheme: dark) {\n",
       "    /* Redefinition of color scheme for dark theme */\n",
       "    --sklearn-color-text-on-default-background: var(--sg-text-color, var(--theme-code-foreground, var(--jp-content-font-color1, white)));\n",
       "    --sklearn-color-background: var(--sg-background-color, var(--theme-background, var(--jp-layout-color0, #111)));\n",
       "    --sklearn-color-border-box: var(--sg-text-color, var(--theme-code-foreground, var(--jp-content-font-color1, white)));\n",
       "    --sklearn-color-icon: #878787;\n",
       "  }\n",
       "}\n",
       "\n",
       "#sk-container-id-3 {\n",
       "  color: var(--sklearn-color-text);\n",
       "}\n",
       "\n",
       "#sk-container-id-3 pre {\n",
       "  padding: 0;\n",
       "}\n",
       "\n",
       "#sk-container-id-3 input.sk-hidden--visually {\n",
       "  border: 0;\n",
       "  clip: rect(1px 1px 1px 1px);\n",
       "  clip: rect(1px, 1px, 1px, 1px);\n",
       "  height: 1px;\n",
       "  margin: -1px;\n",
       "  overflow: hidden;\n",
       "  padding: 0;\n",
       "  position: absolute;\n",
       "  width: 1px;\n",
       "}\n",
       "\n",
       "#sk-container-id-3 div.sk-dashed-wrapped {\n",
       "  border: 1px dashed var(--sklearn-color-line);\n",
       "  margin: 0 0.4em 0.5em 0.4em;\n",
       "  box-sizing: border-box;\n",
       "  padding-bottom: 0.4em;\n",
       "  background-color: var(--sklearn-color-background);\n",
       "}\n",
       "\n",
       "#sk-container-id-3 div.sk-container {\n",
       "  /* jupyter's `normalize.less` sets `[hidden] { display: none; }`\n",
       "     but bootstrap.min.css set `[hidden] { display: none !important; }`\n",
       "     so we also need the `!important` here to be able to override the\n",
       "     default hidden behavior on the sphinx rendered scikit-learn.org.\n",
       "     See: https://github.com/scikit-learn/scikit-learn/issues/21755 */\n",
       "  display: inline-block !important;\n",
       "  position: relative;\n",
       "}\n",
       "\n",
       "#sk-container-id-3 div.sk-text-repr-fallback {\n",
       "  display: none;\n",
       "}\n",
       "\n",
       "div.sk-parallel-item,\n",
       "div.sk-serial,\n",
       "div.sk-item {\n",
       "  /* draw centered vertical line to link estimators */\n",
       "  background-image: linear-gradient(var(--sklearn-color-text-on-default-background), var(--sklearn-color-text-on-default-background));\n",
       "  background-size: 2px 100%;\n",
       "  background-repeat: no-repeat;\n",
       "  background-position: center center;\n",
       "}\n",
       "\n",
       "/* Parallel-specific style estimator block */\n",
       "\n",
       "#sk-container-id-3 div.sk-parallel-item::after {\n",
       "  content: \"\";\n",
       "  width: 100%;\n",
       "  border-bottom: 2px solid var(--sklearn-color-text-on-default-background);\n",
       "  flex-grow: 1;\n",
       "}\n",
       "\n",
       "#sk-container-id-3 div.sk-parallel {\n",
       "  display: flex;\n",
       "  align-items: stretch;\n",
       "  justify-content: center;\n",
       "  background-color: var(--sklearn-color-background);\n",
       "  position: relative;\n",
       "}\n",
       "\n",
       "#sk-container-id-3 div.sk-parallel-item {\n",
       "  display: flex;\n",
       "  flex-direction: column;\n",
       "}\n",
       "\n",
       "#sk-container-id-3 div.sk-parallel-item:first-child::after {\n",
       "  align-self: flex-end;\n",
       "  width: 50%;\n",
       "}\n",
       "\n",
       "#sk-container-id-3 div.sk-parallel-item:last-child::after {\n",
       "  align-self: flex-start;\n",
       "  width: 50%;\n",
       "}\n",
       "\n",
       "#sk-container-id-3 div.sk-parallel-item:only-child::after {\n",
       "  width: 0;\n",
       "}\n",
       "\n",
       "/* Serial-specific style estimator block */\n",
       "\n",
       "#sk-container-id-3 div.sk-serial {\n",
       "  display: flex;\n",
       "  flex-direction: column;\n",
       "  align-items: center;\n",
       "  background-color: var(--sklearn-color-background);\n",
       "  padding-right: 1em;\n",
       "  padding-left: 1em;\n",
       "}\n",
       "\n",
       "\n",
       "/* Toggleable style: style used for estimator/Pipeline/ColumnTransformer box that is\n",
       "clickable and can be expanded/collapsed.\n",
       "- Pipeline and ColumnTransformer use this feature and define the default style\n",
       "- Estimators will overwrite some part of the style using the `sk-estimator` class\n",
       "*/\n",
       "\n",
       "/* Pipeline and ColumnTransformer style (default) */\n",
       "\n",
       "#sk-container-id-3 div.sk-toggleable {\n",
       "  /* Default theme specific background. It is overwritten whether we have a\n",
       "  specific estimator or a Pipeline/ColumnTransformer */\n",
       "  background-color: var(--sklearn-color-background);\n",
       "}\n",
       "\n",
       "/* Toggleable label */\n",
       "#sk-container-id-3 label.sk-toggleable__label {\n",
       "  cursor: pointer;\n",
       "  display: block;\n",
       "  width: 100%;\n",
       "  margin-bottom: 0;\n",
       "  padding: 0.5em;\n",
       "  box-sizing: border-box;\n",
       "  text-align: center;\n",
       "}\n",
       "\n",
       "#sk-container-id-3 label.sk-toggleable__label-arrow:before {\n",
       "  /* Arrow on the left of the label */\n",
       "  content: \"▸\";\n",
       "  float: left;\n",
       "  margin-right: 0.25em;\n",
       "  color: var(--sklearn-color-icon);\n",
       "}\n",
       "\n",
       "#sk-container-id-3 label.sk-toggleable__label-arrow:hover:before {\n",
       "  color: var(--sklearn-color-text);\n",
       "}\n",
       "\n",
       "/* Toggleable content - dropdown */\n",
       "\n",
       "#sk-container-id-3 div.sk-toggleable__content {\n",
       "  max-height: 0;\n",
       "  max-width: 0;\n",
       "  overflow: hidden;\n",
       "  text-align: left;\n",
       "  /* unfitted */\n",
       "  background-color: var(--sklearn-color-unfitted-level-0);\n",
       "}\n",
       "\n",
       "#sk-container-id-3 div.sk-toggleable__content.fitted {\n",
       "  /* fitted */\n",
       "  background-color: var(--sklearn-color-fitted-level-0);\n",
       "}\n",
       "\n",
       "#sk-container-id-3 div.sk-toggleable__content pre {\n",
       "  margin: 0.2em;\n",
       "  border-radius: 0.25em;\n",
       "  color: var(--sklearn-color-text);\n",
       "  /* unfitted */\n",
       "  background-color: var(--sklearn-color-unfitted-level-0);\n",
       "}\n",
       "\n",
       "#sk-container-id-3 div.sk-toggleable__content.fitted pre {\n",
       "  /* unfitted */\n",
       "  background-color: var(--sklearn-color-fitted-level-0);\n",
       "}\n",
       "\n",
       "#sk-container-id-3 input.sk-toggleable__control:checked~div.sk-toggleable__content {\n",
       "  /* Expand drop-down */\n",
       "  max-height: 200px;\n",
       "  max-width: 100%;\n",
       "  overflow: auto;\n",
       "}\n",
       "\n",
       "#sk-container-id-3 input.sk-toggleable__control:checked~label.sk-toggleable__label-arrow:before {\n",
       "  content: \"▾\";\n",
       "}\n",
       "\n",
       "/* Pipeline/ColumnTransformer-specific style */\n",
       "\n",
       "#sk-container-id-3 div.sk-label input.sk-toggleable__control:checked~label.sk-toggleable__label {\n",
       "  color: var(--sklearn-color-text);\n",
       "  background-color: var(--sklearn-color-unfitted-level-2);\n",
       "}\n",
       "\n",
       "#sk-container-id-3 div.sk-label.fitted input.sk-toggleable__control:checked~label.sk-toggleable__label {\n",
       "  background-color: var(--sklearn-color-fitted-level-2);\n",
       "}\n",
       "\n",
       "/* Estimator-specific style */\n",
       "\n",
       "/* Colorize estimator box */\n",
       "#sk-container-id-3 div.sk-estimator input.sk-toggleable__control:checked~label.sk-toggleable__label {\n",
       "  /* unfitted */\n",
       "  background-color: var(--sklearn-color-unfitted-level-2);\n",
       "}\n",
       "\n",
       "#sk-container-id-3 div.sk-estimator.fitted input.sk-toggleable__control:checked~label.sk-toggleable__label {\n",
       "  /* fitted */\n",
       "  background-color: var(--sklearn-color-fitted-level-2);\n",
       "}\n",
       "\n",
       "#sk-container-id-3 div.sk-label label.sk-toggleable__label,\n",
       "#sk-container-id-3 div.sk-label label {\n",
       "  /* The background is the default theme color */\n",
       "  color: var(--sklearn-color-text-on-default-background);\n",
       "}\n",
       "\n",
       "/* On hover, darken the color of the background */\n",
       "#sk-container-id-3 div.sk-label:hover label.sk-toggleable__label {\n",
       "  color: var(--sklearn-color-text);\n",
       "  background-color: var(--sklearn-color-unfitted-level-2);\n",
       "}\n",
       "\n",
       "/* Label box, darken color on hover, fitted */\n",
       "#sk-container-id-3 div.sk-label.fitted:hover label.sk-toggleable__label.fitted {\n",
       "  color: var(--sklearn-color-text);\n",
       "  background-color: var(--sklearn-color-fitted-level-2);\n",
       "}\n",
       "\n",
       "/* Estimator label */\n",
       "\n",
       "#sk-container-id-3 div.sk-label label {\n",
       "  font-family: monospace;\n",
       "  font-weight: bold;\n",
       "  display: inline-block;\n",
       "  line-height: 1.2em;\n",
       "}\n",
       "\n",
       "#sk-container-id-3 div.sk-label-container {\n",
       "  text-align: center;\n",
       "}\n",
       "\n",
       "/* Estimator-specific */\n",
       "#sk-container-id-3 div.sk-estimator {\n",
       "  font-family: monospace;\n",
       "  border: 1px dotted var(--sklearn-color-border-box);\n",
       "  border-radius: 0.25em;\n",
       "  box-sizing: border-box;\n",
       "  margin-bottom: 0.5em;\n",
       "  /* unfitted */\n",
       "  background-color: var(--sklearn-color-unfitted-level-0);\n",
       "}\n",
       "\n",
       "#sk-container-id-3 div.sk-estimator.fitted {\n",
       "  /* fitted */\n",
       "  background-color: var(--sklearn-color-fitted-level-0);\n",
       "}\n",
       "\n",
       "/* on hover */\n",
       "#sk-container-id-3 div.sk-estimator:hover {\n",
       "  /* unfitted */\n",
       "  background-color: var(--sklearn-color-unfitted-level-2);\n",
       "}\n",
       "\n",
       "#sk-container-id-3 div.sk-estimator.fitted:hover {\n",
       "  /* fitted */\n",
       "  background-color: var(--sklearn-color-fitted-level-2);\n",
       "}\n",
       "\n",
       "/* Specification for estimator info (e.g. \"i\" and \"?\") */\n",
       "\n",
       "/* Common style for \"i\" and \"?\" */\n",
       "\n",
       ".sk-estimator-doc-link,\n",
       "a:link.sk-estimator-doc-link,\n",
       "a:visited.sk-estimator-doc-link {\n",
       "  float: right;\n",
       "  font-size: smaller;\n",
       "  line-height: 1em;\n",
       "  font-family: monospace;\n",
       "  background-color: var(--sklearn-color-background);\n",
       "  border-radius: 1em;\n",
       "  height: 1em;\n",
       "  width: 1em;\n",
       "  text-decoration: none !important;\n",
       "  margin-left: 1ex;\n",
       "  /* unfitted */\n",
       "  border: var(--sklearn-color-unfitted-level-1) 1pt solid;\n",
       "  color: var(--sklearn-color-unfitted-level-1);\n",
       "}\n",
       "\n",
       ".sk-estimator-doc-link.fitted,\n",
       "a:link.sk-estimator-doc-link.fitted,\n",
       "a:visited.sk-estimator-doc-link.fitted {\n",
       "  /* fitted */\n",
       "  border: var(--sklearn-color-fitted-level-1) 1pt solid;\n",
       "  color: var(--sklearn-color-fitted-level-1);\n",
       "}\n",
       "\n",
       "/* On hover */\n",
       "div.sk-estimator:hover .sk-estimator-doc-link:hover,\n",
       ".sk-estimator-doc-link:hover,\n",
       "div.sk-label-container:hover .sk-estimator-doc-link:hover,\n",
       ".sk-estimator-doc-link:hover {\n",
       "  /* unfitted */\n",
       "  background-color: var(--sklearn-color-unfitted-level-3);\n",
       "  color: var(--sklearn-color-background);\n",
       "  text-decoration: none;\n",
       "}\n",
       "\n",
       "div.sk-estimator.fitted:hover .sk-estimator-doc-link.fitted:hover,\n",
       ".sk-estimator-doc-link.fitted:hover,\n",
       "div.sk-label-container:hover .sk-estimator-doc-link.fitted:hover,\n",
       ".sk-estimator-doc-link.fitted:hover {\n",
       "  /* fitted */\n",
       "  background-color: var(--sklearn-color-fitted-level-3);\n",
       "  color: var(--sklearn-color-background);\n",
       "  text-decoration: none;\n",
       "}\n",
       "\n",
       "/* Span, style for the box shown on hovering the info icon */\n",
       ".sk-estimator-doc-link span {\n",
       "  display: none;\n",
       "  z-index: 9999;\n",
       "  position: relative;\n",
       "  font-weight: normal;\n",
       "  right: .2ex;\n",
       "  padding: .5ex;\n",
       "  margin: .5ex;\n",
       "  width: min-content;\n",
       "  min-width: 20ex;\n",
       "  max-width: 50ex;\n",
       "  color: var(--sklearn-color-text);\n",
       "  box-shadow: 2pt 2pt 4pt #999;\n",
       "  /* unfitted */\n",
       "  background: var(--sklearn-color-unfitted-level-0);\n",
       "  border: .5pt solid var(--sklearn-color-unfitted-level-3);\n",
       "}\n",
       "\n",
       ".sk-estimator-doc-link.fitted span {\n",
       "  /* fitted */\n",
       "  background: var(--sklearn-color-fitted-level-0);\n",
       "  border: var(--sklearn-color-fitted-level-3);\n",
       "}\n",
       "\n",
       ".sk-estimator-doc-link:hover span {\n",
       "  display: block;\n",
       "}\n",
       "\n",
       "/* \"?\"-specific style due to the `<a>` HTML tag */\n",
       "\n",
       "#sk-container-id-3 a.estimator_doc_link {\n",
       "  float: right;\n",
       "  font-size: 1rem;\n",
       "  line-height: 1em;\n",
       "  font-family: monospace;\n",
       "  background-color: var(--sklearn-color-background);\n",
       "  border-radius: 1rem;\n",
       "  height: 1rem;\n",
       "  width: 1rem;\n",
       "  text-decoration: none;\n",
       "  /* unfitted */\n",
       "  color: var(--sklearn-color-unfitted-level-1);\n",
       "  border: var(--sklearn-color-unfitted-level-1) 1pt solid;\n",
       "}\n",
       "\n",
       "#sk-container-id-3 a.estimator_doc_link.fitted {\n",
       "  /* fitted */\n",
       "  border: var(--sklearn-color-fitted-level-1) 1pt solid;\n",
       "  color: var(--sklearn-color-fitted-level-1);\n",
       "}\n",
       "\n",
       "/* On hover */\n",
       "#sk-container-id-3 a.estimator_doc_link:hover {\n",
       "  /* unfitted */\n",
       "  background-color: var(--sklearn-color-unfitted-level-3);\n",
       "  color: var(--sklearn-color-background);\n",
       "  text-decoration: none;\n",
       "}\n",
       "\n",
       "#sk-container-id-3 a.estimator_doc_link.fitted:hover {\n",
       "  /* fitted */\n",
       "  background-color: var(--sklearn-color-fitted-level-3);\n",
       "}\n",
       "</style><div id=\"sk-container-id-3\" class=\"sk-top-container\"><div class=\"sk-text-repr-fallback\"><pre>RandomForestClassifier(max_depth=12, min_samples_leaf=3, min_samples_split=9,\n",
       "                       n_estimators=313, random_state=42)</pre><b>In a Jupyter environment, please rerun this cell to show the HTML representation or trust the notebook. <br />On GitHub, the HTML representation is unable to render, please try loading this page with nbviewer.org.</b></div><div class=\"sk-container\" hidden><div class=\"sk-item\"><div class=\"sk-estimator fitted sk-toggleable\"><input class=\"sk-toggleable__control sk-hidden--visually\" id=\"sk-estimator-id-3\" type=\"checkbox\" checked><label for=\"sk-estimator-id-3\" class=\"sk-toggleable__label fitted sk-toggleable__label-arrow fitted\">&nbsp;&nbsp;RandomForestClassifier<a class=\"sk-estimator-doc-link fitted\" rel=\"noreferrer\" target=\"_blank\" href=\"https://scikit-learn.org/1.4/modules/generated/sklearn.ensemble.RandomForestClassifier.html\">?<span>Documentation for RandomForestClassifier</span></a><span class=\"sk-estimator-doc-link fitted\">i<span>Fitted</span></span></label><div class=\"sk-toggleable__content fitted\"><pre>RandomForestClassifier(max_depth=12, min_samples_leaf=3, min_samples_split=9,\n",
       "                       n_estimators=313, random_state=42)</pre></div> </div></div></div></div>"
      ],
      "text/plain": [
       "RandomForestClassifier(max_depth=12, min_samples_leaf=3, min_samples_split=9,\n",
       "                       n_estimators=313, random_state=42)"
      ]
     },
     "execution_count": 27,
     "metadata": {},
     "output_type": "execute_result"
    }
   ],
   "source": [
    "print(\"Best hyperparameters: \", study.best_params)\n",
    "\n",
    "best_params = study.best_params\n",
    "best_clf = RandomForestClassifier(\n",
    "    n_estimators=best_params['n_estimators'],\n",
    "    max_depth=best_params['max_depth'],\n",
    "    min_samples_split=best_params['min_samples_split'],\n",
    "    min_samples_leaf=best_params['min_samples_leaf'],\n",
    "    max_features=best_params['max_features'],\n",
    "    random_state=42\n",
    ")\n",
    "best_clf.fit(X_train_preprocessed, y_train_preprocessed.values.ravel())"
   ]
  },
  {
   "cell_type": "code",
   "execution_count": 29,
   "metadata": {},
   "outputs": [
    {
     "name": "stdout",
     "output_type": "stream",
     "text": [
      "Matthews correlation coefficient: 0.03390199575799733\n",
      "Recall: 0.5645161290322581\n",
      "Precision: 0.4231433506044905\n",
      "F1 score: 0.4837117472852912\n",
      "Accuracy: 0.5084586466165414\n"
     ]
    },
    {
     "data": {
      "image/png": "[encoded data removed]",
      "text/plain": [
       "<Figure size 640x480 with 2 Axes>"
      ]
     },
     "metadata": {},
     "output_type": "display_data"
    }
   ],
   "source": [
    "best_pred = best_clf.predict(X_test_preprocessed_np)\n",
    "print_metrics(y_test_preprocessed, best_pred)"
   ]
  },
  {
   "cell_type": "code",
   "execution_count": 31,
   "metadata": {},
   "outputs": [
    {
     "data": {
      "application/vnd.plotly.v1+json": {
       "config": {
        "plotlyServerURL": "https://plot.ly"
       },
       "data": [
        {
         "mode": "markers",
         "name": "Objective Value",
         "type": "scatter",
         "x": [
          0,
          1,
          2,
          3,
          4,
          5,
          6,
          7,
          8,
          9,
          10,
          11,
          12,
          13,
          14,
          15,
          16,
          17,
          18,
          19,
          20,
          21,
          22,
          23,
          24,
          25,
          26,
          27,
          28,
          29,
          30,
          31,
          32,
          33,
          34,
          35,
          36,
          37,
          38,
          39,
          40,
          41,
          42,
          43,
          44,
          45,
          46,
          47,
          48,
          49,
          50,
          51,
          52,
          53,
          54,
          55,
          56,
          57,
          58,
          59,
          60,
          61,
          62,
          63,
          64,
          65,
          66,
          67,
          68,
          69,
          70,
          71,
          72,
          73,
          74,
          75,
          76,
          77,
          78,
          79,
          80,
          81,
          82,
          83,
          84,
          85,
          86,
          87,
          88,
          89,
          90,
          91,
          92,
          93,
          94,
          95,
          96,
          97,
          98,
          99
         ],
         "y": [
          0.25918780546737386,
          0.24136511712817424,
          0.2465615239280084,
          0.25115822313954944,
          0.2568988127703969,
          0.2578305927771244,
          0.2542366736484965,
          0.26284756632892037,
          0.26846132521493715,
          0.2618165851929443,
          0.24488446565493402,
          0.25522232587497057,
          0.24864027512903758,
          0.26494630014042164,
          0.24415809067025915,
          0.26379970149952076,
          0.2631089488157116,
          0.23623390966779212,
          0.2675447110195712,
          0.24056810683350308,
          0.24056810683350308,
          0.24056810683350308,
          0.24056810683350308,
          0.2727816710059261,
          0.26399317546325696,
          0.25198546240336755,
          0.25096222705811566,
          0.2420279204681923,
          0.251001822974958,
          0.24871580166628068,
          0.2553391891889701,
          0.24647377454699915,
          0.24296787361361616,
          0.24339589507584405,
          0.2608341023811974,
          0.2636581883297199,
          0.2637247386277226,
          0.26008262465703247,
          0.2593845315359622,
          0.26058082587260323,
          0.2395015712571778,
          0.2631179297909011,
          0.23481361907747558,
          0.23795022290936002,
          0.26341465023185845,
          0.2369395751197268,
          0.23639442197215443,
          0.23849457274407687,
          0.26474974377920196,
          0.2735201641251228,
          0.2616838515679711,
          0.2645961928239688,
          0.2673695931334317,
          0.2713211391396711,
          0.27184380995128027,
          0.2723666002189026,
          0.2632202544881209,
          0.2623380700534826,
          0.26364208141596596,
          0.2705759187943713,
          0.2625160978200192,
          0.27173390258527835,
          0.27184380995128027,
          0.27099230100222443,
          0.2654815999501785,
          0.26463593419418235,
          0.2635023549967177,
          0.2681747257267163,
          0.2629507936371719,
          0.2644140658101804,
          0.2645243071001747,
          0.26826244034378605,
          0.26430092715453113,
          0.2654815999501785,
          0.26304655883750316,
          0.26195615102092923,
          0.2683001439368017,
          0.2683874474337343,
          0.2628824617555269,
          0.273056200004886,
          0.271109809286613,
          0.26798646873518656,
          0.25866621422365577,
          0.26510499757219164,
          0.26713708317909923,
          0.2612873973418125,
          0.27310461961672217,
          0.27221441439152294,
          0.2651079972863831,
          0.2740001945736541,
          0.2757802177269359,
          0.2719717250179004,
          0.26674338292466815,
          0.2755100351853257,
          0.272136516536219,
          0.27014981946751665,
          0.2784558158371496,
          0.2742645811414543,
          0.273468315495806,
          0.27533565814693306
         ]
        },
        {
         "mode": "lines",
         "name": "Best Value",
         "type": "scatter",
         "x": [
          0,
          1,
          2,
          3,
          4,
          5,
          6,
          7,
          8,
          9,
          10,
          11,
          12,
          13,
          14,
          15,
          16,
          17,
          18,
          19,
          20,
          21,
          22,
          23,
          24,
          25,
          26,
          27,
          28,
          29,
          30,
          31,
          32,
          33,
          34,
          35,
          36,
          37,
          38,
          39,
          40,
          41,
          42,
          43,
          44,
          45,
          46,
          47,
          48,
          49,
          50,
          51,
          52,
          53,
          54,
          55,
          56,
          57,
          58,
          59,
          60,
          61,
          62,
          63,
          64,
          65,
          66,
          67,
          68,
          69,
          70,
          71,
          72,
          73,
          74,
          75,
          76,
          77,
          78,
          79,
          80,
          81,
          82,
          83,
          84,
          85,
          86,
          87,
          88,
          89,
          90,
          91,
          92,
          93,
          94,
          95,
          96,
          97,
          98,
          99
         ],
         "y": [
          0.25918780546737386,
          0.25918780546737386,
          0.25918780546737386,
          0.25918780546737386,
          0.25918780546737386,
          0.25918780546737386,
          0.25918780546737386,
          0.26284756632892037,
          0.26846132521493715,
          0.26846132521493715,
          0.26846132521493715,
          0.26846132521493715,
          0.26846132521493715,
          0.26846132521493715,
          0.26846132521493715,
          0.26846132521493715,
          0.26846132521493715,
          0.26846132521493715,
          0.26846132521493715,
          0.26846132521493715,
          0.26846132521493715,
          0.26846132521493715,
          0.26846132521493715,
          0.2727816710059261,
          0.2727816710059261,
          0.2727816710059261,
          0.2727816710059261,
          0.2727816710059261,
          0.2727816710059261,
          0.2727816710059261,
          0.2727816710059261,
          0.2727816710059261,
          0.2727816710059261,
          0.2727816710059261,
          0.2727816710059261,
          0.2727816710059261,
          0.2727816710059261,
          0.2727816710059261,
          0.2727816710059261,
          0.2727816710059261,
          0.2727816710059261,
          0.2727816710059261,
          0.2727816710059261,
          0.2727816710059261,
          0.2727816710059261,
          0.2727816710059261,
          0.2727816710059261,
          0.2727816710059261,
          0.2727816710059261,
          0.2735201641251228,
          0.2735201641251228,
          0.2735201641251228,
          0.2735201641251228,
          0.2735201641251228,
          0.2735201641251228,
          0.2735201641251228,
          0.2735201641251228,
          0.2735201641251228,
          0.2735201641251228,
          0.2735201641251228,
          0.2735201641251228,
          0.2735201641251228,
          0.2735201641251228,
          0.2735201641251228,
          0.2735201641251228,
          0.2735201641251228,
          0.2735201641251228,
          0.2735201641251228,
          0.2735201641251228,
          0.2735201641251228,
          0.2735201641251228,
          0.2735201641251228,
          0.2735201641251228,
          0.2735201641251228,
          0.2735201641251228,
          0.2735201641251228,
          0.2735201641251228,
          0.2735201641251228,
          0.2735201641251228,
          0.2735201641251228,
          0.2735201641251228,
          0.2735201641251228,
          0.2735201641251228,
          0.2735201641251228,
          0.2735201641251228,
          0.2735201641251228,
          0.2735201641251228,
          0.2735201641251228,
          0.2735201641251228,
          0.2740001945736541,
          0.2757802177269359,
          0.2757802177269359,
          0.2757802177269359,
          0.2757802177269359,
          0.2757802177269359,
          0.2757802177269359,
          0.2784558158371496,
          0.2784558158371496,
          0.2784558158371496,
          0.2784558158371496
         ]
        },
        {
         "marker": {
          "color": "#cccccc"
         },
         "mode": "markers",
         "name": "Infeasible Trial",
         "showlegend": false,
         "type": "scatter",
         "x": [],
         "y": []
        }
       ],
       "layout": {
        "template": {
         "data": {
          "bar": [
           {
            "error_x": {
             "color": "#2a3f5f"
            },
            "error_y": {
             "color": "#2a3f5f"
            },
            "marker": {
             "line": {
              "color": "#E5ECF6",
              "width": 0.5
             },
             "pattern": {
              "fillmode": "overlay",
              "size": 10,
              "solidity": 0.2
             }
            },
            "type": "bar"
           }
          ],
          "barpolar": [
           {
            "marker": {
             "line": {
              "color": "#E5ECF6",
              "width": 0.5
             },
             "pattern": {
              "fillmode": "overlay",
              "size": 10,
              "solidity": 0.2
             }
            },
            "type": "barpolar"
           }
          ],
          "carpet": [
           {
            "aaxis": {
             "endlinecolor": "#2a3f5f",
             "gridcolor": "white",
             "linecolor": "white",
             "minorgridcolor": "white",
             "startlinecolor": "#2a3f5f"
            },
            "baxis": {
             "endlinecolor": "#2a3f5f",
             "gridcolor": "white",
             "linecolor": "white",
             "minorgridcolor": "white",
             "startlinecolor": "#2a3f5f"
            },
            "type": "carpet"
           }
          ],
          "choropleth": [
           {
            "colorbar": {
             "outlinewidth": 0,
             "ticks": ""
            },
            "type": "choropleth"
           }
          ],
          "contour": [
           {
            "colorbar": {
             "outlinewidth": 0,
             "ticks": ""
            },
            "colorscale": [
             [
              0,
              "#0d0887"
             ],
             [
              0.1111111111111111,
              "#46039f"
             ],
             [
              0.2222222222222222,
              "#7201a8"
             ],
             [
              0.3333333333333333,
              "#9c179e"
             ],
             [
              0.4444444444444444,
              "#bd3786"
             ],
             [
              0.5555555555555556,
              "#d8576b"
             ],
             [
              0.6666666666666666,
              "#ed7953"
             ],
             [
              0.7777777777777778,
              "#fb9f3a"
             ],
             [
              0.8888888888888888,
              "#fdca26"
             ],
             [
              1,
              "#f0f921"
             ]
            ],
            "type": "contour"
           }
          ],
          "contourcarpet": [
           {
            "colorbar": {
             "outlinewidth": 0,
             "ticks": ""
            },
            "type": "contourcarpet"
           }
          ],
          "heatmap": [
           {
            "colorbar": {
             "outlinewidth": 0,
             "ticks": ""
            },
            "colorscale": [
             [
              0,
              "#0d0887"
             ],
             [
              0.1111111111111111,
              "#46039f"
             ],
             [
              0.2222222222222222,
              "#7201a8"
             ],
             [
              0.3333333333333333,
              "#9c179e"
             ],
             [
              0.4444444444444444,
              "#bd3786"
             ],
             [
              0.5555555555555556,
              "#d8576b"
             ],
             [
              0.6666666666666666,
              "#ed7953"
             ],
             [
              0.7777777777777778,
              "#fb9f3a"
             ],
             [
              0.8888888888888888,
              "#fdca26"
             ],
             [
              1,
              "#f0f921"
             ]
            ],
            "type": "heatmap"
           }
          ],
          "heatmapgl": [
           {
            "colorbar": {
             "outlinewidth": 0,
             "ticks": ""
            },
            "colorscale": [
             [
              0,
              "#0d0887"
             ],
             [
              0.1111111111111111,
              "#46039f"
             ],
             [
              0.2222222222222222,
              "#7201a8"
             ],
             [
              0.3333333333333333,
              "#9c179e"
             ],
             [
              0.4444444444444444,
              "#bd3786"
             ],
             [
              0.5555555555555556,
              "#d8576b"
             ],
             [
              0.6666666666666666,
              "#ed7953"
             ],
             [
              0.7777777777777778,
              "#fb9f3a"
             ],
             [
              0.8888888888888888,
              "#fdca26"
             ],
             [
              1,
              "#f0f921"
             ]
            ],
            "type": "heatmapgl"
           }
          ],
          "histogram": [
           {
            "marker": {
             "pattern": {
              "fillmode": "overlay",
              "size": 10,
              "solidity": 0.2
             }
            },
            "type": "histogram"
           }
          ],
          "histogram2d": [
           {
            "colorbar": {
             "outlinewidth": 0,
             "ticks": ""
            },
            "colorscale": [
             [
              0,
              "#0d0887"
             ],
             [
              0.1111111111111111,
              "#46039f"
             ],
             [
              0.2222222222222222,
              "#7201a8"
             ],
             [
              0.3333333333333333,
              "#9c179e"
             ],
             [
              0.4444444444444444,
              "#bd3786"
             ],
             [
              0.5555555555555556,
              "#d8576b"
             ],
             [
              0.6666666666666666,
              "#ed7953"
             ],
             [
              0.7777777777777778,
              "#fb9f3a"
             ],
             [
              0.8888888888888888,
              "#fdca26"
             ],
             [
              1,
              "#f0f921"
             ]
            ],
            "type": "histogram2d"
           }
          ],
          "histogram2dcontour": [
           {
            "colorbar": {
             "outlinewidth": 0,
             "ticks": ""
            },
            "colorscale": [
             [
              0,
              "#0d0887"
             ],
             [
              0.1111111111111111,
              "#46039f"
             ],
             [
              0.2222222222222222,
              "#7201a8"
             ],
             [
              0.3333333333333333,
              "#9c179e"
             ],
             [
              0.4444444444444444,
              "#bd3786"
             ],
             [
              0.5555555555555556,
              "#d8576b"
             ],
             [
              0.6666666666666666,
              "#ed7953"
             ],
             [
              0.7777777777777778,
              "#fb9f3a"
             ],
             [
              0.8888888888888888,
              "#fdca26"
             ],
             [
              1,
              "#f0f921"
             ]
            ],
            "type": "histogram2dcontour"
           }
          ],
          "mesh3d": [
           {
            "colorbar": {
             "outlinewidth": 0,
             "ticks": ""
            },
            "type": "mesh3d"
           }
          ],
          "parcoords": [
           {
            "line": {
             "colorbar": {
              "outlinewidth": 0,
              "ticks": ""
             }
            },
            "type": "parcoords"
           }
          ],
          "pie": [
           {
            "automargin": true,
            "type": "pie"
           }
          ],
          "scatter": [
           {
            "fillpattern": {
             "fillmode": "overlay",
             "size": 10,
             "solidity": 0.2
            },
            "type": "scatter"
           }
          ],
          "scatter3d": [
           {
            "line": {
             "colorbar": {
              "outlinewidth": 0,
              "ticks": ""
             }
            },
            "marker": {
             "colorbar": {
              "outlinewidth": 0,
              "ticks": ""
             }
            },
            "type": "scatter3d"
           }
          ],
          "scattercarpet": [
           {
            "marker": {
             "colorbar": {
              "outlinewidth": 0,
              "ticks": ""
             }
            },
            "type": "scattercarpet"
           }
          ],
          "scattergeo": [
           {
            "marker": {
             "colorbar": {
              "outlinewidth": 0,
              "ticks": ""
             }
            },
            "type": "scattergeo"
           }
          ],
          "scattergl": [
           {
            "marker": {
             "colorbar": {
              "outlinewidth": 0,
              "ticks": ""
             }
            },
            "type": "scattergl"
           }
          ],
          "scattermapbox": [
           {
            "marker": {
             "colorbar": {
              "outlinewidth": 0,
              "ticks": ""
             }
            },
            "type": "scattermapbox"
           }
          ],
          "scatterpolar": [
           {
            "marker": {
             "colorbar": {
              "outlinewidth": 0,
              "ticks": ""
             }
            },
            "type": "scatterpolar"
           }
          ],
          "scatterpolargl": [
           {
            "marker": {
             "colorbar": {
              "outlinewidth": 0,
              "ticks": ""
             }
            },
            "type": "scatterpolargl"
           }
          ],
          "scatterternary": [
           {
            "marker": {
             "colorbar": {
              "outlinewidth": 0,
              "ticks": ""
             }
            },
            "type": "scatterternary"
           }
          ],
          "surface": [
           {
            "colorbar": {
             "outlinewidth": 0,
             "ticks": ""
            },
            "colorscale": [
             [
              0,
              "#0d0887"
             ],
             [
              0.1111111111111111,
              "#46039f"
             ],
             [
              0.2222222222222222,
              "#7201a8"
             ],
             [
              0.3333333333333333,
              "#9c179e"
             ],
             [
              0.4444444444444444,
              "#bd3786"
             ],
             [
              0.5555555555555556,
              "#d8576b"
             ],
             [
              0.6666666666666666,
              "#ed7953"
             ],
             [
              0.7777777777777778,
              "#fb9f3a"
             ],
             [
              0.8888888888888888,
              "#fdca26"
             ],
             [
              1,
              "#f0f921"
             ]
            ],
            "type": "surface"
           }
          ],
          "table": [
           {
            "cells": {
             "fill": {
              "color": "#EBF0F8"
             },
             "line": {
              "color": "white"
             }
            },
            "header": {
             "fill": {
              "color": "#C8D4E3"
             },
             "line": {
              "color": "white"
             }
            },
            "type": "table"
           }
          ]
         },
         "layout": {
          "annotationdefaults": {
           "arrowcolor": "#2a3f5f",
           "arrowhead": 0,
           "arrowwidth": 1
          },
          "autotypenumbers": "strict",
          "coloraxis": {
           "colorbar": {
            "outlinewidth": 0,
            "ticks": ""
           }
          },
          "colorscale": {
           "diverging": [
            [
             0,
             "#8e0152"
            ],
            [
             0.1,
             "#c51b7d"
            ],
            [
             0.2,
             "#de77ae"
            ],
            [
             0.3,
             "#f1b6da"
            ],
            [
             0.4,
             "#fde0ef"
            ],
            [
             0.5,
             "#f7f7f7"
            ],
            [
             0.6,
             "#e6f5d0"
            ],
            [
             0.7,
             "#b8e186"
            ],
            [
             0.8,
             "#7fbc41"
            ],
            [
             0.9,
             "#4d9221"
            ],
            [
             1,
             "#276419"
            ]
           ],
           "sequential": [
            [
             0,
             "#0d0887"
            ],
            [
             0.1111111111111111,
             "#46039f"
            ],
            [
             0.2222222222222222,
             "#7201a8"
            ],
            [
             0.3333333333333333,
             "#9c179e"
            ],
            [
             0.4444444444444444,
             "#bd3786"
            ],
            [
             0.5555555555555556,
             "#d8576b"
            ],
            [
             0.6666666666666666,
             "#ed7953"
            ],
            [
             0.7777777777777778,
             "#fb9f3a"
            ],
            [
             0.8888888888888888,
             "#fdca26"
            ],
            [
             1,
             "#f0f921"
            ]
           ],
           "sequentialminus": [
            [
             0,
             "#0d0887"
            ],
            [
             0.1111111111111111,
             "#46039f"
            ],
            [
             0.2222222222222222,
             "#7201a8"
            ],
            [
             0.3333333333333333,
             "#9c179e"
            ],
            [
             0.4444444444444444,
             "#bd3786"
            ],
            [
             0.5555555555555556,
             "#d8576b"
            ],
            [
             0.6666666666666666,
             "#ed7953"
            ],
            [
             0.7777777777777778,
             "#fb9f3a"
            ],
            [
             0.8888888888888888,
             "#fdca26"
            ],
            [
             1,
             "#f0f921"
            ]
           ]
          },
          "colorway": [
           "#636efa",
           "#EF553B",
           "#00cc96",
           "#ab63fa",
           "#FFA15A",
           "#19d3f3",
           "#FF6692",
           "#B6E880",
           "#FF97FF",
           "#FECB52"
          ],
          "font": {
           "color": "#2a3f5f"
          },
          "geo": {
           "bgcolor": "white",
           "lakecolor": "white",
           "landcolor": "#E5ECF6",
           "showlakes": true,
           "showland": true,
           "subunitcolor": "white"
          },
          "hoverlabel": {
           "align": "left"
          },
          "hovermode": "closest",
          "mapbox": {
           "style": "light"
          },
          "paper_bgcolor": "white",
          "plot_bgcolor": "#E5ECF6",
          "polar": {
           "angularaxis": {
            "gridcolor": "white",
            "linecolor": "white",
            "ticks": ""
           },
           "bgcolor": "#E5ECF6",
           "radialaxis": {
            "gridcolor": "white",
            "linecolor": "white",
            "ticks": ""
           }
          },
          "scene": {
           "xaxis": {
            "backgroundcolor": "#E5ECF6",
            "gridcolor": "white",
            "gridwidth": 2,
            "linecolor": "white",
            "showbackground": true,
            "ticks": "",
            "zerolinecolor": "white"
           },
           "yaxis": {
            "backgroundcolor": "#E5ECF6",
            "gridcolor": "white",
            "gridwidth": 2,
            "linecolor": "white",
            "showbackground": true,
            "ticks": "",
            "zerolinecolor": "white"
           },
           "zaxis": {
            "backgroundcolor": "#E5ECF6",
            "gridcolor": "white",
            "gridwidth": 2,
            "linecolor": "white",
            "showbackground": true,
            "ticks": "",
            "zerolinecolor": "white"
           }
          },
          "shapedefaults": {
           "line": {
            "color": "#2a3f5f"
           }
          },
          "ternary": {
           "aaxis": {
            "gridcolor": "white",
            "linecolor": "white",
            "ticks": ""
           },
           "baxis": {
            "gridcolor": "white",
            "linecolor": "white",
            "ticks": ""
           },
           "bgcolor": "#E5ECF6",
           "caxis": {
            "gridcolor": "white",
            "linecolor": "white",
            "ticks": ""
           }
          },
          "title": {
           "x": 0.05
          },
          "xaxis": {
           "automargin": true,
           "gridcolor": "white",
           "linecolor": "white",
           "ticks": "",
           "title": {
            "standoff": 15
           },
           "zerolinecolor": "white",
           "zerolinewidth": 2
          },
          "yaxis": {
           "automargin": true,
           "gridcolor": "white",
           "linecolor": "white",
           "ticks": "",
           "title": {
            "standoff": 15
           },
           "zerolinecolor": "white",
           "zerolinewidth": 2
          }
         }
        },
        "title": {
         "text": "Optimization History Plot"
        },
        "xaxis": {
         "title": {
          "text": "Trial"
         }
        },
        "yaxis": {
         "title": {
          "text": "Objective Value"
         }
        }
       }
      }
     },
     "metadata": {},
     "output_type": "display_data"
    }
   ],
   "source": [
    "optuna.visualization.plot_optimization_history(study)"
   ]
  },
  {
   "cell_type": "code",
   "execution_count": 32,
   "metadata": {},
   "outputs": [
    {
     "data": {
      "application/vnd.plotly.v1+json": {
       "config": {
        "plotlyServerURL": "https://plot.ly"
       },
       "data": [
        {
         "cliponaxis": false,
         "hovertemplate": [
          "criterion (CategoricalDistribution): 0.025452477172243918<extra></extra>",
          "n_estimators (IntDistribution): 0.032254697061454556<extra></extra>",
          "min_samples_leaf (IntDistribution): 0.09030550960902854<extra></extra>",
          "max_depth (IntDistribution): 0.2546685217380067<extra></extra>",
          "max_features (CategoricalDistribution): 0.27387332413268306<extra></extra>",
          "min_samples_split (IntDistribution): 0.3234454702865831<extra></extra>"
         ],
         "name": "Objective Value",
         "orientation": "h",
         "text": [
          "0.03",
          "0.03",
          "0.09",
          "0.25",
          "0.27",
          "0.32"
         ],
         "textposition": "outside",
         "type": "bar",
         "x": [
          0.025452477172243918,
          0.032254697061454556,
          0.09030550960902854,
          0.2546685217380067,
          0.27387332413268306,
          0.3234454702865831
         ],
         "y": [
          "criterion",
          "n_estimators",
          "min_samples_leaf",
          "max_depth",
          "max_features",
          "min_samples_split"
         ]
        }
       ],
       "layout": {
        "template": {
         "data": {
          "bar": [
           {
            "error_x": {
             "color": "#2a3f5f"
            },
            "error_y": {
             "color": "#2a3f5f"
            },
            "marker": {
             "line": {
              "color": "#E5ECF6",
              "width": 0.5
             },
             "pattern": {
              "fillmode": "overlay",
              "size": 10,
              "solidity": 0.2
             }
            },
            "type": "bar"
           }
          ],
          "barpolar": [
           {
            "marker": {
             "line": {
              "color": "#E5ECF6",
              "width": 0.5
             },
             "pattern": {
              "fillmode": "overlay",
              "size": 10,
              "solidity": 0.2
             }
            },
            "type": "barpolar"
           }
          ],
          "carpet": [
           {
            "aaxis": {
             "endlinecolor": "#2a3f5f",
             "gridcolor": "white",
             "linecolor": "white",
             "minorgridcolor": "white",
             "startlinecolor": "#2a3f5f"
            },
            "baxis": {
             "endlinecolor": "#2a3f5f",
             "gridcolor": "white",
             "linecolor": "white",
             "minorgridcolor": "white",
             "startlinecolor": "#2a3f5f"
            },
            "type": "carpet"
           }
          ],
          "choropleth": [
           {
            "colorbar": {
             "outlinewidth": 0,
             "ticks": ""
            },
            "type": "choropleth"
           }
          ],
          "contour": [
           {
            "colorbar": {
             "outlinewidth": 0,
             "ticks": ""
            },
            "colorscale": [
             [
              0,
              "#0d0887"
             ],
             [
              0.1111111111111111,
              "#46039f"
             ],
             [
              0.2222222222222222,
              "#7201a8"
             ],
             [
              0.3333333333333333,
              "#9c179e"
             ],
             [
              0.4444444444444444,
              "#bd3786"
             ],
             [
              0.5555555555555556,
              "#d8576b"
             ],
             [
              0.6666666666666666,
              "#ed7953"
             ],
             [
              0.7777777777777778,
              "#fb9f3a"
             ],
             [
              0.8888888888888888,
              "#fdca26"
             ],
             [
              1,
              "#f0f921"
             ]
            ],
            "type": "contour"
           }
          ],
          "contourcarpet": [
           {
            "colorbar": {
             "outlinewidth": 0,
             "ticks": ""
            },
            "type": "contourcarpet"
           }
          ],
          "heatmap": [
           {
            "colorbar": {
             "outlinewidth": 0,
             "ticks": ""
            },
            "colorscale": [
             [
              0,
              "#0d0887"
             ],
             [
              0.1111111111111111,
              "#46039f"
             ],
             [
              0.2222222222222222,
              "#7201a8"
             ],
             [
              0.3333333333333333,
              "#9c179e"
             ],
             [
              0.4444444444444444,
              "#bd3786"
             ],
             [
              0.5555555555555556,
              "#d8576b"
             ],
             [
              0.6666666666666666,
              "#ed7953"
             ],
             [
              0.7777777777777778,
              "#fb9f3a"
             ],
             [
              0.8888888888888888,
              "#fdca26"
             ],
             [
              1,
              "#f0f921"
             ]
            ],
            "type": "heatmap"
           }
          ],
          "heatmapgl": [
           {
            "colorbar": {
             "outlinewidth": 0,
             "ticks": ""
            },
            "colorscale": [
             [
              0,
              "#0d0887"
             ],
             [
              0.1111111111111111,
              "#46039f"
             ],
             [
              0.2222222222222222,
              "#7201a8"
             ],
             [
              0.3333333333333333,
              "#9c179e"
             ],
             [
              0.4444444444444444,
              "#bd3786"
             ],
             [
              0.5555555555555556,
              "#d8576b"
             ],
             [
              0.6666666666666666,
              "#ed7953"
             ],
             [
              0.7777777777777778,
              "#fb9f3a"
             ],
             [
              0.8888888888888888,
              "#fdca26"
             ],
             [
              1,
              "#f0f921"
             ]
            ],
            "type": "heatmapgl"
           }
          ],
          "histogram": [
           {
            "marker": {
             "pattern": {
              "fillmode": "overlay",
              "size": 10,
              "solidity": 0.2
             }
            },
            "type": "histogram"
           }
          ],
          "histogram2d": [
           {
            "colorbar": {
             "outlinewidth": 0,
             "ticks": ""
            },
            "colorscale": [
             [
              0,
              "#0d0887"
             ],
             [
              0.1111111111111111,
              "#46039f"
             ],
             [
              0.2222222222222222,
              "#7201a8"
             ],
             [
              0.3333333333333333,
              "#9c179e"
             ],
             [
              0.4444444444444444,
              "#bd3786"
             ],
             [
              0.5555555555555556,
              "#d8576b"
             ],
             [
              0.6666666666666666,
              "#ed7953"
             ],
             [
              0.7777777777777778,
              "#fb9f3a"
             ],
             [
              0.8888888888888888,
              "#fdca26"
             ],
             [
              1,
              "#f0f921"
             ]
            ],
            "type": "histogram2d"
           }
          ],
          "histogram2dcontour": [
           {
            "colorbar": {
             "outlinewidth": 0,
             "ticks": ""
            },
            "colorscale": [
             [
              0,
              "#0d0887"
             ],
             [
              0.1111111111111111,
              "#46039f"
             ],
             [
              0.2222222222222222,
              "#7201a8"
             ],
             [
              0.3333333333333333,
              "#9c179e"
             ],
             [
              0.4444444444444444,
              "#bd3786"
             ],
             [
              0.5555555555555556,
              "#d8576b"
             ],
             [
              0.6666666666666666,
              "#ed7953"
             ],
             [
              0.7777777777777778,
              "#fb9f3a"
             ],
             [
              0.8888888888888888,
              "#fdca26"
             ],
             [
              1,
              "#f0f921"
             ]
            ],
            "type": "histogram2dcontour"
           }
          ],
          "mesh3d": [
           {
            "colorbar": {
             "outlinewidth": 0,
             "ticks": ""
            },
            "type": "mesh3d"
           }
          ],
          "parcoords": [
           {
            "line": {
             "colorbar": {
              "outlinewidth": 0,
              "ticks": ""
             }
            },
            "type": "parcoords"
           }
          ],
          "pie": [
           {
            "automargin": true,
            "type": "pie"
           }
          ],
          "scatter": [
           {
            "fillpattern": {
             "fillmode": "overlay",
             "size": 10,
             "solidity": 0.2
            },
            "type": "scatter"
           }
          ],
          "scatter3d": [
           {
            "line": {
             "colorbar": {
              "outlinewidth": 0,
              "ticks": ""
             }
            },
            "marker": {
             "colorbar": {
              "outlinewidth": 0,
              "ticks": ""
             }
            },
            "type": "scatter3d"
           }
          ],
          "scattercarpet": [
           {
            "marker": {
             "colorbar": {
              "outlinewidth": 0,
              "ticks": ""
             }
            },
            "type": "scattercarpet"
           }
          ],
          "scattergeo": [
           {
            "marker": {
             "colorbar": {
              "outlinewidth": 0,
              "ticks": ""
             }
            },
            "type": "scattergeo"
           }
          ],
          "scattergl": [
           {
            "marker": {
             "colorbar": {
              "outlinewidth": 0,
              "ticks": ""
             }
            },
            "type": "scattergl"
           }
          ],
          "scattermapbox": [
           {
            "marker": {
             "colorbar": {
              "outlinewidth": 0,
              "ticks": ""
             }
            },
            "type": "scattermapbox"
           }
          ],
          "scatterpolar": [
           {
            "marker": {
             "colorbar": {
              "outlinewidth": 0,
              "ticks": ""
             }
            },
            "type": "scatterpolar"
           }
          ],
          "scatterpolargl": [
           {
            "marker": {
             "colorbar": {
              "outlinewidth": 0,
              "ticks": ""
             }
            },
            "type": "scatterpolargl"
           }
          ],
          "scatterternary": [
           {
            "marker": {
             "colorbar": {
              "outlinewidth": 0,
              "ticks": ""
             }
            },
            "type": "scatterternary"
           }
          ],
          "surface": [
           {
            "colorbar": {
             "outlinewidth": 0,
             "ticks": ""
            },
            "colorscale": [
             [
              0,
              "#0d0887"
             ],
             [
              0.1111111111111111,
              "#46039f"
             ],
             [
              0.2222222222222222,
              "#7201a8"
             ],
             [
              0.3333333333333333,
              "#9c179e"
             ],
             [
              0.4444444444444444,
              "#bd3786"
             ],
             [
              0.5555555555555556,
              "#d8576b"
             ],
             [
              0.6666666666666666,
              "#ed7953"
             ],
             [
              0.7777777777777778,
              "#fb9f3a"
             ],
             [
              0.8888888888888888,
              "#fdca26"
             ],
             [
              1,
              "#f0f921"
             ]
            ],
            "type": "surface"
           }
          ],
          "table": [
           {
            "cells": {
             "fill": {
              "color": "#EBF0F8"
             },
             "line": {
              "color": "white"
             }
            },
            "header": {
             "fill": {
              "color": "#C8D4E3"
             },
             "line": {
              "color": "white"
             }
            },
            "type": "table"
           }
          ]
         },
         "layout": {
          "annotationdefaults": {
           "arrowcolor": "#2a3f5f",
           "arrowhead": 0,
           "arrowwidth": 1
          },
          "autotypenumbers": "strict",
          "coloraxis": {
           "colorbar": {
            "outlinewidth": 0,
            "ticks": ""
           }
          },
          "colorscale": {
           "diverging": [
            [
             0,
             "#8e0152"
            ],
            [
             0.1,
             "#c51b7d"
            ],
            [
             0.2,
             "#de77ae"
            ],
            [
             0.3,
             "#f1b6da"
            ],
            [
             0.4,
             "#fde0ef"
            ],
            [
             0.5,
             "#f7f7f7"
            ],
            [
             0.6,
             "#e6f5d0"
            ],
            [
             0.7,
             "#b8e186"
            ],
            [
             0.8,
             "#7fbc41"
            ],
            [
             0.9,
             "#4d9221"
            ],
            [
             1,
             "#276419"
            ]
           ],
           "sequential": [
            [
             0,
             "#0d0887"
            ],
            [
             0.1111111111111111,
             "#46039f"
            ],
            [
             0.2222222222222222,
             "#7201a8"
            ],
            [
             0.3333333333333333,
             "#9c179e"
            ],
            [
             0.4444444444444444,
             "#bd3786"
            ],
            [
             0.5555555555555556,
             "#d8576b"
            ],
            [
             0.6666666666666666,
             "#ed7953"
            ],
            [
             0.7777777777777778,
             "#fb9f3a"
            ],
            [
             0.8888888888888888,
             "#fdca26"
            ],
            [
             1,
             "#f0f921"
            ]
           ],
           "sequentialminus": [
            [
             0,
             "#0d0887"
            ],
            [
             0.1111111111111111,
             "#46039f"
            ],
            [
             0.2222222222222222,
             "#7201a8"
            ],
            [
             0.3333333333333333,
             "#9c179e"
            ],
            [
             0.4444444444444444,
             "#bd3786"
            ],
            [
             0.5555555555555556,
             "#d8576b"
            ],
            [
             0.6666666666666666,
             "#ed7953"
            ],
            [
             0.7777777777777778,
             "#fb9f3a"
            ],
            [
             0.8888888888888888,
             "#fdca26"
            ],
            [
             1,
             "#f0f921"
            ]
           ]
          },
          "colorway": [
           "#636efa",
           "#EF553B",
           "#00cc96",
           "#ab63fa",
           "#FFA15A",
           "#19d3f3",
           "#FF6692",
           "#B6E880",
           "#FF97FF",
           "#FECB52"
          ],
          "font": {
           "color": "#2a3f5f"
          },
          "geo": {
           "bgcolor": "white",
           "lakecolor": "white",
           "landcolor": "#E5ECF6",
           "showlakes": true,
           "showland": true,
           "subunitcolor": "white"
          },
          "hoverlabel": {
           "align": "left"
          },
          "hovermode": "closest",
          "mapbox": {
           "style": "light"
          },
          "paper_bgcolor": "white",
          "plot_bgcolor": "#E5ECF6",
          "polar": {
           "angularaxis": {
            "gridcolor": "white",
            "linecolor": "white",
            "ticks": ""
           },
           "bgcolor": "#E5ECF6",
           "radialaxis": {
            "gridcolor": "white",
            "linecolor": "white",
            "ticks": ""
           }
          },
          "scene": {
           "xaxis": {
            "backgroundcolor": "#E5ECF6",
            "gridcolor": "white",
            "gridwidth": 2,
            "linecolor": "white",
            "showbackground": true,
            "ticks": "",
            "zerolinecolor": "white"
           },
           "yaxis": {
            "backgroundcolor": "#E5ECF6",
            "gridcolor": "white",
            "gridwidth": 2,
            "linecolor": "white",
            "showbackground": true,
            "ticks": "",
            "zerolinecolor": "white"
           },
           "zaxis": {
            "backgroundcolor": "#E5ECF6",
            "gridcolor": "white",
            "gridwidth": 2,
            "linecolor": "white",
            "showbackground": true,
            "ticks": "",
            "zerolinecolor": "white"
           }
          },
          "shapedefaults": {
           "line": {
            "color": "#2a3f5f"
           }
          },
          "ternary": {
           "aaxis": {
            "gridcolor": "white",
            "linecolor": "white",
            "ticks": ""
           },
           "baxis": {
            "gridcolor": "white",
            "linecolor": "white",
            "ticks": ""
           },
           "bgcolor": "#E5ECF6",
           "caxis": {
            "gridcolor": "white",
            "linecolor": "white",
            "ticks": ""
           }
          },
          "title": {
           "x": 0.05
          },
          "xaxis": {
           "automargin": true,
           "gridcolor": "white",
           "linecolor": "white",
           "ticks": "",
           "title": {
            "standoff": 15
           },
           "zerolinecolor": "white",
           "zerolinewidth": 2
          },
          "yaxis": {
           "automargin": true,
           "gridcolor": "white",
           "linecolor": "white",
           "ticks": "",
           "title": {
            "standoff": 15
           },
           "zerolinecolor": "white",
           "zerolinewidth": 2
          }
         }
        },
        "title": {
         "text": "Hyperparameter Importances"
        },
        "xaxis": {
         "title": {
          "text": "Hyperparameter Importance"
         }
        },
        "yaxis": {
         "title": {
          "text": "Hyperparameter"
         }
        }
       }
      }
     },
     "metadata": {},
     "output_type": "display_data"
    }
   ],
   "source": [
    "optuna.visualization.plot_param_importances(study)"
   ]
  },
  {
   "cell_type": "code",
   "execution_count": 33,
   "metadata": {},
   "outputs": [
    {
     "data": {
      "application/vnd.plotly.v1+json": {
       "config": {
        "plotlyServerURL": "https://plot.ly"
       },
       "data": [
        {
         "dimensions": [
          {
           "label": "Objective Value",
           "range": [
            0.23481361907747558,
            0.2784558158371496
           ],
           "values": [
            0.25918780546737386,
            0.24136511712817424,
            0.2465615239280084,
            0.25115822313954944,
            0.2568988127703969,
            0.2578305927771244,
            0.2542366736484965,
            0.26284756632892037,
            0.26846132521493715,
            0.2618165851929443,
            0.24488446565493402,
            0.25522232587497057,
            0.24864027512903758,
            0.26494630014042164,
            0.24415809067025915,
            0.26379970149952076,
            0.2631089488157116,
            0.23623390966779212,
            0.2675447110195712,
            0.24056810683350308,
            0.24056810683350308,
            0.24056810683350308,
            0.24056810683350308,
            0.2727816710059261,
            0.26399317546325696,
            0.25198546240336755,
            0.25096222705811566,
            0.2420279204681923,
            0.251001822974958,
            0.24871580166628068,
            0.2553391891889701,
            0.24647377454699915,
            0.24296787361361616,
            0.24339589507584405,
            0.2608341023811974,
            0.2636581883297199,
            0.2637247386277226,
            0.26008262465703247,
            0.2593845315359622,
            0.26058082587260323,
            0.2395015712571778,
            0.2631179297909011,
            0.23481361907747558,
            0.23795022290936002,
            0.26341465023185845,
            0.2369395751197268,
            0.23639442197215443,
            0.23849457274407687,
            0.26474974377920196,
            0.2735201641251228,
            0.2616838515679711,
            0.2645961928239688,
            0.2673695931334317,
            0.2713211391396711,
            0.27184380995128027,
            0.2723666002189026,
            0.2632202544881209,
            0.2623380700534826,
            0.26364208141596596,
            0.2705759187943713,
            0.2625160978200192,
            0.27173390258527835,
            0.27184380995128027,
            0.27099230100222443,
            0.2654815999501785,
            0.26463593419418235,
            0.2635023549967177,
            0.2681747257267163,
            0.2629507936371719,
            0.2644140658101804,
            0.2645243071001747,
            0.26826244034378605,
            0.26430092715453113,
            0.2654815999501785,
            0.26304655883750316,
            0.26195615102092923,
            0.2683001439368017,
            0.2683874474337343,
            0.2628824617555269,
            0.273056200004886,
            0.271109809286613,
            0.26798646873518656,
            0.25866621422365577,
            0.26510499757219164,
            0.26713708317909923,
            0.2612873973418125,
            0.27310461961672217,
            0.27221441439152294,
            0.2651079972863831,
            0.2740001945736541,
            0.2757802177269359,
            0.2719717250179004,
            0.26674338292466815,
            0.2755100351853257,
            0.272136516536219,
            0.27014981946751665,
            0.2784558158371496,
            0.2742645811414543,
            0.273468315495806,
            0.27533565814693306
           ]
          },
          {
           "label": "criterion",
           "range": [
            0,
            2
           ],
           "ticktext": [
            "gini",
            "entropy",
            "log_loss"
           ],
           "tickvals": [
            0,
            1,
            2
           ],
           "values": [
            0,
            1,
            0,
            2,
            1,
            2,
            0,
            2,
            0,
            0,
            1,
            0,
            2,
            2,
            2,
            2,
            0,
            0,
            2,
            2,
            2,
            2,
            2,
            2,
            2,
            2,
            1,
            1,
            2,
            2,
            1,
            1,
            1,
            0,
            0,
            0,
            0,
            0,
            0,
            0,
            0,
            2,
            2,
            2,
            2,
            2,
            2,
            2,
            2,
            2,
            2,
            2,
            2,
            2,
            2,
            2,
            2,
            2,
            2,
            2,
            2,
            2,
            2,
            2,
            2,
            2,
            2,
            2,
            2,
            2,
            2,
            2,
            2,
            2,
            2,
            2,
            2,
            2,
            2,
            2,
            2,
            2,
            1,
            1,
            1,
            1,
            1,
            1,
            1,
            2,
            2,
            2,
            2,
            1,
            1,
            1,
            1,
            1,
            1,
            1
           ]
          },
          {
           "label": "max_depth",
           "range": [
            0.3010299956639812,
            1.4313637641589874
           ],
           "ticktext": [
            "2",
            "10",
            "27"
           ],
           "tickvals": [
            0.3010299956639812,
            1,
            1.4313637641589874
           ],
           "values": [
            1.3222192947339193,
            0.6020599913279624,
            1.3222192947339193,
            0.7781512503836436,
            0.7781512503836436,
            1.4313637641589874,
            1.2041199826559248,
            0.7781512503836436,
            1.0413926851582251,
            1.0413926851582251,
            0.47712125471966244,
            0.8450980400142568,
            1.3424226808222062,
            0.7781512503836436,
            1.380211241711606,
            0.8450980400142568,
            1.0413926851582251,
            0.3010299956639812,
            1.0791812460476249,
            0.3010299956639812,
            0.3010299956639812,
            0.3010299956639812,
            0.3010299956639812,
            1,
            0.9542425094393249,
            1.0413926851582251,
            1.0791812460476249,
            1,
            1.0413926851582251,
            1,
            1.0413926851582251,
            1.1760912590556813,
            1.1760912590556813,
            1.2041199826559248,
            1.2041199826559248,
            1.1760912590556813,
            1.2041199826559248,
            1.1760912590556813,
            1.146128035678238,
            1.1760912590556813,
            0.6020599913279624,
            0.9030899869919435,
            0.6020599913279624,
            0.6020599913279624,
            0.6020599913279624,
            0.6020599913279624,
            0.6020599913279624,
            0.6020599913279624,
            0.9030899869919435,
            0.9542425094393249,
            0.6989700043360189,
            0.6989700043360189,
            0.6989700043360189,
            0.9030899869919435,
            0.9030899869919435,
            0.9030899869919435,
            0.9030899869919435,
            0.9030899869919435,
            0.7781512503836436,
            0.9030899869919435,
            0.7781512503836436,
            0.9030899869919435,
            0.9030899869919435,
            0.9030899869919435,
            0.9542425094393249,
            0.8450980400142568,
            0.9542425094393249,
            0.9542425094393249,
            0.9542425094393249,
            0.8450980400142568,
            0.8450980400142568,
            0.9542425094393249,
            0.9542425094393249,
            0.9542425094393249,
            1.2787536009528289,
            0.8450980400142568,
            1,
            1.1139433523068367,
            1.1139433523068367,
            1.1139433523068367,
            1.1139433523068367,
            1,
            1,
            1.1139433523068367,
            1.1139433523068367,
            1.0791812460476249,
            1.0791812460476249,
            1.0791812460476249,
            1.255272505103306,
            1.0791812460476249,
            1.0791812460476249,
            1.0791812460476249,
            1.0791812460476249,
            1.0791812460476249,
            1.0791812460476249,
            1.0413926851582251,
            1.0791812460476249,
            1.0791812460476249,
            1.0791812460476249,
            1.0791812460476249
           ]
          },
          {
           "label": "max_features",
           "range": [
            0,
            6
           ],
           "ticktext": [
            "2",
            "None",
            "5",
            "10",
            "log2",
            "sqrt",
            "1"
           ],
           "tickvals": [
            0,
            1,
            2,
            3,
            4,
            5,
            6
           ],
           "values": [
            0,
            0,
            1,
            0,
            2,
            2,
            3,
            2,
            4,
            1,
            4,
            1,
            3,
            1,
            1,
            4,
            5,
            4,
            4,
            5,
            4,
            4,
            4,
            4,
            4,
            6,
            6,
            6,
            6,
            6,
            6,
            1,
            6,
            1,
            4,
            4,
            4,
            4,
            4,
            4,
            0,
            4,
            0,
            0,
            3,
            0,
            0,
            0,
            0,
            2,
            2,
            2,
            2,
            2,
            2,
            2,
            1,
            1,
            2,
            2,
            2,
            2,
            2,
            2,
            2,
            2,
            2,
            2,
            2,
            2,
            2,
            2,
            2,
            2,
            2,
            5,
            2,
            5,
            2,
            5,
            5,
            2,
            3,
            3,
            5,
            3,
            5,
            5,
            5,
            5,
            5,
            5,
            5,
            5,
            5,
            5,
            5,
            5,
            5,
            5
           ]
          },
          {
           "label": "min_samples_leaf",
           "range": [
            1,
            19
           ],
           "values": [
            12,
            1,
            18,
            15,
            16,
            16,
            17,
            4,
            5,
            7,
            2,
            19,
            16,
            2,
            19,
            2,
            9,
            7,
            6,
            6,
            6,
            7,
            6,
            5,
            4,
            5,
            4,
            4,
            4,
            4,
            3,
            4,
            9,
            10,
            10,
            10,
            11,
            12,
            11,
            12,
            1,
            13,
            13,
            1,
            1,
            2,
            1,
            1,
            1,
            2,
            1,
            2,
            8,
            8,
            8,
            8,
            8,
            8,
            8,
            8,
            8,
            8,
            8,
            8,
            8,
            5,
            9,
            5,
            9,
            9,
            9,
            5,
            9,
            7,
            7,
            7,
            7,
            7,
            7,
            7,
            7,
            7,
            6,
            6,
            6,
            6,
            6,
            6,
            6,
            6,
            3,
            3,
            10,
            3,
            3,
            3,
            3,
            3,
            3,
            3
           ]
          },
          {
           "label": "min_samples_split",
           "range": [
            2,
            20
           ],
           "values": [
            20,
            14,
            19,
            9,
            3,
            9,
            15,
            7,
            18,
            12,
            3,
            18,
            19,
            11,
            12,
            5,
            20,
            16,
            7,
            7,
            6,
            6,
            5,
            6,
            6,
            10,
            13,
            10,
            10,
            10,
            10,
            9,
            13,
            13,
            8,
            2,
            2,
            2,
            8,
            2,
            16,
            2,
            16,
            16,
            17,
            16,
            16,
            16,
            4,
            4,
            4,
            4,
            5,
            5,
            5,
            5,
            7,
            4,
            4,
            4,
            5,
            5,
            7,
            3,
            3,
            3,
            3,
            3,
            3,
            3,
            3,
            6,
            6,
            6,
            6,
            6,
            6,
            5,
            6,
            5,
            7,
            5,
            5,
            8,
            5,
            8,
            8,
            8,
            8,
            8,
            7,
            8,
            7,
            7,
            7,
            7,
            9,
            9,
            9,
            9
           ]
          },
          {
           "label": "n_estimators",
           "range": [
            15,
            1995
           ],
           "values": [
            399,
            1241,
            830,
            626,
            1190,
            843,
            271,
            942,
            741,
            887,
            646,
            655,
            342,
            1460,
            396,
            694,
            295,
            1834,
            1883,
            1780,
            1686,
            1851,
            1549,
            1689,
            50,
            1514,
            1559,
            15,
            1484,
            1444,
            1995,
            1453,
            1978,
            1230,
            1135,
            1932,
            1975,
            1976,
            1233,
            1258,
            1325,
            1369,
            1397,
            1345,
            1651,
            1699,
            1675,
            1661,
            1637,
            1671,
            119,
            1040,
            147,
            498,
            1088,
            1001,
            522,
            1010,
            531,
            509,
            489,
            529,
            549,
            535,
            821,
            779,
            738,
            793,
            784,
            876,
            806,
            783,
            435,
            916,
            927,
            407,
            901,
            912,
            612,
            584,
            627,
            598,
            597,
            584,
            575,
            608,
            588,
            311,
            587,
            679,
            325,
            677,
            672,
            200,
            282,
            295,
            313,
            266,
            300,
            254
           ]
          }
         ],
         "labelangle": 30,
         "labelside": "bottom",
         "line": {
          "color": [
           0.25918780546737386,
           0.24136511712817424,
           0.2465615239280084,
           0.25115822313954944,
           0.2568988127703969,
           0.2578305927771244,
           0.2542366736484965,
           0.26284756632892037,
           0.26846132521493715,
           0.2618165851929443,
           0.24488446565493402,
           0.25522232587497057,
           0.24864027512903758,
           0.26494630014042164,
           0.24415809067025915,
           0.26379970149952076,
           0.2631089488157116,
           0.23623390966779212,
           0.2675447110195712,
           0.24056810683350308,
           0.24056810683350308,
           0.24056810683350308,
           0.24056810683350308,
           0.2727816710059261,
           0.26399317546325696,
           0.25198546240336755,
           0.25096222705811566,
           0.2420279204681923,
           0.251001822974958,
           0.24871580166628068,
           0.2553391891889701,
           0.24647377454699915,
           0.24296787361361616,
           0.24339589507584405,
           0.2608341023811974,
           0.2636581883297199,
           0.2637247386277226,
           0.26008262465703247,
           0.2593845315359622,
           0.26058082587260323,
           0.2395015712571778,
           0.2631179297909011,
           0.23481361907747558,
           0.23795022290936002,
           0.26341465023185845,
           0.2369395751197268,
           0.23639442197215443,
           0.23849457274407687,
           0.26474974377920196,
           0.2735201641251228,
           0.2616838515679711,
           0.2645961928239688,
           0.2673695931334317,
           0.2713211391396711,
           0.27184380995128027,
           0.2723666002189026,
           0.2632202544881209,
           0.2623380700534826,
           0.26364208141596596,
           0.2705759187943713,
           0.2625160978200192,
           0.27173390258527835,
           0.27184380995128027,
           0.27099230100222443,
           0.2654815999501785,
           0.26463593419418235,
           0.2635023549967177,
           0.2681747257267163,
           0.2629507936371719,
           0.2644140658101804,
           0.2645243071001747,
           0.26826244034378605,
           0.26430092715453113,
           0.2654815999501785,
           0.26304655883750316,
           0.26195615102092923,
           0.2683001439368017,
           0.2683874474337343,
           0.2628824617555269,
           0.273056200004886,
           0.271109809286613,
           0.26798646873518656,
           0.25866621422365577,
           0.26510499757219164,
           0.26713708317909923,
           0.2612873973418125,
           0.27310461961672217,
           0.27221441439152294,
           0.2651079972863831,
           0.2740001945736541,
           0.2757802177269359,
           0.2719717250179004,
           0.26674338292466815,
           0.2755100351853257,
           0.272136516536219,
           0.27014981946751665,
           0.2784558158371496,
           0.2742645811414543,
           0.273468315495806,
           0.27533565814693306
          ],
          "colorbar": {
           "title": {
            "text": "Objective Value"
           }
          },
          "colorscale": [
           [
            0,
            "rgb(247,251,255)"
           ],
           [
            0.125,
            "rgb(222,235,247)"
           ],
           [
            0.25,
            "rgb(198,219,239)"
           ],
           [
            0.375,
            "rgb(158,202,225)"
           ],
           [
            0.5,
            "rgb(107,174,214)"
           ],
           [
            0.625,
            "rgb(66,146,198)"
           ],
           [
            0.75,
            "rgb(33,113,181)"
           ],
           [
            0.875,
            "rgb(8,81,156)"
           ],
           [
            1,
            "rgb(8,48,107)"
           ]
          ],
          "reversescale": false,
          "showscale": true
         },
         "type": "parcoords"
        }
       ],
       "layout": {
        "template": {
         "data": {
          "bar": [
           {
            "error_x": {
             "color": "#2a3f5f"
            },
            "error_y": {
             "color": "#2a3f5f"
            },
            "marker": {
             "line": {
              "color": "#E5ECF6",
              "width": 0.5
             },
             "pattern": {
              "fillmode": "overlay",
              "size": 10,
              "solidity": 0.2
             }
            },
            "type": "bar"
           }
          ],
          "barpolar": [
           {
            "marker": {
             "line": {
              "color": "#E5ECF6",
              "width": 0.5
             },
             "pattern": {
              "fillmode": "overlay",
              "size": 10,
              "solidity": 0.2
             }
            },
            "type": "barpolar"
           }
          ],
          "carpet": [
           {
            "aaxis": {
             "endlinecolor": "#2a3f5f",
             "gridcolor": "white",
             "linecolor": "white",
             "minorgridcolor": "white",
             "startlinecolor": "#2a3f5f"
            },
            "baxis": {
             "endlinecolor": "#2a3f5f",
             "gridcolor": "white",
             "linecolor": "white",
             "minorgridcolor": "white",
             "startlinecolor": "#2a3f5f"
            },
            "type": "carpet"
           }
          ],
          "choropleth": [
           {
            "colorbar": {
             "outlinewidth": 0,
             "ticks": ""
            },
            "type": "choropleth"
           }
          ],
          "contour": [
           {
            "colorbar": {
             "outlinewidth": 0,
             "ticks": ""
            },
            "colorscale": [
             [
              0,
              "#0d0887"
             ],
             [
              0.1111111111111111,
              "#46039f"
             ],
             [
              0.2222222222222222,
              "#7201a8"
             ],
             [
              0.3333333333333333,
              "#9c179e"
             ],
             [
              0.4444444444444444,
              "#bd3786"
             ],
             [
              0.5555555555555556,
              "#d8576b"
             ],
             [
              0.6666666666666666,
              "#ed7953"
             ],
             [
              0.7777777777777778,
              "#fb9f3a"
             ],
             [
              0.8888888888888888,
              "#fdca26"
             ],
             [
              1,
              "#f0f921"
             ]
            ],
            "type": "contour"
           }
          ],
          "contourcarpet": [
           {
            "colorbar": {
             "outlinewidth": 0,
             "ticks": ""
            },
            "type": "contourcarpet"
           }
          ],
          "heatmap": [
           {
            "colorbar": {
             "outlinewidth": 0,
             "ticks": ""
            },
            "colorscale": [
             [
              0,
              "#0d0887"
             ],
             [
              0.1111111111111111,
              "#46039f"
             ],
             [
              0.2222222222222222,
              "#7201a8"
             ],
             [
              0.3333333333333333,
              "#9c179e"
             ],
             [
              0.4444444444444444,
              "#bd3786"
             ],
             [
              0.5555555555555556,
              "#d8576b"
             ],
             [
              0.6666666666666666,
              "#ed7953"
             ],
             [
              0.7777777777777778,
              "#fb9f3a"
             ],
             [
              0.8888888888888888,
              "#fdca26"
             ],
             [
              1,
              "#f0f921"
             ]
            ],
            "type": "heatmap"
           }
          ],
          "heatmapgl": [
           {
            "colorbar": {
             "outlinewidth": 0,
             "ticks": ""
            },
            "colorscale": [
             [
              0,
              "#0d0887"
             ],
             [
              0.1111111111111111,
              "#46039f"
             ],
             [
              0.2222222222222222,
              "#7201a8"
             ],
             [
              0.3333333333333333,
              "#9c179e"
             ],
             [
              0.4444444444444444,
              "#bd3786"
             ],
             [
              0.5555555555555556,
              "#d8576b"
             ],
             [
              0.6666666666666666,
              "#ed7953"
             ],
             [
              0.7777777777777778,
              "#fb9f3a"
             ],
             [
              0.8888888888888888,
              "#fdca26"
             ],
             [
              1,
              "#f0f921"
             ]
            ],
            "type": "heatmapgl"
           }
          ],
          "histogram": [
           {
            "marker": {
             "pattern": {
              "fillmode": "overlay",
              "size": 10,
              "solidity": 0.2
             }
            },
            "type": "histogram"
           }
          ],
          "histogram2d": [
           {
            "colorbar": {
             "outlinewidth": 0,
             "ticks": ""
            },
            "colorscale": [
             [
              0,
              "#0d0887"
             ],
             [
              0.1111111111111111,
              "#46039f"
             ],
             [
              0.2222222222222222,
              "#7201a8"
             ],
             [
              0.3333333333333333,
              "#9c179e"
             ],
             [
              0.4444444444444444,
              "#bd3786"
             ],
             [
              0.5555555555555556,
              "#d8576b"
             ],
             [
              0.6666666666666666,
              "#ed7953"
             ],
             [
              0.7777777777777778,
              "#fb9f3a"
             ],
             [
              0.8888888888888888,
              "#fdca26"
             ],
             [
              1,
              "#f0f921"
             ]
            ],
            "type": "histogram2d"
           }
          ],
          "histogram2dcontour": [
           {
            "colorbar": {
             "outlinewidth": 0,
             "ticks": ""
            },
            "colorscale": [
             [
              0,
              "#0d0887"
             ],
             [
              0.1111111111111111,
              "#46039f"
             ],
             [
              0.2222222222222222,
              "#7201a8"
             ],
             [
              0.3333333333333333,
              "#9c179e"
             ],
             [
              0.4444444444444444,
              "#bd3786"
             ],
             [
              0.5555555555555556,
              "#d8576b"
             ],
             [
              0.6666666666666666,
              "#ed7953"
             ],
             [
              0.7777777777777778,
              "#fb9f3a"
             ],
             [
              0.8888888888888888,
              "#fdca26"
             ],
             [
              1,
              "#f0f921"
             ]
            ],
            "type": "histogram2dcontour"
           }
          ],
          "mesh3d": [
           {
            "colorbar": {
             "outlinewidth": 0,
             "ticks": ""
            },
            "type": "mesh3d"
           }
          ],
          "parcoords": [
           {
            "line": {
             "colorbar": {
              "outlinewidth": 0,
              "ticks": ""
             }
            },
            "type": "parcoords"
           }
          ],
          "pie": [
           {
            "automargin": true,
            "type": "pie"
           }
          ],
          "scatter": [
           {
            "fillpattern": {
             "fillmode": "overlay",
             "size": 10,
             "solidity": 0.2
            },
            "type": "scatter"
           }
          ],
          "scatter3d": [
           {
            "line": {
             "colorbar": {
              "outlinewidth": 0,
              "ticks": ""
             }
            },
            "marker": {
             "colorbar": {
              "outlinewidth": 0,
              "ticks": ""
             }
            },
            "type": "scatter3d"
           }
          ],
          "scattercarpet": [
           {
            "marker": {
             "colorbar": {
              "outlinewidth": 0,
              "ticks": ""
             }
            },
            "type": "scattercarpet"
           }
          ],
          "scattergeo": [
           {
            "marker": {
             "colorbar": {
              "outlinewidth": 0,
              "ticks": ""
             }
            },
            "type": "scattergeo"
           }
          ],
          "scattergl": [
           {
            "marker": {
             "colorbar": {
              "outlinewidth": 0,
              "ticks": ""
             }
            },
            "type": "scattergl"
           }
          ],
          "scattermapbox": [
           {
            "marker": {
             "colorbar": {
              "outlinewidth": 0,
              "ticks": ""
             }
            },
            "type": "scattermapbox"
           }
          ],
          "scatterpolar": [
           {
            "marker": {
             "colorbar": {
              "outlinewidth": 0,
              "ticks": ""
             }
            },
            "type": "scatterpolar"
           }
          ],
          "scatterpolargl": [
           {
            "marker": {
             "colorbar": {
              "outlinewidth": 0,
              "ticks": ""
             }
            },
            "type": "scatterpolargl"
           }
          ],
          "scatterternary": [
           {
            "marker": {
             "colorbar": {
              "outlinewidth": 0,
              "ticks": ""
             }
            },
            "type": "scatterternary"
           }
          ],
          "surface": [
           {
            "colorbar": {
             "outlinewidth": 0,
             "ticks": ""
            },
            "colorscale": [
             [
              0,
              "#0d0887"
             ],
             [
              0.1111111111111111,
              "#46039f"
             ],
             [
              0.2222222222222222,
              "#7201a8"
             ],
             [
              0.3333333333333333,
              "#9c179e"
             ],
             [
              0.4444444444444444,
              "#bd3786"
             ],
             [
              0.5555555555555556,
              "#d8576b"
             ],
             [
              0.6666666666666666,
              "#ed7953"
             ],
             [
              0.7777777777777778,
              "#fb9f3a"
             ],
             [
              0.8888888888888888,
              "#fdca26"
             ],
             [
              1,
              "#f0f921"
             ]
            ],
            "type": "surface"
           }
          ],
          "table": [
           {
            "cells": {
             "fill": {
              "color": "#EBF0F8"
             },
             "line": {
              "color": "white"
             }
            },
            "header": {
             "fill": {
              "color": "#C8D4E3"
             },
             "line": {
              "color": "white"
             }
            },
            "type": "table"
           }
          ]
         },
         "layout": {
          "annotationdefaults": {
           "arrowcolor": "#2a3f5f",
           "arrowhead": 0,
           "arrowwidth": 1
          },
          "autotypenumbers": "strict",
          "coloraxis": {
           "colorbar": {
            "outlinewidth": 0,
            "ticks": ""
           }
          },
          "colorscale": {
           "diverging": [
            [
             0,
             "#8e0152"
            ],
            [
             0.1,
             "#c51b7d"
            ],
            [
             0.2,
             "#de77ae"
            ],
            [
             0.3,
             "#f1b6da"
            ],
            [
             0.4,
             "#fde0ef"
            ],
            [
             0.5,
             "#f7f7f7"
            ],
            [
             0.6,
             "#e6f5d0"
            ],
            [
             0.7,
             "#b8e186"
            ],
            [
             0.8,
             "#7fbc41"
            ],
            [
             0.9,
             "#4d9221"
            ],
            [
             1,
             "#276419"
            ]
           ],
           "sequential": [
            [
             0,
             "#0d0887"
            ],
            [
             0.1111111111111111,
             "#46039f"
            ],
            [
             0.2222222222222222,
             "#7201a8"
            ],
            [
             0.3333333333333333,
             "#9c179e"
            ],
            [
             0.4444444444444444,
             "#bd3786"
            ],
            [
             0.5555555555555556,
             "#d8576b"
            ],
            [
             0.6666666666666666,
             "#ed7953"
            ],
            [
             0.7777777777777778,
             "#fb9f3a"
            ],
            [
             0.8888888888888888,
             "#fdca26"
            ],
            [
             1,
             "#f0f921"
            ]
           ],
           "sequentialminus": [
            [
             0,
             "#0d0887"
            ],
            [
             0.1111111111111111,
             "#46039f"
            ],
            [
             0.2222222222222222,
             "#7201a8"
            ],
            [
             0.3333333333333333,
             "#9c179e"
            ],
            [
             0.4444444444444444,
             "#bd3786"
            ],
            [
             0.5555555555555556,
             "#d8576b"
            ],
            [
             0.6666666666666666,
             "#ed7953"
            ],
            [
             0.7777777777777778,
             "#fb9f3a"
            ],
            [
             0.8888888888888888,
             "#fdca26"
            ],
            [
             1,
             "#f0f921"
            ]
           ]
          },
          "colorway": [
           "#636efa",
           "#EF553B",
           "#00cc96",
           "#ab63fa",
           "#FFA15A",
           "#19d3f3",
           "#FF6692",
           "#B6E880",
           "#FF97FF",
           "#FECB52"
          ],
          "font": {
           "color": "#2a3f5f"
          },
          "geo": {
           "bgcolor": "white",
           "lakecolor": "white",
           "landcolor": "#E5ECF6",
           "showlakes": true,
           "showland": true,
           "subunitcolor": "white"
          },
          "hoverlabel": {
           "align": "left"
          },
          "hovermode": "closest",
          "mapbox": {
           "style": "light"
          },
          "paper_bgcolor": "white",
          "plot_bgcolor": "#E5ECF6",
          "polar": {
           "angularaxis": {
            "gridcolor": "white",
            "linecolor": "white",
            "ticks": ""
           },
           "bgcolor": "#E5ECF6",
           "radialaxis": {
            "gridcolor": "white",
            "linecolor": "white",
            "ticks": ""
           }
          },
          "scene": {
           "xaxis": {
            "backgroundcolor": "#E5ECF6",
            "gridcolor": "white",
            "gridwidth": 2,
            "linecolor": "white",
            "showbackground": true,
            "ticks": "",
            "zerolinecolor": "white"
           },
           "yaxis": {
            "backgroundcolor": "#E5ECF6",
            "gridcolor": "white",
            "gridwidth": 2,
            "linecolor": "white",
            "showbackground": true,
            "ticks": "",
            "zerolinecolor": "white"
           },
           "zaxis": {
            "backgroundcolor": "#E5ECF6",
            "gridcolor": "white",
            "gridwidth": 2,
            "linecolor": "white",
            "showbackground": true,
            "ticks": "",
            "zerolinecolor": "white"
           }
          },
          "shapedefaults": {
           "line": {
            "color": "#2a3f5f"
           }
          },
          "ternary": {
           "aaxis": {
            "gridcolor": "white",
            "linecolor": "white",
            "ticks": ""
           },
           "baxis": {
            "gridcolor": "white",
            "linecolor": "white",
            "ticks": ""
           },
           "bgcolor": "#E5ECF6",
           "caxis": {
            "gridcolor": "white",
            "linecolor": "white",
            "ticks": ""
           }
          },
          "title": {
           "x": 0.05
          },
          "xaxis": {
           "automargin": true,
           "gridcolor": "white",
           "linecolor": "white",
           "ticks": "",
           "title": {
            "standoff": 15
           },
           "zerolinecolor": "white",
           "zerolinewidth": 2
          },
          "yaxis": {
           "automargin": true,
           "gridcolor": "white",
           "linecolor": "white",
           "ticks": "",
           "title": {
            "standoff": 15
           },
           "zerolinecolor": "white",
           "zerolinewidth": 2
          }
         }
        },
        "title": {
         "text": "Parallel Coordinate Plot"
        }
       }
      }
     },
     "metadata": {},
     "output_type": "display_data"
    }
   ],
   "source": [
    "optuna.visualization.plot_parallel_coordinate(study)"
   ]
  },
  {
   "cell_type": "code",
   "execution_count": 34,
   "metadata": {},
   "outputs": [
    {
     "data": {
      "application/vnd.plotly.v1+json": {
       "config": {
        "plotlyServerURL": "https://plot.ly"
       },
       "data": [
        {
         "marker": {
          "color": [
           0,
           1,
           2,
           3,
           4,
           5,
           6,
           7,
           8,
           9,
           10,
           11,
           12,
           13,
           14,
           15,
           16,
           17,
           18,
           19,
           20,
           21,
           22,
           23,
           24,
           25,
           26,
           27,
           28,
           29,
           30,
           31,
           32,
           33,
           34,
           35,
           36,
           37,
           38,
           39,
           40,
           41,
           42,
           43,
           44,
           45,
           46,
           47,
           48,
           49,
           50,
           51,
           52,
           53,
           54,
           55,
           56,
           57,
           58,
           59,
           60,
           61,
           62,
           63,
           64,
           65,
           66,
           67,
           68,
           69,
           70,
           71,
           72,
           73,
           74,
           75,
           76,
           77,
           78,
           79,
           80,
           81,
           82,
           83,
           84,
           85,
           86,
           87,
           88,
           89,
           90,
           91,
           92,
           93,
           94,
           95,
           96,
           97,
           98,
           99
          ],
          "colorbar": {
           "title": {
            "text": "Trial"
           },
           "x": 1,
           "xpad": 40
          },
          "colorscale": [
           [
            0,
            "rgb(247,251,255)"
           ],
           [
            0.125,
            "rgb(222,235,247)"
           ],
           [
            0.25,
            "rgb(198,219,239)"
           ],
           [
            0.375,
            "rgb(158,202,225)"
           ],
           [
            0.5,
            "rgb(107,174,214)"
           ],
           [
            0.625,
            "rgb(66,146,198)"
           ],
           [
            0.75,
            "rgb(33,113,181)"
           ],
           [
            0.875,
            "rgb(8,81,156)"
           ],
           [
            1,
            "rgb(8,48,107)"
           ]
          ],
          "line": {
           "color": "Grey",
           "width": 0.5
          },
          "showscale": true
         },
         "mode": "markers",
         "name": "Feasible Trial",
         "showlegend": false,
         "type": "scatter",
         "x": [
          "gini",
          "entropy",
          "gini",
          "log_loss",
          "entropy",
          "log_loss",
          "gini",
          "log_loss",
          "gini",
          "gini",
          "entropy",
          "gini",
          "log_loss",
          "log_loss",
          "log_loss",
          "log_loss",
          "gini",
          "gini",
          "log_loss",
          "log_loss",
          "log_loss",
          "log_loss",
          "log_loss",
          "log_loss",
          "log_loss",
          "log_loss",
          "entropy",
          "entropy",
          "log_loss",
          "log_loss",
          "entropy",
          "entropy",
          "entropy",
          "gini",
          "gini",
          "gini",
          "gini",
          "gini",
          "gini",
          "gini",
          "gini",
          "log_loss",
          "log_loss",
          "log_loss",
          "log_loss",
          "log_loss",
          "log_loss",
          "log_loss",
          "log_loss",
          "log_loss",
          "log_loss",
          "log_loss",
          "log_loss",
          "log_loss",
          "log_loss",
          "log_loss",
          "log_loss",
          "log_loss",
          "log_loss",
          "log_loss",
          "log_loss",
          "log_loss",
          "log_loss",
          "log_loss",
          "log_loss",
          "log_loss",
          "log_loss",
          "log_loss",
          "log_loss",
          "log_loss",
          "log_loss",
          "log_loss",
          "log_loss",
          "log_loss",
          "log_loss",
          "log_loss",
          "log_loss",
          "log_loss",
          "log_loss",
          "log_loss",
          "log_loss",
          "log_loss",
          "entropy",
          "entropy",
          "entropy",
          "entropy",
          "entropy",
          "entropy",
          "entropy",
          "log_loss",
          "log_loss",
          "log_loss",
          "log_loss",
          "entropy",
          "entropy",
          "entropy",
          "entropy",
          "entropy",
          "entropy",
          "entropy"
         ],
         "xaxis": "x",
         "y": [
          0.25918780546737386,
          0.24136511712817424,
          0.2465615239280084,
          0.25115822313954944,
          0.2568988127703969,
          0.2578305927771244,
          0.2542366736484965,
          0.26284756632892037,
          0.26846132521493715,
          0.2618165851929443,
          0.24488446565493402,
          0.25522232587497057,
          0.24864027512903758,
          0.26494630014042164,
          0.24415809067025915,
          0.26379970149952076,
          0.2631089488157116,
          0.23623390966779212,
          0.2675447110195712,
          0.24056810683350308,
          0.24056810683350308,
          0.24056810683350308,
          0.24056810683350308,
          0.2727816710059261,
          0.26399317546325696,
          0.25198546240336755,
          0.25096222705811566,
          0.2420279204681923,
          0.251001822974958,
          0.24871580166628068,
          0.2553391891889701,
          0.24647377454699915,
          0.24296787361361616,
          0.24339589507584405,
          0.2608341023811974,
          0.2636581883297199,
          0.2637247386277226,
          0.26008262465703247,
          0.2593845315359622,
          0.26058082587260323,
          0.2395015712571778,
          0.2631179297909011,
          0.23481361907747558,
          0.23795022290936002,
          0.26341465023185845,
          0.2369395751197268,
          0.23639442197215443,
          0.23849457274407687,
          0.26474974377920196,
          0.2735201641251228,
          0.2616838515679711,
          0.2645961928239688,
          0.2673695931334317,
          0.2713211391396711,
          0.27184380995128027,
          0.2723666002189026,
          0.2632202544881209,
          0.2623380700534826,
          0.26364208141596596,
          0.2705759187943713,
          0.2625160978200192,
          0.27173390258527835,
          0.27184380995128027,
          0.27099230100222443,
          0.2654815999501785,
          0.26463593419418235,
          0.2635023549967177,
          0.2681747257267163,
          0.2629507936371719,
          0.2644140658101804,
          0.2645243071001747,
          0.26826244034378605,
          0.26430092715453113,
          0.2654815999501785,
          0.26304655883750316,
          0.26195615102092923,
          0.2683001439368017,
          0.2683874474337343,
          0.2628824617555269,
          0.273056200004886,
          0.271109809286613,
          0.26798646873518656,
          0.25866621422365577,
          0.26510499757219164,
          0.26713708317909923,
          0.2612873973418125,
          0.27310461961672217,
          0.27221441439152294,
          0.2651079972863831,
          0.2740001945736541,
          0.2757802177269359,
          0.2719717250179004,
          0.26674338292466815,
          0.2755100351853257,
          0.272136516536219,
          0.27014981946751665,
          0.2784558158371496,
          0.2742645811414543,
          0.273468315495806,
          0.27533565814693306
         ],
         "yaxis": "y"
        },
        {
         "marker": {
          "color": [
           0,
           1,
           2,
           3,
           4,
           5,
           6,
           7,
           8,
           9,
           10,
           11,
           12,
           13,
           14,
           15,
           16,
           17,
           18,
           19,
           20,
           21,
           22,
           23,
           24,
           25,
           26,
           27,
           28,
           29,
           30,
           31,
           32,
           33,
           34,
           35,
           36,
           37,
           38,
           39,
           40,
           41,
           42,
           43,
           44,
           45,
           46,
           47,
           48,
           49,
           50,
           51,
           52,
           53,
           54,
           55,
           56,
           57,
           58,
           59,
           60,
           61,
           62,
           63,
           64,
           65,
           66,
           67,
           68,
           69,
           70,
           71,
           72,
           73,
           74,
           75,
           76,
           77,
           78,
           79,
           80,
           81,
           82,
           83,
           84,
           85,
           86,
           87,
           88,
           89,
           90,
           91,
           92,
           93,
           94,
           95,
           96,
           97,
           98,
           99
          ],
          "colorbar": {
           "title": {
            "text": "Trial"
           },
           "x": 1,
           "xpad": 40
          },
          "colorscale": [
           [
            0,
            "rgb(247,251,255)"
           ],
           [
            0.125,
            "rgb(222,235,247)"
           ],
           [
            0.25,
            "rgb(198,219,239)"
           ],
           [
            0.375,
            "rgb(158,202,225)"
           ],
           [
            0.5,
            "rgb(107,174,214)"
           ],
           [
            0.625,
            "rgb(66,146,198)"
           ],
           [
            0.75,
            "rgb(33,113,181)"
           ],
           [
            0.875,
            "rgb(8,81,156)"
           ],
           [
            1,
            "rgb(8,48,107)"
           ]
          ],
          "line": {
           "color": "Grey",
           "width": 0.5
          },
          "showscale": false
         },
         "mode": "markers",
         "name": "Feasible Trial",
         "showlegend": false,
         "type": "scatter",
         "x": [
          21,
          4,
          21,
          6,
          6,
          27,
          16,
          6,
          11,
          11,
          3,
          7,
          22,
          6,
          24,
          7,
          11,
          2,
          12,
          2,
          2,
          2,
          2,
          10,
          9,
          11,
          12,
          10,
          11,
          10,
          11,
          15,
          15,
          16,
          16,
          15,
          16,
          15,
          14,
          15,
          4,
          8,
          4,
          4,
          4,
          4,
          4,
          4,
          8,
          9,
          5,
          5,
          5,
          8,
          8,
          8,
          8,
          8,
          6,
          8,
          6,
          8,
          8,
          8,
          9,
          7,
          9,
          9,
          9,
          7,
          7,
          9,
          9,
          9,
          19,
          7,
          10,
          13,
          13,
          13,
          13,
          10,
          10,
          13,
          13,
          12,
          12,
          12,
          18,
          12,
          12,
          12,
          12,
          12,
          12,
          11,
          12,
          12,
          12,
          12
         ],
         "xaxis": "x2",
         "y": [
          0.25918780546737386,
          0.24136511712817424,
          0.2465615239280084,
          0.25115822313954944,
          0.2568988127703969,
          0.2578305927771244,
          0.2542366736484965,
          0.26284756632892037,
          0.26846132521493715,
          0.2618165851929443,
          0.24488446565493402,
          0.25522232587497057,
          0.24864027512903758,
          0.26494630014042164,
          0.24415809067025915,
          0.26379970149952076,
          0.2631089488157116,
          0.23623390966779212,
          0.2675447110195712,
          0.24056810683350308,
          0.24056810683350308,
          0.24056810683350308,
          0.24056810683350308,
          0.2727816710059261,
          0.26399317546325696,
          0.25198546240336755,
          0.25096222705811566,
          0.2420279204681923,
          0.251001822974958,
          0.24871580166628068,
          0.2553391891889701,
          0.24647377454699915,
          0.24296787361361616,
          0.24339589507584405,
          0.2608341023811974,
          0.2636581883297199,
          0.2637247386277226,
          0.26008262465703247,
          0.2593845315359622,
          0.26058082587260323,
          0.2395015712571778,
          0.2631179297909011,
          0.23481361907747558,
          0.23795022290936002,
          0.26341465023185845,
          0.2369395751197268,
          0.23639442197215443,
          0.23849457274407687,
          0.26474974377920196,
          0.2735201641251228,
          0.2616838515679711,
          0.2645961928239688,
          0.2673695931334317,
          0.2713211391396711,
          0.27184380995128027,
          0.2723666002189026,
          0.2632202544881209,
          0.2623380700534826,
          0.26364208141596596,
          0.2705759187943713,
          0.2625160978200192,
          0.27173390258527835,
          0.27184380995128027,
          0.27099230100222443,
          0.2654815999501785,
          0.26463593419418235,
          0.2635023549967177,
          0.2681747257267163,
          0.2629507936371719,
          0.2644140658101804,
          0.2645243071001747,
          0.26826244034378605,
          0.26430092715453113,
          0.2654815999501785,
          0.26304655883750316,
          0.26195615102092923,
          0.2683001439368017,
          0.2683874474337343,
          0.2628824617555269,
          0.273056200004886,
          0.271109809286613,
          0.26798646873518656,
          0.25866621422365577,
          0.26510499757219164,
          0.26713708317909923,
          0.2612873973418125,
          0.27310461961672217,
          0.27221441439152294,
          0.2651079972863831,
          0.2740001945736541,
          0.2757802177269359,
          0.2719717250179004,
          0.26674338292466815,
          0.2755100351853257,
          0.272136516536219,
          0.27014981946751665,
          0.2784558158371496,
          0.2742645811414543,
          0.273468315495806,
          0.27533565814693306
         ],
         "yaxis": "y2"
        },
        {
         "marker": {
          "color": [
           0,
           1,
           2,
           3,
           4,
           5,
           6,
           7,
           8,
           9,
           10,
           11,
           12,
           13,
           14,
           15,
           16,
           17,
           18,
           19,
           20,
           21,
           22,
           23,
           24,
           25,
           26,
           27,
           28,
           29,
           30,
           31,
           32,
           33,
           34,
           35,
           36,
           37,
           38,
           39,
           40,
           41,
           42,
           43,
           44,
           45,
           46,
           47,
           48,
           49,
           50,
           51,
           52,
           53,
           54,
           55,
           56,
           57,
           58,
           59,
           60,
           61,
           62,
           63,
           64,
           65,
           66,
           67,
           68,
           69,
           70,
           71,
           72,
           73,
           74,
           75,
           76,
           77,
           78,
           79,
           80,
           81,
           82,
           83,
           84,
           85,
           86,
           87,
           88,
           89,
           90,
           91,
           92,
           93,
           94,
           95,
           96,
           97,
           98,
           99
          ],
          "colorbar": {
           "title": {
            "text": "Trial"
           },
           "x": 1,
           "xpad": 40
          },
          "colorscale": [
           [
            0,
            "rgb(247,251,255)"
           ],
           [
            0.125,
            "rgb(222,235,247)"
           ],
           [
            0.25,
            "rgb(198,219,239)"
           ],
           [
            0.375,
            "rgb(158,202,225)"
           ],
           [
            0.5,
            "rgb(107,174,214)"
           ],
           [
            0.625,
            "rgb(66,146,198)"
           ],
           [
            0.75,
            "rgb(33,113,181)"
           ],
           [
            0.875,
            "rgb(8,81,156)"
           ],
           [
            1,
            "rgb(8,48,107)"
           ]
          ],
          "line": {
           "color": "Grey",
           "width": 0.5
          },
          "showscale": false
         },
         "mode": "markers",
         "name": "Feasible Trial",
         "showlegend": false,
         "type": "scatter",
         "x": [
          2,
          2,
          null,
          2,
          5,
          5,
          10,
          5,
          "log2",
          null,
          "log2",
          null,
          10,
          null,
          null,
          "log2",
          "sqrt",
          "log2",
          "log2",
          "sqrt",
          "log2",
          "log2",
          "log2",
          "log2",
          "log2",
          1,
          1,
          1,
          1,
          1,
          1,
          null,
          1,
          null,
          "log2",
          "log2",
          "log2",
          "log2",
          "log2",
          "log2",
          2,
          "log2",
          2,
          2,
          10,
          2,
          2,
          2,
          2,
          5,
          5,
          5,
          5,
          5,
          5,
          5,
          null,
          null,
          5,
          5,
          5,
          5,
          5,
          5,
          5,
          5,
          5,
          5,
          5,
          5,
          5,
          5,
          5,
          5,
          5,
          "sqrt",
          5,
          "sqrt",
          5,
          "sqrt",
          "sqrt",
          5,
          10,
          10,
          "sqrt",
          10,
          "sqrt",
          "sqrt",
          "sqrt",
          "sqrt",
          "sqrt",
          "sqrt",
          "sqrt",
          "sqrt",
          "sqrt",
          "sqrt",
          "sqrt",
          "sqrt",
          "sqrt",
          "sqrt"
         ],
         "xaxis": "x3",
         "y": [
          0.25918780546737386,
          0.24136511712817424,
          0.2465615239280084,
          0.25115822313954944,
          0.2568988127703969,
          0.2578305927771244,
          0.2542366736484965,
          0.26284756632892037,
          0.26846132521493715,
          0.2618165851929443,
          0.24488446565493402,
          0.25522232587497057,
          0.24864027512903758,
          0.26494630014042164,
          0.24415809067025915,
          0.26379970149952076,
          0.2631089488157116,
          0.23623390966779212,
          0.2675447110195712,
          0.24056810683350308,
          0.24056810683350308,
          0.24056810683350308,
          0.24056810683350308,
          0.2727816710059261,
          0.26399317546325696,
          0.25198546240336755,
          0.25096222705811566,
          0.2420279204681923,
          0.251001822974958,
          0.24871580166628068,
          0.2553391891889701,
          0.24647377454699915,
          0.24296787361361616,
          0.24339589507584405,
          0.2608341023811974,
          0.2636581883297199,
          0.2637247386277226,
          0.26008262465703247,
          0.2593845315359622,
          0.26058082587260323,
          0.2395015712571778,
          0.2631179297909011,
          0.23481361907747558,
          0.23795022290936002,
          0.26341465023185845,
          0.2369395751197268,
          0.23639442197215443,
          0.23849457274407687,
          0.26474974377920196,
          0.2735201641251228,
          0.2616838515679711,
          0.2645961928239688,
          0.2673695931334317,
          0.2713211391396711,
          0.27184380995128027,
          0.2723666002189026,
          0.2632202544881209,
          0.2623380700534826,
          0.26364208141596596,
          0.2705759187943713,
          0.2625160978200192,
          0.27173390258527835,
          0.27184380995128027,
          0.27099230100222443,
          0.2654815999501785,
          0.26463593419418235,
          0.2635023549967177,
          0.2681747257267163,
          0.2629507936371719,
          0.2644140658101804,
          0.2645243071001747,
          0.26826244034378605,
          0.26430092715453113,
          0.2654815999501785,
          0.26304655883750316,
          0.26195615102092923,
          0.2683001439368017,
          0.2683874474337343,
          0.2628824617555269,
          0.273056200004886,
          0.271109809286613,
          0.26798646873518656,
          0.25866621422365577,
          0.26510499757219164,
          0.26713708317909923,
          0.2612873973418125,
          0.27310461961672217,
          0.27221441439152294,
          0.2651079972863831,
          0.2740001945736541,
          0.2757802177269359,
          0.2719717250179004,
          0.26674338292466815,
          0.2755100351853257,
          0.272136516536219,
          0.27014981946751665,
          0.2784558158371496,
          0.2742645811414543,
          0.273468315495806,
          0.27533565814693306
         ],
         "yaxis": "y3"
        },
        {
         "marker": {
          "color": [
           0,
           1,
           2,
           3,
           4,
           5,
           6,
           7,
           8,
           9,
           10,
           11,
           12,
           13,
           14,
           15,
           16,
           17,
           18,
           19,
           20,
           21,
           22,
           23,
           24,
           25,
           26,
           27,
           28,
           29,
           30,
           31,
           32,
           33,
           34,
           35,
           36,
           37,
           38,
           39,
           40,
           41,
           42,
           43,
           44,
           45,
           46,
           47,
           48,
           49,
           50,
           51,
           52,
           53,
           54,
           55,
           56,
           57,
           58,
           59,
           60,
           61,
           62,
           63,
           64,
           65,
           66,
           67,
           68,
           69,
           70,
           71,
           72,
           73,
           74,
           75,
           76,
           77,
           78,
           79,
           80,
           81,
           82,
           83,
           84,
           85,
           86,
           87,
           88,
           89,
           90,
           91,
           92,
           93,
           94,
           95,
           96,
           97,
           98,
           99
          ],
          "colorbar": {
           "title": {
            "text": "Trial"
           },
           "x": 1,
           "xpad": 40
          },
          "colorscale": [
           [
            0,
            "rgb(247,251,255)"
           ],
           [
            0.125,
            "rgb(222,235,247)"
           ],
           [
            0.25,
            "rgb(198,219,239)"
           ],
           [
            0.375,
            "rgb(158,202,225)"
           ],
           [
            0.5,
            "rgb(107,174,214)"
           ],
           [
            0.625,
            "rgb(66,146,198)"
           ],
           [
            0.75,
            "rgb(33,113,181)"
           ],
           [
            0.875,
            "rgb(8,81,156)"
           ],
           [
            1,
            "rgb(8,48,107)"
           ]
          ],
          "line": {
           "color": "Grey",
           "width": 0.5
          },
          "showscale": false
         },
         "mode": "markers",
         "name": "Feasible Trial",
         "showlegend": false,
         "type": "scatter",
         "x": [
          12,
          1,
          18,
          15,
          16,
          16,
          17,
          4,
          5,
          7,
          2,
          19,
          16,
          2,
          19,
          2,
          9,
          7,
          6,
          6,
          6,
          7,
          6,
          5,
          4,
          5,
          4,
          4,
          4,
          4,
          3,
          4,
          9,
          10,
          10,
          10,
          11,
          12,
          11,
          12,
          1,
          13,
          13,
          1,
          1,
          2,
          1,
          1,
          1,
          2,
          1,
          2,
          8,
          8,
          8,
          8,
          8,
          8,
          8,
          8,
          8,
          8,
          8,
          8,
          8,
          5,
          9,
          5,
          9,
          9,
          9,
          5,
          9,
          7,
          7,
          7,
          7,
          7,
          7,
          7,
          7,
          7,
          6,
          6,
          6,
          6,
          6,
          6,
          6,
          6,
          3,
          3,
          10,
          3,
          3,
          3,
          3,
          3,
          3,
          3
         ],
         "xaxis": "x4",
         "y": [
          0.25918780546737386,
          0.24136511712817424,
          0.2465615239280084,
          0.25115822313954944,
          0.2568988127703969,
          0.2578305927771244,
          0.2542366736484965,
          0.26284756632892037,
          0.26846132521493715,
          0.2618165851929443,
          0.24488446565493402,
          0.25522232587497057,
          0.24864027512903758,
          0.26494630014042164,
          0.24415809067025915,
          0.26379970149952076,
          0.2631089488157116,
          0.23623390966779212,
          0.2675447110195712,
          0.24056810683350308,
          0.24056810683350308,
          0.24056810683350308,
          0.24056810683350308,
          0.2727816710059261,
          0.26399317546325696,
          0.25198546240336755,
          0.25096222705811566,
          0.2420279204681923,
          0.251001822974958,
          0.24871580166628068,
          0.2553391891889701,
          0.24647377454699915,
          0.24296787361361616,
          0.24339589507584405,
          0.2608341023811974,
          0.2636581883297199,
          0.2637247386277226,
          0.26008262465703247,
          0.2593845315359622,
          0.26058082587260323,
          0.2395015712571778,
          0.2631179297909011,
          0.23481361907747558,
          0.23795022290936002,
          0.26341465023185845,
          0.2369395751197268,
          0.23639442197215443,
          0.23849457274407687,
          0.26474974377920196,
          0.2735201641251228,
          0.2616838515679711,
          0.2645961928239688,
          0.2673695931334317,
          0.2713211391396711,
          0.27184380995128027,
          0.2723666002189026,
          0.2632202544881209,
          0.2623380700534826,
          0.26364208141596596,
          0.2705759187943713,
          0.2625160978200192,
          0.27173390258527835,
          0.27184380995128027,
          0.27099230100222443,
          0.2654815999501785,
          0.26463593419418235,
          0.2635023549967177,
          0.2681747257267163,
          0.2629507936371719,
          0.2644140658101804,
          0.2645243071001747,
          0.26826244034378605,
          0.26430092715453113,
          0.2654815999501785,
          0.26304655883750316,
          0.26195615102092923,
          0.2683001439368017,
          0.2683874474337343,
          0.2628824617555269,
          0.273056200004886,
          0.271109809286613,
          0.26798646873518656,
          0.25866621422365577,
          0.26510499757219164,
          0.26713708317909923,
          0.2612873973418125,
          0.27310461961672217,
          0.27221441439152294,
          0.2651079972863831,
          0.2740001945736541,
          0.2757802177269359,
          0.2719717250179004,
          0.26674338292466815,
          0.2755100351853257,
          0.272136516536219,
          0.27014981946751665,
          0.2784558158371496,
          0.2742645811414543,
          0.273468315495806,
          0.27533565814693306
         ],
         "yaxis": "y4"
        },
        {
         "marker": {
          "color": [
           0,
           1,
           2,
           3,
           4,
           5,
           6,
           7,
           8,
           9,
           10,
           11,
           12,
           13,
           14,
           15,
           16,
           17,
           18,
           19,
           20,
           21,
           22,
           23,
           24,
           25,
           26,
           27,
           28,
           29,
           30,
           31,
           32,
           33,
           34,
           35,
           36,
           37,
           38,
           39,
           40,
           41,
           42,
           43,
           44,
           45,
           46,
           47,
           48,
           49,
           50,
           51,
           52,
           53,
           54,
           55,
           56,
           57,
           58,
           59,
           60,
           61,
           62,
           63,
           64,
           65,
           66,
           67,
           68,
           69,
           70,
           71,
           72,
           73,
           74,
           75,
           76,
           77,
           78,
           79,
           80,
           81,
           82,
           83,
           84,
           85,
           86,
           87,
           88,
           89,
           90,
           91,
           92,
           93,
           94,
           95,
           96,
           97,
           98,
           99
          ],
          "colorbar": {
           "title": {
            "text": "Trial"
           },
           "x": 1,
           "xpad": 40
          },
          "colorscale": [
           [
            0,
            "rgb(247,251,255)"
           ],
           [
            0.125,
            "rgb(222,235,247)"
           ],
           [
            0.25,
            "rgb(198,219,239)"
           ],
           [
            0.375,
            "rgb(158,202,225)"
           ],
           [
            0.5,
            "rgb(107,174,214)"
           ],
           [
            0.625,
            "rgb(66,146,198)"
           ],
           [
            0.75,
            "rgb(33,113,181)"
           ],
           [
            0.875,
            "rgb(8,81,156)"
           ],
           [
            1,
            "rgb(8,48,107)"
           ]
          ],
          "line": {
           "color": "Grey",
           "width": 0.5
          },
          "showscale": false
         },
         "mode": "markers",
         "name": "Feasible Trial",
         "showlegend": false,
         "type": "scatter",
         "x": [
          20,
          14,
          19,
          9,
          3,
          9,
          15,
          7,
          18,
          12,
          3,
          18,
          19,
          11,
          12,
          5,
          20,
          16,
          7,
          7,
          6,
          6,
          5,
          6,
          6,
          10,
          13,
          10,
          10,
          10,
          10,
          9,
          13,
          13,
          8,
          2,
          2,
          2,
          8,
          2,
          16,
          2,
          16,
          16,
          17,
          16,
          16,
          16,
          4,
          4,
          4,
          4,
          5,
          5,
          5,
          5,
          7,
          4,
          4,
          4,
          5,
          5,
          7,
          3,
          3,
          3,
          3,
          3,
          3,
          3,
          3,
          6,
          6,
          6,
          6,
          6,
          6,
          5,
          6,
          5,
          7,
          5,
          5,
          8,
          5,
          8,
          8,
          8,
          8,
          8,
          7,
          8,
          7,
          7,
          7,
          7,
          9,
          9,
          9,
          9
         ],
         "xaxis": "x5",
         "y": [
          0.25918780546737386,
          0.24136511712817424,
          0.2465615239280084,
          0.25115822313954944,
          0.2568988127703969,
          0.2578305927771244,
          0.2542366736484965,
          0.26284756632892037,
          0.26846132521493715,
          0.2618165851929443,
          0.24488446565493402,
          0.25522232587497057,
          0.24864027512903758,
          0.26494630014042164,
          0.24415809067025915,
          0.26379970149952076,
          0.2631089488157116,
          0.23623390966779212,
          0.2675447110195712,
          0.24056810683350308,
          0.24056810683350308,
          0.24056810683350308,
          0.24056810683350308,
          0.2727816710059261,
          0.26399317546325696,
          0.25198546240336755,
          0.25096222705811566,
          0.2420279204681923,
          0.251001822974958,
          0.24871580166628068,
          0.2553391891889701,
          0.24647377454699915,
          0.24296787361361616,
          0.24339589507584405,
          0.2608341023811974,
          0.2636581883297199,
          0.2637247386277226,
          0.26008262465703247,
          0.2593845315359622,
          0.26058082587260323,
          0.2395015712571778,
          0.2631179297909011,
          0.23481361907747558,
          0.23795022290936002,
          0.26341465023185845,
          0.2369395751197268,
          0.23639442197215443,
          0.23849457274407687,
          0.26474974377920196,
          0.2735201641251228,
          0.2616838515679711,
          0.2645961928239688,
          0.2673695931334317,
          0.2713211391396711,
          0.27184380995128027,
          0.2723666002189026,
          0.2632202544881209,
          0.2623380700534826,
          0.26364208141596596,
          0.2705759187943713,
          0.2625160978200192,
          0.27173390258527835,
          0.27184380995128027,
          0.27099230100222443,
          0.2654815999501785,
          0.26463593419418235,
          0.2635023549967177,
          0.2681747257267163,
          0.2629507936371719,
          0.2644140658101804,
          0.2645243071001747,
          0.26826244034378605,
          0.26430092715453113,
          0.2654815999501785,
          0.26304655883750316,
          0.26195615102092923,
          0.2683001439368017,
          0.2683874474337343,
          0.2628824617555269,
          0.273056200004886,
          0.271109809286613,
          0.26798646873518656,
          0.25866621422365577,
          0.26510499757219164,
          0.26713708317909923,
          0.2612873973418125,
          0.27310461961672217,
          0.27221441439152294,
          0.2651079972863831,
          0.2740001945736541,
          0.2757802177269359,
          0.2719717250179004,
          0.26674338292466815,
          0.2755100351853257,
          0.272136516536219,
          0.27014981946751665,
          0.2784558158371496,
          0.2742645811414543,
          0.273468315495806,
          0.27533565814693306
         ],
         "yaxis": "y5"
        },
        {
         "marker": {
          "color": [
           0,
           1,
           2,
           3,
           4,
           5,
           6,
           7,
           8,
           9,
           10,
           11,
           12,
           13,
           14,
           15,
           16,
           17,
           18,
           19,
           20,
           21,
           22,
           23,
           24,
           25,
           26,
           27,
           28,
           29,
           30,
           31,
           32,
           33,
           34,
           35,
           36,
           37,
           38,
           39,
           40,
           41,
           42,
           43,
           44,
           45,
           46,
           47,
           48,
           49,
           50,
           51,
           52,
           53,
           54,
           55,
           56,
           57,
           58,
           59,
           60,
           61,
           62,
           63,
           64,
           65,
           66,
           67,
           68,
           69,
           70,
           71,
           72,
           73,
           74,
           75,
           76,
           77,
           78,
           79,
           80,
           81,
           82,
           83,
           84,
           85,
           86,
           87,
           88,
           89,
           90,
           91,
           92,
           93,
           94,
           95,
           96,
           97,
           98,
           99
          ],
          "colorbar": {
           "title": {
            "text": "Trial"
           },
           "x": 1,
           "xpad": 40
          },
          "colorscale": [
           [
            0,
            "rgb(247,251,255)"
           ],
           [
            0.125,
            "rgb(222,235,247)"
           ],
           [
            0.25,
            "rgb(198,219,239)"
           ],
           [
            0.375,
            "rgb(158,202,225)"
           ],
           [
            0.5,
            "rgb(107,174,214)"
           ],
           [
            0.625,
            "rgb(66,146,198)"
           ],
           [
            0.75,
            "rgb(33,113,181)"
           ],
           [
            0.875,
            "rgb(8,81,156)"
           ],
           [
            1,
            "rgb(8,48,107)"
           ]
          ],
          "line": {
           "color": "Grey",
           "width": 0.5
          },
          "showscale": false
         },
         "mode": "markers",
         "name": "Feasible Trial",
         "showlegend": false,
         "type": "scatter",
         "x": [
          399,
          1241,
          830,
          626,
          1190,
          843,
          271,
          942,
          741,
          887,
          646,
          655,
          342,
          1460,
          396,
          694,
          295,
          1834,
          1883,
          1780,
          1686,
          1851,
          1549,
          1689,
          50,
          1514,
          1559,
          15,
          1484,
          1444,
          1995,
          1453,
          1978,
          1230,
          1135,
          1932,
          1975,
          1976,
          1233,
          1258,
          1325,
          1369,
          1397,
          1345,
          1651,
          1699,
          1675,
          1661,
          1637,
          1671,
          119,
          1040,
          147,
          498,
          1088,
          1001,
          522,
          1010,
          531,
          509,
          489,
          529,
          549,
          535,
          821,
          779,
          738,
          793,
          784,
          876,
          806,
          783,
          435,
          916,
          927,
          407,
          901,
          912,
          612,
          584,
          627,
          598,
          597,
          584,
          575,
          608,
          588,
          311,
          587,
          679,
          325,
          677,
          672,
          200,
          282,
          295,
          313,
          266,
          300,
          254
         ],
         "xaxis": "x6",
         "y": [
          0.25918780546737386,
          0.24136511712817424,
          0.2465615239280084,
          0.25115822313954944,
          0.2568988127703969,
          0.2578305927771244,
          0.2542366736484965,
          0.26284756632892037,
          0.26846132521493715,
          0.2618165851929443,
          0.24488446565493402,
          0.25522232587497057,
          0.24864027512903758,
          0.26494630014042164,
          0.24415809067025915,
          0.26379970149952076,
          0.2631089488157116,
          0.23623390966779212,
          0.2675447110195712,
          0.24056810683350308,
          0.24056810683350308,
          0.24056810683350308,
          0.24056810683350308,
          0.2727816710059261,
          0.26399317546325696,
          0.25198546240336755,
          0.25096222705811566,
          0.2420279204681923,
          0.251001822974958,
          0.24871580166628068,
          0.2553391891889701,
          0.24647377454699915,
          0.24296787361361616,
          0.24339589507584405,
          0.2608341023811974,
          0.2636581883297199,
          0.2637247386277226,
          0.26008262465703247,
          0.2593845315359622,
          0.26058082587260323,
          0.2395015712571778,
          0.2631179297909011,
          0.23481361907747558,
          0.23795022290936002,
          0.26341465023185845,
          0.2369395751197268,
          0.23639442197215443,
          0.23849457274407687,
          0.26474974377920196,
          0.2735201641251228,
          0.2616838515679711,
          0.2645961928239688,
          0.2673695931334317,
          0.2713211391396711,
          0.27184380995128027,
          0.2723666002189026,
          0.2632202544881209,
          0.2623380700534826,
          0.26364208141596596,
          0.2705759187943713,
          0.2625160978200192,
          0.27173390258527835,
          0.27184380995128027,
          0.27099230100222443,
          0.2654815999501785,
          0.26463593419418235,
          0.2635023549967177,
          0.2681747257267163,
          0.2629507936371719,
          0.2644140658101804,
          0.2645243071001747,
          0.26826244034378605,
          0.26430092715453113,
          0.2654815999501785,
          0.26304655883750316,
          0.26195615102092923,
          0.2683001439368017,
          0.2683874474337343,
          0.2628824617555269,
          0.273056200004886,
          0.271109809286613,
          0.26798646873518656,
          0.25866621422365577,
          0.26510499757219164,
          0.26713708317909923,
          0.2612873973418125,
          0.27310461961672217,
          0.27221441439152294,
          0.2651079972863831,
          0.2740001945736541,
          0.2757802177269359,
          0.2719717250179004,
          0.26674338292466815,
          0.2755100351853257,
          0.272136516536219,
          0.27014981946751665,
          0.2784558158371496,
          0.2742645811414543,
          0.273468315495806,
          0.27533565814693306
         ],
         "yaxis": "y6"
        }
       ],
       "layout": {
        "template": {
         "data": {
          "bar": [
           {
            "error_x": {
             "color": "#2a3f5f"
            },
            "error_y": {
             "color": "#2a3f5f"
            },
            "marker": {
             "line": {
              "color": "#E5ECF6",
              "width": 0.5
             },
             "pattern": {
              "fillmode": "overlay",
              "size": 10,
              "solidity": 0.2
             }
            },
            "type": "bar"
           }
          ],
          "barpolar": [
           {
            "marker": {
             "line": {
              "color": "#E5ECF6",
              "width": 0.5
             },
             "pattern": {
              "fillmode": "overlay",
              "size": 10,
              "solidity": 0.2
             }
            },
            "type": "barpolar"
           }
          ],
          "carpet": [
           {
            "aaxis": {
             "endlinecolor": "#2a3f5f",
             "gridcolor": "white",
             "linecolor": "white",
             "minorgridcolor": "white",
             "startlinecolor": "#2a3f5f"
            },
            "baxis": {
             "endlinecolor": "#2a3f5f",
             "gridcolor": "white",
             "linecolor": "white",
             "minorgridcolor": "white",
             "startlinecolor": "#2a3f5f"
            },
            "type": "carpet"
           }
          ],
          "choropleth": [
           {
            "colorbar": {
             "outlinewidth": 0,
             "ticks": ""
            },
            "type": "choropleth"
           }
          ],
          "contour": [
           {
            "colorbar": {
             "outlinewidth": 0,
             "ticks": ""
            },
            "colorscale": [
             [
              0,
              "#0d0887"
             ],
             [
              0.1111111111111111,
              "#46039f"
             ],
             [
              0.2222222222222222,
              "#7201a8"
             ],
             [
              0.3333333333333333,
              "#9c179e"
             ],
             [
              0.4444444444444444,
              "#bd3786"
             ],
             [
              0.5555555555555556,
              "#d8576b"
             ],
             [
              0.6666666666666666,
              "#ed7953"
             ],
             [
              0.7777777777777778,
              "#fb9f3a"
             ],
             [
              0.8888888888888888,
              "#fdca26"
             ],
             [
              1,
              "#f0f921"
             ]
            ],
            "type": "contour"
           }
          ],
          "contourcarpet": [
           {
            "colorbar": {
             "outlinewidth": 0,
             "ticks": ""
            },
            "type": "contourcarpet"
           }
          ],
          "heatmap": [
           {
            "colorbar": {
             "outlinewidth": 0,
             "ticks": ""
            },
            "colorscale": [
             [
              0,
              "#0d0887"
             ],
             [
              0.1111111111111111,
              "#46039f"
             ],
             [
              0.2222222222222222,
              "#7201a8"
             ],
             [
              0.3333333333333333,
              "#9c179e"
             ],
             [
              0.4444444444444444,
              "#bd3786"
             ],
             [
              0.5555555555555556,
              "#d8576b"
             ],
             [
              0.6666666666666666,
              "#ed7953"
             ],
             [
              0.7777777777777778,
              "#fb9f3a"
             ],
             [
              0.8888888888888888,
              "#fdca26"
             ],
             [
              1,
              "#f0f921"
             ]
            ],
            "type": "heatmap"
           }
          ],
          "heatmapgl": [
           {
            "colorbar": {
             "outlinewidth": 0,
             "ticks": ""
            },
            "colorscale": [
             [
              0,
              "#0d0887"
             ],
             [
              0.1111111111111111,
              "#46039f"
             ],
             [
              0.2222222222222222,
              "#7201a8"
             ],
             [
              0.3333333333333333,
              "#9c179e"
             ],
             [
              0.4444444444444444,
              "#bd3786"
             ],
             [
              0.5555555555555556,
              "#d8576b"
             ],
             [
              0.6666666666666666,
              "#ed7953"
             ],
             [
              0.7777777777777778,
              "#fb9f3a"
             ],
             [
              0.8888888888888888,
              "#fdca26"
             ],
             [
              1,
              "#f0f921"
             ]
            ],
            "type": "heatmapgl"
           }
          ],
          "histogram": [
           {
            "marker": {
             "pattern": {
              "fillmode": "overlay",
              "size": 10,
              "solidity": 0.2
             }
            },
            "type": "histogram"
           }
          ],
          "histogram2d": [
           {
            "colorbar": {
             "outlinewidth": 0,
             "ticks": ""
            },
            "colorscale": [
             [
              0,
              "#0d0887"
             ],
             [
              0.1111111111111111,
              "#46039f"
             ],
             [
              0.2222222222222222,
              "#7201a8"
             ],
             [
              0.3333333333333333,
              "#9c179e"
             ],
             [
              0.4444444444444444,
              "#bd3786"
             ],
             [
              0.5555555555555556,
              "#d8576b"
             ],
             [
              0.6666666666666666,
              "#ed7953"
             ],
             [
              0.7777777777777778,
              "#fb9f3a"
             ],
             [
              0.8888888888888888,
              "#fdca26"
             ],
             [
              1,
              "#f0f921"
             ]
            ],
            "type": "histogram2d"
           }
          ],
          "histogram2dcontour": [
           {
            "colorbar": {
             "outlinewidth": 0,
             "ticks": ""
            },
            "colorscale": [
             [
              0,
              "#0d0887"
             ],
             [
              0.1111111111111111,
              "#46039f"
             ],
             [
              0.2222222222222222,
              "#7201a8"
             ],
             [
              0.3333333333333333,
              "#9c179e"
             ],
             [
              0.4444444444444444,
              "#bd3786"
             ],
             [
              0.5555555555555556,
              "#d8576b"
             ],
             [
              0.6666666666666666,
              "#ed7953"
             ],
             [
              0.7777777777777778,
              "#fb9f3a"
             ],
             [
              0.8888888888888888,
              "#fdca26"
             ],
             [
              1,
              "#f0f921"
             ]
            ],
            "type": "histogram2dcontour"
           }
          ],
          "mesh3d": [
           {
            "colorbar": {
             "outlinewidth": 0,
             "ticks": ""
            },
            "type": "mesh3d"
           }
          ],
          "parcoords": [
           {
            "line": {
             "colorbar": {
              "outlinewidth": 0,
              "ticks": ""
             }
            },
            "type": "parcoords"
           }
          ],
          "pie": [
           {
            "automargin": true,
            "type": "pie"
           }
          ],
          "scatter": [
           {
            "fillpattern": {
             "fillmode": "overlay",
             "size": 10,
             "solidity": 0.2
            },
            "type": "scatter"
           }
          ],
          "scatter3d": [
           {
            "line": {
             "colorbar": {
              "outlinewidth": 0,
              "ticks": ""
             }
            },
            "marker": {
             "colorbar": {
              "outlinewidth": 0,
              "ticks": ""
             }
            },
            "type": "scatter3d"
           }
          ],
          "scattercarpet": [
           {
            "marker": {
             "colorbar": {
              "outlinewidth": 0,
              "ticks": ""
             }
            },
            "type": "scattercarpet"
           }
          ],
          "scattergeo": [
           {
            "marker": {
             "colorbar": {
              "outlinewidth": 0,
              "ticks": ""
             }
            },
            "type": "scattergeo"
           }
          ],
          "scattergl": [
           {
            "marker": {
             "colorbar": {
              "outlinewidth": 0,
              "ticks": ""
             }
            },
            "type": "scattergl"
           }
          ],
          "scattermapbox": [
           {
            "marker": {
             "colorbar": {
              "outlinewidth": 0,
              "ticks": ""
             }
            },
            "type": "scattermapbox"
           }
          ],
          "scatterpolar": [
           {
            "marker": {
             "colorbar": {
              "outlinewidth": 0,
              "ticks": ""
             }
            },
            "type": "scatterpolar"
           }
          ],
          "scatterpolargl": [
           {
            "marker": {
             "colorbar": {
              "outlinewidth": 0,
              "ticks": ""
             }
            },
            "type": "scatterpolargl"
           }
          ],
          "scatterternary": [
           {
            "marker": {
             "colorbar": {
              "outlinewidth": 0,
              "ticks": ""
             }
            },
            "type": "scatterternary"
           }
          ],
          "surface": [
           {
            "colorbar": {
             "outlinewidth": 0,
             "ticks": ""
            },
            "colorscale": [
             [
              0,
              "#0d0887"
             ],
             [
              0.1111111111111111,
              "#46039f"
             ],
             [
              0.2222222222222222,
              "#7201a8"
             ],
             [
              0.3333333333333333,
              "#9c179e"
             ],
             [
              0.4444444444444444,
              "#bd3786"
             ],
             [
              0.5555555555555556,
              "#d8576b"
             ],
             [
              0.6666666666666666,
              "#ed7953"
             ],
             [
              0.7777777777777778,
              "#fb9f3a"
             ],
             [
              0.8888888888888888,
              "#fdca26"
             ],
             [
              1,
              "#f0f921"
             ]
            ],
            "type": "surface"
           }
          ],
          "table": [
           {
            "cells": {
             "fill": {
              "color": "#EBF0F8"
             },
             "line": {
              "color": "white"
             }
            },
            "header": {
             "fill": {
              "color": "#C8D4E3"
             },
             "line": {
              "color": "white"
             }
            },
            "type": "table"
           }
          ]
         },
         "layout": {
          "annotationdefaults": {
           "arrowcolor": "#2a3f5f",
           "arrowhead": 0,
           "arrowwidth": 1
          },
          "autotypenumbers": "strict",
          "coloraxis": {
           "colorbar": {
            "outlinewidth": 0,
            "ticks": ""
           }
          },
          "colorscale": {
           "diverging": [
            [
             0,
             "#8e0152"
            ],
            [
             0.1,
             "#c51b7d"
            ],
            [
             0.2,
             "#de77ae"
            ],
            [
             0.3,
             "#f1b6da"
            ],
            [
             0.4,
             "#fde0ef"
            ],
            [
             0.5,
             "#f7f7f7"
            ],
            [
             0.6,
             "#e6f5d0"
            ],
            [
             0.7,
             "#b8e186"
            ],
            [
             0.8,
             "#7fbc41"
            ],
            [
             0.9,
             "#4d9221"
            ],
            [
             1,
             "#276419"
            ]
           ],
           "sequential": [
            [
             0,
             "#0d0887"
            ],
            [
             0.1111111111111111,
             "#46039f"
            ],
            [
             0.2222222222222222,
             "#7201a8"
            ],
            [
             0.3333333333333333,
             "#9c179e"
            ],
            [
             0.4444444444444444,
             "#bd3786"
            ],
            [
             0.5555555555555556,
             "#d8576b"
            ],
            [
             0.6666666666666666,
             "#ed7953"
            ],
            [
             0.7777777777777778,
             "#fb9f3a"
            ],
            [
             0.8888888888888888,
             "#fdca26"
            ],
            [
             1,
             "#f0f921"
            ]
           ],
           "sequentialminus": [
            [
             0,
             "#0d0887"
            ],
            [
             0.1111111111111111,
             "#46039f"
            ],
            [
             0.2222222222222222,
             "#7201a8"
            ],
            [
             0.3333333333333333,
             "#9c179e"
            ],
            [
             0.4444444444444444,
             "#bd3786"
            ],
            [
             0.5555555555555556,
             "#d8576b"
            ],
            [
             0.6666666666666666,
             "#ed7953"
            ],
            [
             0.7777777777777778,
             "#fb9f3a"
            ],
            [
             0.8888888888888888,
             "#fdca26"
            ],
            [
             1,
             "#f0f921"
            ]
           ]
          },
          "colorway": [
           "#636efa",
           "#EF553B",
           "#00cc96",
           "#ab63fa",
           "#FFA15A",
           "#19d3f3",
           "#FF6692",
           "#B6E880",
           "#FF97FF",
           "#FECB52"
          ],
          "font": {
           "color": "#2a3f5f"
          },
          "geo": {
           "bgcolor": "white",
           "lakecolor": "white",
           "landcolor": "#E5ECF6",
           "showlakes": true,
           "showland": true,
           "subunitcolor": "white"
          },
          "hoverlabel": {
           "align": "left"
          },
          "hovermode": "closest",
          "mapbox": {
           "style": "light"
          },
          "paper_bgcolor": "white",
          "plot_bgcolor": "#E5ECF6",
          "polar": {
           "angularaxis": {
            "gridcolor": "white",
            "linecolor": "white",
            "ticks": ""
           },
           "bgcolor": "#E5ECF6",
           "radialaxis": {
            "gridcolor": "white",
            "linecolor": "white",
            "ticks": ""
           }
          },
          "scene": {
           "xaxis": {
            "backgroundcolor": "#E5ECF6",
            "gridcolor": "white",
            "gridwidth": 2,
            "linecolor": "white",
            "showbackground": true,
            "ticks": "",
            "zerolinecolor": "white"
           },
           "yaxis": {
            "backgroundcolor": "#E5ECF6",
            "gridcolor": "white",
            "gridwidth": 2,
            "linecolor": "white",
            "showbackground": true,
            "ticks": "",
            "zerolinecolor": "white"
           },
           "zaxis": {
            "backgroundcolor": "#E5ECF6",
            "gridcolor": "white",
            "gridwidth": 2,
            "linecolor": "white",
            "showbackground": true,
            "ticks": "",
            "zerolinecolor": "white"
           }
          },
          "shapedefaults": {
           "line": {
            "color": "#2a3f5f"
           }
          },
          "ternary": {
           "aaxis": {
            "gridcolor": "white",
            "linecolor": "white",
            "ticks": ""
           },
           "baxis": {
            "gridcolor": "white",
            "linecolor": "white",
            "ticks": ""
           },
           "bgcolor": "#E5ECF6",
           "caxis": {
            "gridcolor": "white",
            "linecolor": "white",
            "ticks": ""
           }
          },
          "title": {
           "x": 0.05
          },
          "xaxis": {
           "automargin": true,
           "gridcolor": "white",
           "linecolor": "white",
           "ticks": "",
           "title": {
            "standoff": 15
           },
           "zerolinecolor": "white",
           "zerolinewidth": 2
          },
          "yaxis": {
           "automargin": true,
           "gridcolor": "white",
           "linecolor": "white",
           "ticks": "",
           "title": {
            "standoff": 15
           },
           "zerolinecolor": "white",
           "zerolinewidth": 2
          }
         }
        },
        "title": {
         "text": "Slice Plot"
        },
        "width": 1800,
        "xaxis": {
         "anchor": "y",
         "categoryarray": [
          "gini",
          "entropy",
          "log_loss"
         ],
         "categoryorder": "array",
         "domain": [
          0,
          0.1388888888888889
         ],
         "title": {
          "text": "criterion"
         },
         "type": "category"
        },
        "xaxis2": {
         "anchor": "y2",
         "domain": [
          0.17222222222222222,
          0.3111111111111111
         ],
         "title": {
          "text": "max_depth"
         },
         "type": "log"
        },
        "xaxis3": {
         "anchor": "y3",
         "categoryarray": [
          1,
          2,
          5,
          10,
          null,
          "sqrt",
          "log2"
         ],
         "categoryorder": "array",
         "domain": [
          0.34444444444444444,
          0.48333333333333334
         ],
         "title": {
          "text": "max_features"
         },
         "type": "category"
        },
        "xaxis4": {
         "anchor": "y4",
         "domain": [
          0.5166666666666667,
          0.6555555555555557
         ],
         "title": {
          "text": "min_samples_leaf"
         }
        },
        "xaxis5": {
         "anchor": "y5",
         "domain": [
          0.6888888888888889,
          0.8277777777777777
         ],
         "title": {
          "text": "min_samples_split"
         }
        },
        "xaxis6": {
         "anchor": "y6",
         "domain": [
          0.861111111111111,
          1
         ],
         "title": {
          "text": "n_estimators"
         }
        },
        "yaxis": {
         "anchor": "x",
         "domain": [
          0,
          1
         ],
         "title": {
          "text": "Objective Value"
         }
        },
        "yaxis2": {
         "anchor": "x2",
         "domain": [
          0,
          1
         ],
         "matches": "y",
         "showticklabels": false
        },
        "yaxis3": {
         "anchor": "x3",
         "domain": [
          0,
          1
         ],
         "matches": "y",
         "showticklabels": false
        },
        "yaxis4": {
         "anchor": "x4",
         "domain": [
          0,
          1
         ],
         "matches": "y",
         "showticklabels": false
        },
        "yaxis5": {
         "anchor": "x5",
         "domain": [
          0,
          1
         ],
         "matches": "y",
         "showticklabels": false
        },
        "yaxis6": {
         "anchor": "x6",
         "domain": [
          0,
          1
         ],
         "matches": "y",
         "showticklabels": false
        }
       }
      }
     },
     "metadata": {},
     "output_type": "display_data"
    }
   ],
   "source": [
    "optuna.visualization.plot_slice(study)"
   ]
  },
  {
   "cell_type": "markdown",
   "metadata": {},
   "source": [
    "### By F1"
   ]
  },
  {
   "cell_type": "code",
   "execution_count": 35,
   "metadata": {},
   "outputs": [],
   "source": [
    "def objective_f1(trial):\n",
    "    n_estimators = trial.suggest_int('n_estimators', 10, 2_000)\n",
    "    max_depth = trial.suggest_int('max_depth', 2, 32, log=True)\n",
    "    min_samples_split = trial.suggest_int('min_samples_split', 2, 20)\n",
    "    min_samples_leaf = trial.suggest_int('min_samples_leaf', 1, 20)\n",
    "    max_features = trial.suggest_categorical('max_features', [1, 2, 5, 10, None, 'sqrt', 'log2'])\n",
    "    criterion = trial.suggest_categorical('criterion', ['gini', 'entropy', 'log_loss'])\n",
    "\n",
    "    clf = RandomForestClassifier(\n",
    "        n_estimators=n_estimators,\n",
    "        max_depth=max_depth,\n",
    "        min_samples_split=min_samples_split,\n",
    "        min_samples_leaf=min_samples_leaf,\n",
    "        max_features=max_features,\n",
    "        criterion=criterion,\n",
    "        random_state=42\n",
    "    )\n",
    "\n",
    "    y_pred = cross_val_predict(clf, X_train_preprocessed, y_train_preprocessed, cv=3, n_jobs=-1)\n",
    "    f1 = f1_score(y_train_preprocessed, y_pred)\n",
    "    return f1\n"
   ]
  },
  {
   "cell_type": "code",
   "execution_count": null,
   "metadata": {},
   "outputs": [
    {
     "name": "stderr",
     "output_type": "stream",
     "text": [
      "[I 2024-11-07 10:45:13,599] A new study created in memory with name: no-name-766d4c77-18dc-4937-bd6e-26d1b79d0bef\n",
      "[I 2024-11-07 10:45:23,714] Trial 0 finished with value: 0.1725780836421387 and parameters: {'n_estimators': 802, 'max_depth': 5, 'min_samples_split': 4, 'min_samples_leaf': 17, 'max_features': 1, 'criterion': 'log_loss'}. Best is trial 0 with value: 0.1725780836421387.\n",
      "[I 2024-11-07 10:45:26,312] Trial 4 finished with value: 0.17030335284725917 and parameters: {'n_estimators': 1316, 'max_depth': 2, 'min_samples_split': 5, 'min_samples_leaf': 15, 'max_features': 2, 'criterion': 'entropy'}. Best is trial 0 with value: 0.1725780836421387.\n",
      "[I 2024-11-07 10:45:26,591] Trial 5 finished with value: 0.1916105644743656 and parameters: {'n_estimators': 48, 'max_depth': 7, 'min_samples_split': 9, 'min_samples_leaf': 14, 'max_features': 1, 'criterion': 'log_loss'}. Best is trial 5 with value: 0.1916105644743656.\n",
      "[I 2024-11-07 10:45:45,829] Trial 6 finished with value: 0.35482436638506004 and parameters: {'n_estimators': 1556, 'max_depth': 10, 'min_samples_split': 20, 'min_samples_leaf': 1, 'max_features': 2, 'criterion': 'log_loss'}. Best is trial 6 with value: 0.35482436638506004.\n",
      "[I 2024-11-07 10:45:50,886] Trial 2 finished with value: 0.4133388225607246 and parameters: {'n_estimators': 1012, 'max_depth': 15, 'min_samples_split': 7, 'min_samples_leaf': 4, 'max_features': 'sqrt', 'criterion': 'gini'}. Best is trial 2 with value: 0.4133388225607246.\n",
      "[I 2024-11-07 10:45:55,257] Trial 1 finished with value: 0.36512731981009927 and parameters: {'n_estimators': 539, 'max_depth': 3, 'min_samples_split': 5, 'min_samples_leaf': 19, 'max_features': 10, 'criterion': 'gini'}. Best is trial 2 with value: 0.4133388225607246.\n",
      "[I 2024-11-07 10:46:00,062] Trial 8 finished with value: 0.17127659574468085 and parameters: {'n_estimators': 961, 'max_depth': 2, 'min_samples_split': 10, 'min_samples_leaf': 14, 'max_features': 2, 'criterion': 'entropy'}. Best is trial 2 with value: 0.4133388225607246.\n",
      "[I 2024-11-07 10:46:13,691] Trial 7 finished with value: 0.3707865168539326 and parameters: {'n_estimators': 1655, 'max_depth': 8, 'min_samples_split': 6, 'min_samples_leaf': 19, 'max_features': 5, 'criterion': 'log_loss'}. Best is trial 2 with value: 0.4133388225607246.\n",
      "[I 2024-11-07 10:46:19,218] Trial 9 finished with value: 0.36498257839721254 and parameters: {'n_estimators': 1405, 'max_depth': 7, 'min_samples_split': 9, 'min_samples_leaf': 16, 'max_features': 5, 'criterion': 'log_loss'}. Best is trial 2 with value: 0.4133388225607246.\n",
      "[I 2024-11-07 10:46:26,518] Trial 11 finished with value: 0.14463032919589855 and parameters: {'n_estimators': 761, 'max_depth': 3, 'min_samples_split': 12, 'min_samples_leaf': 8, 'max_features': 1, 'criterion': 'entropy'}. Best is trial 2 with value: 0.4133388225607246.\n",
      "[I 2024-11-07 10:46:45,984] Trial 3 finished with value: 0.40081135902636916 and parameters: {'n_estimators': 1212, 'max_depth': 16, 'min_samples_split': 9, 'min_samples_leaf': 13, 'max_features': None, 'criterion': 'log_loss'}. Best is trial 2 with value: 0.4133388225607246.\n",
      "[I 2024-11-07 10:46:50,268] Trial 12 finished with value: 0.3434433541480821 and parameters: {'n_estimators': 1163, 'max_depth': 4, 'min_samples_split': 13, 'min_samples_leaf': 14, 'max_features': 10, 'criterion': 'log_loss'}. Best is trial 2 with value: 0.4133388225607246.\n",
      "[I 2024-11-07 10:46:59,820] Trial 13 finished with value: 0.3901625677365569 and parameters: {'n_estimators': 542, 'max_depth': 15, 'min_samples_split': 6, 'min_samples_leaf': 11, 'max_features': 5, 'criterion': 'log_loss'}. Best is trial 2 with value: 0.4133388225607246.\n",
      "[I 2024-11-07 10:47:01,341] Trial 14 finished with value: 0.3961554534057668 and parameters: {'n_estimators': 277, 'max_depth': 8, 'min_samples_split': 7, 'min_samples_leaf': 7, 'max_features': 10, 'criterion': 'gini'}. Best is trial 2 with value: 0.4133388225607246.\n",
      "[I 2024-11-07 10:47:06,552] Trial 15 finished with value: 0.22334004024144868 and parameters: {'n_estimators': 1247, 'max_depth': 10, 'min_samples_split': 11, 'min_samples_leaf': 15, 'max_features': 1, 'criterion': 'gini'}. Best is trial 2 with value: 0.4133388225607246.\n",
      "[I 2024-11-07 10:47:14,359] Trial 10 finished with value: 0.3955408753096614 and parameters: {'n_estimators': 1085, 'max_depth': 10, 'min_samples_split': 4, 'min_samples_leaf': 18, 'max_features': None, 'criterion': 'entropy'}. Best is trial 2 with value: 0.4133388225607246.\n",
      "[I 2024-11-07 10:47:27,830] Trial 16 finished with value: 0.3660869565217391 and parameters: {'n_estimators': 1895, 'max_depth': 30, 'min_samples_split': 6, 'min_samples_leaf': 8, 'max_features': 2, 'criterion': 'log_loss'}. Best is trial 2 with value: 0.4133388225607246.\n",
      "[I 2024-11-07 10:47:34,940] Trial 17 finished with value: 0.41504854368932037 and parameters: {'n_estimators': 1911, 'max_depth': 26, 'min_samples_split': 15, 'min_samples_leaf': 4, 'max_features': 'sqrt', 'criterion': 'gini'}. Best is trial 17 with value: 0.41504854368932037.\n",
      "[I 2024-11-07 10:48:30,743] Trial 20 finished with value: 0.41281427412814276 and parameters: {'n_estimators': 1860, 'max_depth': 30, 'min_samples_split': 15, 'min_samples_leaf': 4, 'max_features': 'sqrt', 'criterion': 'gini'}. Best is trial 17 with value: 0.41504854368932037.\n",
      "[I 2024-11-07 10:48:53,344] Trial 18 finished with value: 0.4204322200392927 and parameters: {'n_estimators': 1897, 'max_depth': 23, 'min_samples_split': 15, 'min_samples_leaf': 7, 'max_features': None, 'criterion': 'gini'}. Best is trial 18 with value: 0.4204322200392927.\n",
      "[I 2024-11-07 10:49:00,549] Trial 19 finished with value: 0.4184761152783261 and parameters: {'n_estimators': 1955, 'max_depth': 22, 'min_samples_split': 16, 'min_samples_leaf': 8, 'max_features': None, 'criterion': 'gini'}. Best is trial 18 with value: 0.4204322200392927.\n",
      "[I 2024-11-07 10:49:27,132] Trial 22 finished with value: 0.4328767123287671 and parameters: {'n_estimators': 1863, 'max_depth': 28, 'min_samples_split': 2, 'min_samples_leaf': 2, 'max_features': 'sqrt', 'criterion': 'gini'}. Best is trial 22 with value: 0.4328767123287671.\n",
      "[I 2024-11-07 10:49:45,097] Trial 23 finished with value: 0.4223203532717784 and parameters: {'n_estimators': 1919, 'max_depth': 29, 'min_samples_split': 15, 'min_samples_leaf': 2, 'max_features': 'sqrt', 'criterion': 'gini'}. Best is trial 22 with value: 0.4328767123287671.\n",
      "[I 2024-11-07 10:49:55,169] Trial 24 finished with value: 0.41922455573505657 and parameters: {'n_estimators': 1833, 'max_depth': 20, 'min_samples_split': 15, 'min_samples_leaf': 2, 'max_features': 'sqrt', 'criterion': 'gini'}. Best is trial 22 with value: 0.4328767123287671.\n",
      "[I 2024-11-07 10:50:17,070] Trial 21 finished with value: 0.436198409693298 and parameters: {'n_estimators': 1887, 'max_depth': 27, 'min_samples_split': 2, 'min_samples_leaf': 2, 'max_features': None, 'criterion': 'gini'}. Best is trial 21 with value: 0.436198409693298.\n",
      "[I 2024-11-07 10:50:22,215] Trial 25 finished with value: 0.42261427425821974 and parameters: {'n_estimators': 1975, 'max_depth': 31, 'min_samples_split': 15, 'min_samples_leaf': 2, 'max_features': 'sqrt', 'criterion': 'gini'}. Best is trial 21 with value: 0.436198409693298.\n",
      "[I 2024-11-07 10:50:30,216] Trial 26 finished with value: 0.42901960784313725 and parameters: {'n_estimators': 1978, 'max_depth': 20, 'min_samples_split': 2, 'min_samples_leaf': 1, 'max_features': 'sqrt', 'criterion': 'gini'}. Best is trial 21 with value: 0.436198409693298.\n",
      "[I 2024-11-07 10:50:48,073] Trial 27 finished with value: 0.41080196399345337 and parameters: {'n_estimators': 1997, 'max_depth': 21, 'min_samples_split': 17, 'min_samples_leaf': 5, 'max_features': 'log2', 'criterion': 'gini'}. Best is trial 21 with value: 0.436198409693298.\n",
      "[I 2024-11-07 10:51:50,559] Trial 30 finished with value: 0.43186255368996485 and parameters: {'n_estimators': 1683, 'max_depth': 21, 'min_samples_split': 2, 'min_samples_leaf': 1, 'max_features': 'log2', 'criterion': 'gini'}. Best is trial 21 with value: 0.436198409693298.\n",
      "[I 2024-11-07 10:52:18,787] Trial 28 finished with value: 0.4246682279469165 and parameters: {'n_estimators': 1989, 'max_depth': 26, 'min_samples_split': 16, 'min_samples_leaf': 5, 'max_features': None, 'criterion': 'gini'}. Best is trial 21 with value: 0.436198409693298.\n",
      "[I 2024-11-07 10:52:23,055] Trial 29 finished with value: 0.4353120243531202 and parameters: {'n_estimators': 1693, 'max_depth': 22, 'min_samples_split': 2, 'min_samples_leaf': 2, 'max_features': None, 'criterion': 'gini'}. Best is trial 21 with value: 0.436198409693298.\n",
      "[I 2024-11-07 10:52:24,621] Trial 31 finished with value: 0.4047815333882935 and parameters: {'n_estimators': 1656, 'max_depth': 20, 'min_samples_split': 19, 'min_samples_leaf': 6, 'max_features': 'log2', 'criterion': 'gini'}. Best is trial 21 with value: 0.436198409693298.\n",
      "[I 2024-11-07 10:52:45,350] Trial 32 finished with value: 0.43158717748240816 and parameters: {'n_estimators': 1669, 'max_depth': 32, 'min_samples_split': 2, 'min_samples_leaf': 2, 'max_features': 'log2', 'criterion': 'gini'}. Best is trial 21 with value: 0.436198409693298.\n",
      "[I 2024-11-07 10:52:52,908] Trial 33 finished with value: 0.4103194103194103 and parameters: {'n_estimators': 1685, 'max_depth': 18, 'min_samples_split': 3, 'min_samples_leaf': 5, 'max_features': 'log2', 'criterion': 'gini'}. Best is trial 21 with value: 0.436198409693298.\n",
      "[I 2024-11-07 10:53:07,235] Trial 34 finished with value: 0.41241322988975093 and parameters: {'n_estimators': 1536, 'max_depth': 18, 'min_samples_split': 2, 'min_samples_leaf': 5, 'max_features': 'log2', 'criterion': 'gini'}. Best is trial 21 with value: 0.436198409693298.\n",
      "[I 2024-11-07 10:53:16,795] Trial 36 finished with value: 0.39446076374318084 and parameters: {'n_estimators': 1715, 'max_depth': 12, 'min_samples_split': 2, 'min_samples_leaf': 5, 'max_features': 'log2', 'criterion': 'gini'}. Best is trial 21 with value: 0.436198409693298.\n",
      "[I 2024-11-07 10:53:18,722] Trial 35 finished with value: 0.4260731319554849 and parameters: {'n_estimators': 1701, 'max_depth': 18, 'min_samples_split': 2, 'min_samples_leaf': 1, 'max_features': 'log2', 'criterion': 'gini'}. Best is trial 21 with value: 0.436198409693298.\n",
      "[I 2024-11-07 10:53:42,325] Trial 37 finished with value: 0.41710794297352344 and parameters: {'n_estimators': 1708, 'max_depth': 16, 'min_samples_split': 2, 'min_samples_leaf': 3, 'max_features': 'log2', 'criterion': 'gini'}. Best is trial 21 with value: 0.436198409693298.\n",
      "[I 2024-11-07 10:53:43,718] Trial 38 finished with value: 0.4159220146222583 and parameters: {'n_estimators': 1696, 'max_depth': 17, 'min_samples_split': 2, 'min_samples_leaf': 3, 'max_features': 'log2', 'criterion': 'gini'}. Best is trial 21 with value: 0.436198409693298.\n",
      "[I 2024-11-07 10:53:46,554] Trial 39 finished with value: 0.40548400498545906 and parameters: {'n_estimators': 1718, 'max_depth': 13, 'min_samples_split': 2, 'min_samples_leaf': 3, 'max_features': 'log2', 'criterion': 'gini'}. Best is trial 21 with value: 0.436198409693298.\n",
      "[I 2024-11-07 10:54:04,541] Trial 40 finished with value: 0.40714582467802246 and parameters: {'n_estimators': 1496, 'max_depth': 13, 'min_samples_split': 3, 'min_samples_leaf': 3, 'max_features': 'log2', 'criterion': 'gini'}. Best is trial 21 with value: 0.436198409693298.\n",
      "[I 2024-11-07 10:54:52,256] Trial 41 finished with value: 0.41456582633053224 and parameters: {'n_estimators': 1487, 'max_depth': 13, 'min_samples_split': 3, 'min_samples_leaf': 3, 'max_features': None, 'criterion': 'gini'}. Best is trial 21 with value: 0.436198409693298.\n",
      "[I 2024-11-07 10:55:15,287] Trial 42 finished with value: 0.41429144921718186 and parameters: {'n_estimators': 1754, 'max_depth': 13, 'min_samples_split': 4, 'min_samples_leaf': 3, 'max_features': None, 'criterion': 'gini'}. Best is trial 21 with value: 0.436198409693298.\n",
      "[I 2024-11-07 10:55:58,073] Trial 43 finished with value: 0.4164012738853503 and parameters: {'n_estimators': 1473, 'max_depth': 14, 'min_samples_split': 4, 'min_samples_leaf': 3, 'max_features': None, 'criterion': 'gini'}. Best is trial 21 with value: 0.436198409693298.\n",
      "[I 2024-11-07 10:56:46,551] Trial 44 finished with value: 0.40553745928338764 and parameters: {'n_estimators': 1420, 'max_depth': 13, 'min_samples_split': 4, 'min_samples_leaf': 3, 'max_features': None, 'criterion': 'entropy'}. Best is trial 21 with value: 0.436198409693298.\n"
     ]
    }
   ],
   "source": [
    "study_f1 = optuna.create_study(direction='maximize')\n",
    "study_f1.optimize(objective_f1, n_trials=100, n_jobs=-1)"
   ]
  },
  {
   "cell_type": "code",
   "execution_count": null,
   "metadata": {},
   "outputs": [],
   "source": [
    "print(\"Best hyperparameters F1: \", study_f1.best_params)\n",
    "\n",
    "best_params_f1 = study_f1.best_params\n",
    "best_clf_f1 = RandomForestClassifier(\n",
    "    n_estimators=best_params['n_estimators'],\n",
    "    max_depth=best_params['max_depth'],\n",
    "    min_samples_split=best_params['min_samples_split'],\n",
    "    min_samples_leaf=best_params['min_samples_leaf'],\n",
    "    max_features=best_params['max_features'],\n",
    "    random_state=42\n",
    ")\n",
    "best_clf_f1.fit(X_train_preprocessed, y_train_preprocessed.values.ravel())"
   ]
  },
  {
   "cell_type": "code",
   "execution_count": null,
   "metadata": {},
   "outputs": [],
   "source": [
    "best_pred_f1 = best_clf_f1.predict(X_test_preprocessed_np)\n",
    "print_metrics(y_test_preprocessed, best_pred_f1)"
   ]
  },
  {
   "cell_type": "code",
   "execution_count": null,
   "metadata": {},
   "outputs": [],
   "source": [
    "optuna.visualization.plot_optimization_history(study_f1)"
   ]
  },
  {
   "cell_type": "code",
   "execution_count": null,
   "metadata": {},
   "outputs": [],
   "source": [
    "optuna.visualization.plot_param_importances(study_f1)"
   ]
  },
  {
   "cell_type": "code",
   "execution_count": null,
   "metadata": {},
   "outputs": [],
   "source": [
    "optuna.visualization.plot_parallel_coordinate(study_f1)"
   ]
  },
  {
   "cell_type": "code",
   "execution_count": null,
   "metadata": {},
   "outputs": [],
   "source": [
    "optuna.visualization.plot_slice(study_f1)"
   ]
  },
  {
   "cell_type": "code",
   "execution_count": null,
   "metadata": {},
   "outputs": [],
   "source": []
  }
 ],
 "metadata": {
  "kernelspec": {
   "display_name": "PGM",
   "language": "python",
   "name": "python3"
  },
  "language_info": {
   "codemirror_mode": {
    "name": "ipython",
    "version": 3
   },
   "file_extension": ".py",
   "mimetype": "text/x-python",
   "name": "python",
   "nbconvert_exporter": "python",
   "pygments_lexer": "ipython3",
   "version": "3.10.13"
  }
 },
 "nbformat": 4,
 "nbformat_minor": 2
}
